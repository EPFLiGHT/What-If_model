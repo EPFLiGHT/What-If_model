{
 "cells": [
  {
   "cell_type": "code",
   "execution_count": 1,
   "id": "universal-percentage",
   "metadata": {
    "tags": []
   },
   "outputs": [],
   "source": [
    "import pandas as pd\n",
    "import numpy as np\n",
    "import yaml\n",
    "import pycountry\n",
    "import pycountry_convert as pc\n",
    "from datetime import datetime\n",
    "import matplotlib.pyplot as plt\n",
    "%matplotlib inline"
   ]
  },
  {
   "cell_type": "code",
   "execution_count": 2,
   "id": "heard-spray",
   "metadata": {},
   "outputs": [
    {
     "name": "stderr",
     "output_type": "stream",
     "text": [
      "/Users/francescoposa/opt/anaconda3/envs/personal/lib/python3.8/site-packages/IPython/core/interactiveshell.py:3165: DtypeWarning: Columns (70,71,72,73,74,75,76,77,78) have mixed types.Specify dtype option on import or set low_memory=False.\n",
      "  has_raised = await self.run_ast_nodes(code_ast.body, cell_name,\n"
     ]
    }
   ],
   "source": [
    "data_swissre = pd.read_csv('./data/economic_weighted.csv', parse_dates=['date']).set_index('date')\n",
    "\n",
    "iso_codes = ['AUT','BEL', 'BGR', 'HRV', 'CYP', 'CZE', 'DNK', 'EST', 'FIN', 'FRA', 'DEU', 'GRC', 'HUN', 'IRL', 'ITA', 'LVA', 'LTU', 'LUX', 'MLT', 'NLD', 'POL', 'PRT', 'ROU', 'SVK', 'SVN', 'ESP', 'SWE', 'GBR', 'CHE', 'NOR']\n",
    "\n",
    "data_swissre = data_swissre[data_swissre['iso_code'].isin(iso_codes)]"
   ]
  },
  {
   "cell_type": "markdown",
   "id": "swiss-reservoir",
   "metadata": {},
   "source": [
    "# Selecting columns for the first model"
   ]
  },
  {
   "cell_type": "code",
   "execution_count": 3,
   "id": "given-championship",
   "metadata": {},
   "outputs": [],
   "source": [
    "with open('config/economic_features.yaml', 'r', encoding='utf-8') as file:\n",
    "    swissre_features = yaml.load(file, Loader=yaml.FullLoader)"
   ]
  },
  {
   "cell_type": "code",
   "execution_count": 4,
   "id": "cosmetic-appreciation",
   "metadata": {},
   "outputs": [],
   "source": [
    "columns_to_use= swissre_features['main'] +\\\n",
    "            swissre_features['demography'] +\\\n",
    "            swissre_features['sanitary'] +\\\n",
    "            swissre_features['weather'] +\\\n",
    "            swissre_features['economic'] +\\\n",
    "            swissre_features['policies']+\\\n",
    "            swissre_features['outcome']\n",
    "            #swissre_features['vaccines'] +\\\n",
    "\n",
    "rep_rate = 'epiforecasts_effective_reproduction_number_median'"
   ]
  },
  {
   "cell_type": "code",
   "execution_count": 5,
   "id": "moved-louisiana",
   "metadata": {},
   "outputs": [
    {
     "data": {
      "text/plain": [
       "Index(['name', 'iso_code', 'cases', 'weight',\n",
       "       'epiforecasts_effective_reproduction_number_median',\n",
       "       'total_population_all', 'total_population_below_1',\n",
       "       'total_population_1_to_4', 'total_population_5_to_14',\n",
       "       'total_population_15_to_24', 'total_population_25_to_34',\n",
       "       'total_population_35_to_54', 'total_population_55_to_74',\n",
       "       'total_population_above_75', 'population_percentage_over_60',\n",
       "       'hospital_beds_per_1000', 'physicians_per_1000', 'nurses_per_1000',\n",
       "       'maxtempC', 'mintempC', 'tempC', 'FeelsLikeC', 'humidity', 'pressure',\n",
       "       'HeatIndexC', 'uvIndex', 'totalSnow_cm', 'sunHour', 'windspeedKmph',\n",
       "       'precipMM', 'unemployment_rate_2021_09_30',\n",
       "       'unemployment_rate_2021_12_31', 'unemployment_rate_2019_03_31',\n",
       "       'unemployment_rate_2019_06_30', 'unemployment_rate_2019_09_30',\n",
       "       'unemployment_rate_2019_12_31', 'gdp_2019_03_31', 'gdp_2019_06_30',\n",
       "       'gdp_2019_09_30', 'gdp_2019_12_31', 'gdp_2020_03_31', 'gdp_2020_06_30',\n",
       "       'gdp_2020_09_30', 'gdp_2020_12_31', 'gdp_2021_03_31', 'gdp_2021_06_30',\n",
       "       'gdp_2021_09_30', 'gdp_2021_12_31', 'school_closing',\n",
       "       'workplace_closing', 'cancel_public_events',\n",
       "       'restrictions_on_gatherings', 'close_public_transport',\n",
       "       'stay_at_home_requirements', 'public_information_campaigns',\n",
       "       'restrictions_on_internal_movement', 'international_travel_controls',\n",
       "       'unemployment_rate_idx'],\n",
       "      dtype='object')"
      ]
     },
     "execution_count": 5,
     "metadata": {},
     "output_type": "execute_result"
    }
   ],
   "source": [
    "df = data_swissre[columns_to_use].copy()\n",
    "df.columns"
   ]
  },
  {
   "cell_type": "code",
   "execution_count": 6,
   "id": "accomplished-avenue",
   "metadata": {},
   "outputs": [],
   "source": [
    "# Taking the data starting from the 1st of april. ALTERNATIVE: use days since outbreak\n",
    "df = df[df.index >= '2020-04-01'].sort_index() #"
   ]
  },
  {
   "cell_type": "code",
   "execution_count": 7,
   "id": "existing-pride",
   "metadata": {},
   "outputs": [],
   "source": [
    "# Filtering for valid countries: \n",
    "def filter_valid_countries(data, min_ratio):\n",
    "    iso_codes = []\n",
    "    for iso_code in data.iso_code.unique():\n",
    "        data_country = data[data.iso_code == iso_code]['epiforecasts_effective_reproduction_number_median'].dropna()\n",
    "        n_values = data_country.shape[0]\n",
    "\n",
    "    # If rows exist for that country with a valid r_estim value\n",
    "        if n_values > 0:\n",
    "            n_days = (data_country.index[-1] - data_country.index[0]).days + 1\n",
    "            #print(n_days)\n",
    "            ratio = n_values / n_days\n",
    "\n",
    "            if ratio > min_ratio:\n",
    "                iso_codes.append(iso_code)\n",
    "            \n",
    "    return data[data['iso_code'].isin(iso_codes)]\n",
    "\n",
    "df = filter_valid_countries(df, 0.9)"
   ]
  },
  {
   "cell_type": "code",
   "execution_count": 8,
   "id": "administrative-boston",
   "metadata": {},
   "outputs": [
    {
     "name": "stdout",
     "output_type": "stream",
     "text": [
      "Number of countries: 30\n"
     ]
    }
   ],
   "source": [
    "print(f\"Number of countries: {len(df.iso_code.unique())}\")"
   ]
  },
  {
   "cell_type": "code",
   "execution_count": 9,
   "id": "theoretical-banner",
   "metadata": {},
   "outputs": [],
   "source": [
    "# Putting NaN where the estimated reproduction number is larger than 4\n",
    "df[rep_rate] = np.where(df[rep_rate] >= 4, np.nan, df[rep_rate])"
   ]
  },
  {
   "cell_type": "code",
   "execution_count": 10,
   "id": "challenging-evans",
   "metadata": {},
   "outputs": [],
   "source": [
    "# Shifting the reproduction rate by 11 days for each country\n",
    "df['date_index'] = df.index\n",
    "df = df.sort_values(by = ['iso_code', 'date_index'])\n",
    "df['shifted_r_estim'] = df[rep_rate]"
   ]
  },
  {
   "cell_type": "code",
   "execution_count": 11,
   "id": "growing-flour",
   "metadata": {},
   "outputs": [
    {
     "name": "stdout",
     "output_type": "stream",
     "text": [
      "Number of countries: 30\n"
     ]
    }
   ],
   "source": [
    "# retaining only the countries that exceeded 2000 casese\n",
    "iso_codes = list(df[df['cases'] > 2000]['iso_code'].unique())\n",
    "df = df[df['iso_code'].isin(iso_codes)]\n",
    "print(f\"Number of countries: {len(df.iso_code.unique())}\")"
   ]
  },
  {
   "cell_type": "code",
   "execution_count": 12,
   "id": "remarkable-museum",
   "metadata": {},
   "outputs": [],
   "source": [
    "# The dataset does not include this data, while it is available\n",
    "df.loc[df['iso_code'] == 'CYP', 'population_percentage_over_60'] = 19.79"
   ]
  },
  {
   "cell_type": "markdown",
   "id": "sunset-questionnaire",
   "metadata": {},
   "source": [
    "# Training the first model"
   ]
  },
  {
   "cell_type": "code",
   "execution_count": 13,
   "id": "palestinian-bloom",
   "metadata": {},
   "outputs": [],
   "source": [
    "from classes.context import Context\n",
    "from classes.pipeline import Pipeline\n",
    "from classes.plot import Plot\n",
    "import matplotlib.patches as mpatches"
   ]
  },
  {
   "cell_type": "code",
   "execution_count": 14,
   "id": "vital-newspaper",
   "metadata": {},
   "outputs": [
    {
     "name": "stderr",
     "output_type": "stream",
     "text": [
      "Global seed set to 42\n",
      "Global seed set to 42\n"
     ]
    },
    {
     "name": "stdout",
     "output_type": "stream",
     "text": [
      "Training the model...\n",
      "\n"
     ]
    },
    {
     "name": "stderr",
     "output_type": "stream",
     "text": [
      "Global seed set to 42\n",
      "GPU available: False, used: False\n",
      "TPU available: False, using: 0 TPU cores\n",
      "\n",
      "  | Name     | Type   | Params\n",
      "------------------------------------\n",
      "0 | lstm_1   | LSTM   | 2.6 K \n",
      "1 | linear_1 | Linear | 1.6 K \n",
      "2 | linear_2 | ReLU   | 0     \n",
      "3 | mixed_1  | Linear | 1.1 K \n",
      "4 | mixed_2  | ReLU   | 0     \n",
      "5 | mixed_3  | Linear | 16    \n",
      "6 | mixed_4  | ReLU   | 0     \n",
      "------------------------------------\n",
      "5.2 K     Trainable params\n",
      "0         Non-trainable params\n",
      "5.2 K     Total params\n",
      "0.021     Total estimated model params size (MB)\n",
      "The dataloader, val dataloader 0, does not have many workers which may be a bottleneck. Consider increasing the value of the `num_workers` argument` (try 12 which is the number of cpus on this machine) in the `DataLoader` init to improve performance.\n",
      "The dataloader, train dataloader, does not have many workers which may be a bottleneck. Consider increasing the value of the `num_workers` argument` (try 12 which is the number of cpus on this machine) in the `DataLoader` init to improve performance.\n"
     ]
    },
    {
     "name": "stdout",
     "output_type": "stream",
     "text": [
      "..........................."
     ]
    },
    {
     "data": {
      "image/png": "[encoded data removed]",
      "text/plain": [
       "<Figure size 1152x216 with 1 Axes>"
      ]
     },
     "metadata": {
      "needs_background": "light"
     },
     "output_type": "display_data"
    }
   ],
   "source": [
    "final_iso_code = 'CHE'\n",
    "\n",
    "# Final training colums\n",
    "train_cols= swissre_features['demography'] +\\\n",
    "            swissre_features['sanitary'] +\\\n",
    "            swissre_features['economic'] +\\\n",
    "            swissre_features['policies']+ ['shifted_r_estim']# +\\\n",
    "              #swissre_features['weather'] # swissre_features['vaccines']+\\\n",
    "\n",
    "final_train_cols = [col for col in train_cols if not df[df['iso_code'] == final_iso_code][col].isnull().all()]\n",
    "final_train_cols = [col for col in final_train_cols if not df[col].std() == 0]\n",
    "\n",
    "context = Context()\n",
    "pipeline = Pipeline(df, final_train_cols, 'unemployment_rate_idx', final_iso_code, 28, context, 'weight') #shifted_r_estim\n",
    "\n",
    "pipeline.fit_pipeline(save_model=False)\n",
    "\n",
    "predictions = pipeline.predict()\n",
    "\n",
    "test_indices = df['iso_code'] == final_iso_code\n",
    "index = df.loc[test_indices].index\n",
    "ground = df.loc[test_indices]['unemployment_rate_idx']\n",
    "error_curve = np.abs(ground - predictions)\n",
    "\n",
    "df2 = pd.DataFrame({'index': index, 'ground': ground, 'pred': predictions, 'error': error_curve}).sort_values(by = 'index')\n",
    "df2 = df2[(df2['index'] >= '2020-05-01') & (df2['index'].dt.day == 1)]\n",
    "\n",
    "df2['index'] = df2['index'].dt.strftime('%Y-%m')\n",
    "\n",
    "df2.plot.bar(x = 'index', y = ['ground', 'pred'], rot = 0, fontsize=14, legend=False, figsize = (16, 3))\n",
    "\n",
    "pre_patch = mpatches.Patch(color=(1.0, 0.4980392156862745, 0.054901960784313725, 1.0), label='Predicted UER')\n",
    "ground_patch = mpatches.Patch(color=(0.12156862745098039, 0.4666666666666667, 0.7058823529411765, 1.0), label='Reported (and interpolated) UER')\n",
    "plt.legend(handles=[ground_patch, pre_patch], fontsize=14)\n",
    "\n",
    "plt.title(\"Switzerland (CHE)\", fontsize=16)\n",
    "plt.xlabel(\"Date\", fontsize=16);\n",
    "plt.ylabel(\"UER\", fontsize=16);"
   ]
  }
 ],
 "metadata": {
  "kernelspec": {
   "display_name": "Python 3",
   "language": "python",
   "name": "python3"
  },
  "language_info": {
   "codemirror_mode": {
    "name": "ipython",
    "version": 3
   },
   "file_extension": ".py",
   "mimetype": "text/x-python",
   "name": "python",
   "nbconvert_exporter": "python",
   "pygments_lexer": "ipython3",
   "version": "3.8.5"
  }
 },
 "nbformat": 4,
 "nbformat_minor": 5
}
