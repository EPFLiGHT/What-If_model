{
 "cells": [
  {
   "cell_type": "code",
   "execution_count": 1,
   "id": "related-turner",
   "metadata": {
    "tags": []
   },
   "outputs": [],
   "source": [
    "import pandas as pd\n",
    "import numpy as np\n",
    "import yaml\n",
    "import pycountry\n",
    "import pycountry_convert as pc\n",
    "from datetime import datetime\n",
    "import matplotlib.pyplot as plt\n",
    "import time\n",
    "%matplotlib inline"
   ]
  },
  {
   "cell_type": "code",
   "execution_count": 2,
   "id": "modified-venice",
   "metadata": {},
   "outputs": [],
   "source": [
    "# CZE, FRA, GRC"
   ]
  },
  {
   "cell_type": "code",
   "execution_count": 3,
   "id": "extreme-weapon",
   "metadata": {},
   "outputs": [
    {
     "name": "stderr",
     "output_type": "stream",
     "text": [
      "/Users/francescoposa/opt/anaconda3/envs/personal/lib/python3.8/site-packages/IPython/core/interactiveshell.py:3165: DtypeWarning: Columns (70,71,72,73,74,75,76,77,78) have mixed types.Specify dtype option on import or set low_memory=False.\n",
      "  has_raised = await self.run_ast_nodes(code_ast.body, cell_name,\n"
     ]
    }
   ],
   "source": [
    "data_swissre = pd.read_csv('./data/economic_weighted.csv', parse_dates=['date']).set_index('date')\n",
    "\n",
    "iso_codes = ['AUT','BEL', 'BGR', 'HRV', 'CYP', 'CZE', 'DNK', 'EST', 'FIN', 'FRA', 'DEU', 'GRC', 'HUN', 'IRL', 'ITA', 'LVA', 'LTU', 'LUX', 'MLT', 'NLD', 'POL', 'PRT', 'ROU', 'SVK', 'SVN', 'ESP', 'SWE', 'GBR', 'CHE', 'NOR']\n",
    "\n",
    "data_swissre = data_swissre[data_swissre['iso_code'].isin(iso_codes)]"
   ]
  },
  {
   "cell_type": "code",
   "execution_count": 4,
   "id": "exciting-furniture",
   "metadata": {},
   "outputs": [],
   "source": [
    "# data_swissre[(data_swissre['iso_code'] == 'CHE') & (data_swissre.index >= '2021-04-11')]"
   ]
  },
  {
   "cell_type": "code",
   "execution_count": 5,
   "id": "turned-evidence",
   "metadata": {},
   "outputs": [
    {
     "name": "stdout",
     "output_type": "stream",
     "text": [
      "Austria\n",
      "Belgium\n",
      "Bulgaria\n",
      "Croatia\n",
      "Cyprus\n",
      "Czechia\n",
      "Denmark\n",
      "Estonia\n",
      "Finland\n",
      "France\n",
      "Germany\n",
      "Greece\n",
      "Hungary\n",
      "Ireland\n",
      "Italy\n",
      "Latvia\n",
      "Lithuania\n",
      "Luxembourg\n",
      "Malta\n",
      "Netherlands\n",
      "Poland\n",
      "Portugal\n",
      "Romania\n",
      "Slovakia\n",
      "Slovenia\n",
      "Spain\n",
      "Sweden\n",
      "United Kingdom\n",
      "Switzerland\n",
      "Norway\n"
     ]
    }
   ],
   "source": [
    "for iso_code in iso_codes:\n",
    "    a = pycountry.countries.get(alpha_3=iso_code)\n",
    "    print(pc.country_alpha2_to_country_name(a.alpha_2))"
   ]
  },
  {
   "cell_type": "markdown",
   "id": "prompt-dress",
   "metadata": {},
   "source": [
    "# Selecting columns for the first model"
   ]
  },
  {
   "cell_type": "code",
   "execution_count": 6,
   "id": "vertical-consumption",
   "metadata": {},
   "outputs": [],
   "source": [
    "with open('config/economic_features.yaml', 'r', encoding='utf-8') as file:\n",
    "    swissre_features = yaml.load(file, Loader=yaml.FullLoader)"
   ]
  },
  {
   "cell_type": "code",
   "execution_count": 7,
   "id": "equivalent-sacrifice",
   "metadata": {},
   "outputs": [],
   "source": [
    "columns_to_use= swissre_features['main'] +\\\n",
    "            swissre_features['demography'] +\\\n",
    "            swissre_features['sanitary'] +\\\n",
    "            swissre_features['weather'] +\\\n",
    "            swissre_features['economic'] +\\\n",
    "            swissre_features['policies']+\\\n",
    "            swissre_features['outcome']\n",
    "            #swissre_features['vaccines'] +\\\n",
    "\n",
    "rep_rate = 'epiforecasts_effective_reproduction_number_median'"
   ]
  },
  {
   "cell_type": "code",
   "execution_count": 8,
   "id": "accessory-angola",
   "metadata": {},
   "outputs": [
    {
     "data": {
      "text/plain": [
       "Index(['name', 'iso_code', 'cases', 'weight',\n",
       "       'epiforecasts_effective_reproduction_number_median',\n",
       "       'total_population_all', 'total_population_below_1',\n",
       "       'total_population_1_to_4', 'total_population_5_to_14',\n",
       "       'total_population_15_to_24', 'total_population_25_to_34',\n",
       "       'total_population_35_to_54', 'total_population_55_to_74',\n",
       "       'total_population_above_75', 'population_percentage_over_60',\n",
       "       'hospital_beds_per_1000', 'physicians_per_1000', 'nurses_per_1000',\n",
       "       'maxtempC', 'mintempC', 'tempC', 'FeelsLikeC', 'humidity', 'pressure',\n",
       "       'HeatIndexC', 'uvIndex', 'totalSnow_cm', 'sunHour', 'windspeedKmph',\n",
       "       'precipMM', 'unemployment_rate_2021_09_30',\n",
       "       'unemployment_rate_2021_12_31', 'unemployment_rate_2019_03_31',\n",
       "       'unemployment_rate_2019_06_30', 'unemployment_rate_2019_09_30',\n",
       "       'unemployment_rate_2019_12_31', 'gdp_2019_03_31', 'gdp_2019_06_30',\n",
       "       'gdp_2019_09_30', 'gdp_2019_12_31', 'gdp_2020_03_31', 'gdp_2020_06_30',\n",
       "       'gdp_2020_09_30', 'gdp_2020_12_31', 'gdp_2021_03_31', 'gdp_2021_06_30',\n",
       "       'gdp_2021_09_30', 'gdp_2021_12_31', 'school_closing',\n",
       "       'workplace_closing', 'cancel_public_events',\n",
       "       'restrictions_on_gatherings', 'close_public_transport',\n",
       "       'stay_at_home_requirements', 'public_information_campaigns',\n",
       "       'restrictions_on_internal_movement', 'international_travel_controls',\n",
       "       'unemployment_rate_idx'],\n",
       "      dtype='object')"
      ]
     },
     "execution_count": 8,
     "metadata": {},
     "output_type": "execute_result"
    }
   ],
   "source": [
    "df = data_swissre[columns_to_use].copy()\n",
    "df.columns"
   ]
  },
  {
   "cell_type": "code",
   "execution_count": 9,
   "id": "selected-january",
   "metadata": {},
   "outputs": [],
   "source": [
    "# Taking the data starting from the 1st of april. ALTERNATIVE: use days since outbreak\n",
    "df = df[df.index >= '2020-04-01'].sort_index() #"
   ]
  },
  {
   "cell_type": "code",
   "execution_count": 10,
   "id": "boolean-printer",
   "metadata": {},
   "outputs": [],
   "source": [
    "# Filtering for valid countries: \n",
    "def filter_valid_countries(data, min_ratio):\n",
    "    iso_codes = []\n",
    "    for iso_code in data.iso_code.unique():\n",
    "        data_country = data[data.iso_code == iso_code]['epiforecasts_effective_reproduction_number_median'].dropna()\n",
    "        n_values = data_country.shape[0]\n",
    "\n",
    "    # If rows exist for that country with a valid r_estim value\n",
    "        if n_values > 0:\n",
    "            n_days = (data_country.index[-1] - data_country.index[0]).days + 1\n",
    "            #print(n_days)\n",
    "            ratio = n_values / n_days\n",
    "\n",
    "            if ratio > min_ratio:\n",
    "                iso_codes.append(iso_code)\n",
    "            \n",
    "    return data[data['iso_code'].isin(iso_codes)]\n",
    "\n",
    "df = filter_valid_countries(df, 0.9)"
   ]
  },
  {
   "cell_type": "code",
   "execution_count": 11,
   "id": "breeding-parameter",
   "metadata": {},
   "outputs": [
    {
     "name": "stdout",
     "output_type": "stream",
     "text": [
      "Number of countries: 30\n"
     ]
    }
   ],
   "source": [
    "print(f\"Number of countries: {len(df.iso_code.unique())}\")"
   ]
  },
  {
   "cell_type": "code",
   "execution_count": 12,
   "id": "scientific-crossing",
   "metadata": {},
   "outputs": [],
   "source": [
    "# Putting NaN where the estimated reproduction number is larger than 4\n",
    "df[rep_rate] = np.where(df[rep_rate] >= 4, np.nan, df[rep_rate])"
   ]
  },
  {
   "cell_type": "code",
   "execution_count": 13,
   "id": "split-agent",
   "metadata": {},
   "outputs": [],
   "source": [
    "# Shifting the reproduction rate by 11 days for each country\n",
    "df['date_index'] = df.index\n",
    "df = df.sort_values(by = ['iso_code', 'date_index'])\n",
    "df['shifted_r_estim'] = df[rep_rate]"
   ]
  },
  {
   "cell_type": "code",
   "execution_count": 14,
   "id": "official-theology",
   "metadata": {},
   "outputs": [
    {
     "name": "stdout",
     "output_type": "stream",
     "text": [
      "Number of countries: 30\n"
     ]
    }
   ],
   "source": [
    "# retaining only the countries that exceeded 2000 casese\n",
    "iso_codes = list(df[df['cases'] > 2000]['iso_code'].unique())\n",
    "df = df[df['iso_code'].isin(iso_codes)]\n",
    "print(f\"Number of countries: {len(df.iso_code.unique())}\")"
   ]
  },
  {
   "cell_type": "code",
   "execution_count": 15,
   "id": "expired-grace",
   "metadata": {},
   "outputs": [],
   "source": [
    "df.loc[df['iso_code'] == 'CYP', 'population_percentage_over_60'] = 19.79"
   ]
  },
  {
   "cell_type": "code",
   "execution_count": 16,
   "id": "binary-personal",
   "metadata": {},
   "outputs": [],
   "source": [
    "df.to_csv('economic_data_with_excluded_countries_to_avoid_code_in_backend.csv')"
   ]
  },
  {
   "cell_type": "markdown",
   "id": "bottom-heading",
   "metadata": {},
   "source": [
    "# Training the first model"
   ]
  },
  {
   "cell_type": "code",
   "execution_count": 18,
   "id": "theoretical-infection",
   "metadata": {},
   "outputs": [],
   "source": [
    "from classes.context import Context\n",
    "from classes.pipeline import Pipeline\n",
    "from classes.plot import Plot\n",
    "import matplotlib.patches as mpatches"
   ]
  },
  {
   "cell_type": "code",
   "execution_count": 19,
   "id": "nonprofit-paper",
   "metadata": {},
   "outputs": [],
   "source": [
    "selected_countries = ['LTU', 'SVK', 'MLT', 'AUT', 'HUN', 'LUX', 'LVA', 'HRV', 'ROU', 'CHE', 'IRL', 'EST',\n",
    " 'FIN', 'CYP', 'SVN', 'DNK', 'ITA', 'ESP', 'BGR', 'DEU', 'FRA', 'GBR', 'NOR', 'GRC',\n",
    " 'NLD', 'BEL', 'PRT', 'SWE']"
   ]
  },
  {
   "cell_type": "code",
   "execution_count": 20,
   "id": "hazardous-closer",
   "metadata": {},
   "outputs": [
    {
     "data": {
      "text/plain": [
       "28"
      ]
     },
     "execution_count": 20,
     "metadata": {},
     "output_type": "execute_result"
    }
   ],
   "source": [
    "len(selected_countries)"
   ]
  },
  {
   "cell_type": "code",
   "execution_count": 21,
   "id": "stuffed-night",
   "metadata": {},
   "outputs": [
    {
     "name": "stderr",
     "output_type": "stream",
     "text": [
      "Global seed set to 42\n",
      "Global seed set to 42\n"
     ]
    },
    {
     "name": "stdout",
     "output_type": "stream",
     "text": [
      "Predicting LTU...\n",
      "Training the model...\n",
      "\n"
     ]
    },
    {
     "name": "stderr",
     "output_type": "stream",
     "text": [
      "Global seed set to 42\n",
      "GPU available: False, used: False\n",
      "TPU available: False, using: 0 TPU cores\n",
      "\n",
      "  | Name     | Type   | Params\n",
      "------------------------------------\n",
      "0 | lstm_1   | LSTM   | 2.5 K \n",
      "1 | linear_1 | Linear | 1.6 K \n",
      "2 | linear_2 | ReLU   | 0     \n",
      "3 | mixed_1  | Linear | 1.1 K \n",
      "4 | mixed_2  | ReLU   | 0     \n",
      "5 | mixed_3  | Linear | 16    \n",
      "6 | mixed_4  | ReLU   | 0     \n",
      "------------------------------------\n",
      "5.2 K     Trainable params\n",
      "0         Non-trainable params\n",
      "5.2 K     Total params\n",
      "0.021     Total estimated model params size (MB)\n",
      "The dataloader, val dataloader 0, does not have many workers which may be a bottleneck. Consider increasing the value of the `num_workers` argument` (try 12 which is the number of cpus on this machine) in the `DataLoader` init to improve performance.\n",
      "The dataloader, train dataloader, does not have many workers which may be a bottleneck. Consider increasing the value of the `num_workers` argument` (try 12 which is the number of cpus on this machine) in the `DataLoader` init to improve performance.\n"
     ]
    },
    {
     "name": "stdout",
     "output_type": "stream",
     "text": [
      ".............................................................................."
     ]
    },
    {
     "name": "stderr",
     "output_type": "stream",
     "text": [
      "Global seed set to 42\n",
      "Global seed set to 42\n"
     ]
    },
    {
     "name": "stdout",
     "output_type": "stream",
     "text": [
      ".Predicting SVK...\n",
      "Training the model...\n",
      "\n"
     ]
    },
    {
     "name": "stderr",
     "output_type": "stream",
     "text": [
      "Global seed set to 42\n",
      "GPU available: False, used: False\n",
      "TPU available: False, using: 0 TPU cores\n",
      "\n",
      "  | Name     | Type   | Params\n",
      "------------------------------------\n",
      "0 | lstm_1   | LSTM   | 2.5 K \n",
      "1 | linear_1 | Linear | 1.6 K \n",
      "2 | linear_2 | ReLU   | 0     \n",
      "3 | mixed_1  | Linear | 1.1 K \n",
      "4 | mixed_2  | ReLU   | 0     \n",
      "5 | mixed_3  | Linear | 16    \n",
      "6 | mixed_4  | ReLU   | 0     \n",
      "------------------------------------\n",
      "5.2 K     Trainable params\n",
      "0         Non-trainable params\n",
      "5.2 K     Total params\n",
      "0.021     Total estimated model params size (MB)\n"
     ]
    },
    {
     "name": "stdout",
     "output_type": "stream",
     "text": [
      "..............................."
     ]
    },
    {
     "name": "stderr",
     "output_type": "stream",
     "text": [
      "Global seed set to 42\n",
      "Global seed set to 42\n"
     ]
    },
    {
     "name": "stdout",
     "output_type": "stream",
     "text": [
      ".Predicting MLT...\n",
      "Training the model...\n",
      "\n"
     ]
    },
    {
     "name": "stderr",
     "output_type": "stream",
     "text": [
      "Global seed set to 42\n",
      "GPU available: False, used: False\n",
      "TPU available: False, using: 0 TPU cores\n",
      "\n",
      "  | Name     | Type   | Params\n",
      "------------------------------------\n",
      "0 | lstm_1   | LSTM   | 2.5 K \n",
      "1 | linear_1 | Linear | 1.6 K \n",
      "2 | linear_2 | ReLU   | 0     \n",
      "3 | mixed_1  | Linear | 1.1 K \n",
      "4 | mixed_2  | ReLU   | 0     \n",
      "5 | mixed_3  | Linear | 16    \n",
      "6 | mixed_4  | ReLU   | 0     \n",
      "------------------------------------\n",
      "5.2 K     Trainable params\n",
      "0         Non-trainable params\n",
      "5.2 K     Total params\n",
      "0.021     Total estimated model params size (MB)\n"
     ]
    },
    {
     "name": "stdout",
     "output_type": "stream",
     "text": [
      "..........................................................."
     ]
    },
    {
     "name": "stderr",
     "output_type": "stream",
     "text": [
      "Global seed set to 42\n",
      "Global seed set to 42\n"
     ]
    },
    {
     "name": "stdout",
     "output_type": "stream",
     "text": [
      ".Predicting AUT...\n",
      "Training the model...\n",
      "\n"
     ]
    },
    {
     "name": "stderr",
     "output_type": "stream",
     "text": [
      "Global seed set to 42\n",
      "GPU available: False, used: False\n",
      "TPU available: False, using: 0 TPU cores\n",
      "\n",
      "  | Name     | Type   | Params\n",
      "------------------------------------\n",
      "0 | lstm_1   | LSTM   | 2.5 K \n",
      "1 | linear_1 | Linear | 1.6 K \n",
      "2 | linear_2 | ReLU   | 0     \n",
      "3 | mixed_1  | Linear | 1.1 K \n",
      "4 | mixed_2  | ReLU   | 0     \n",
      "5 | mixed_3  | Linear | 16    \n",
      "6 | mixed_4  | ReLU   | 0     \n",
      "------------------------------------\n",
      "5.2 K     Trainable params\n",
      "0         Non-trainable params\n",
      "5.2 K     Total params\n",
      "0.021     Total estimated model params size (MB)\n"
     ]
    },
    {
     "name": "stdout",
     "output_type": "stream",
     "text": [
      "..........................."
     ]
    },
    {
     "name": "stderr",
     "output_type": "stream",
     "text": [
      "Global seed set to 42\n",
      "Global seed set to 42\n"
     ]
    },
    {
     "name": "stdout",
     "output_type": "stream",
     "text": [
      ".Predicting HUN...\n",
      "Training the model...\n",
      "\n"
     ]
    },
    {
     "name": "stderr",
     "output_type": "stream",
     "text": [
      "Global seed set to 42\n",
      "GPU available: False, used: False\n",
      "TPU available: False, using: 0 TPU cores\n",
      "\n",
      "  | Name     | Type   | Params\n",
      "------------------------------------\n",
      "0 | lstm_1   | LSTM   | 2.5 K \n",
      "1 | linear_1 | Linear | 1.6 K \n",
      "2 | linear_2 | ReLU   | 0     \n",
      "3 | mixed_1  | Linear | 1.1 K \n",
      "4 | mixed_2  | ReLU   | 0     \n",
      "5 | mixed_3  | Linear | 16    \n",
      "6 | mixed_4  | ReLU   | 0     \n",
      "------------------------------------\n",
      "5.2 K     Trainable params\n",
      "0         Non-trainable params\n",
      "5.2 K     Total params\n",
      "0.021     Total estimated model params size (MB)\n"
     ]
    },
    {
     "name": "stdout",
     "output_type": "stream",
     "text": [
      "..........................."
     ]
    },
    {
     "name": "stderr",
     "output_type": "stream",
     "text": [
      "Global seed set to 42\n",
      "Global seed set to 42\n"
     ]
    },
    {
     "name": "stdout",
     "output_type": "stream",
     "text": [
      ".Predicting LUX...\n",
      "Training the model...\n",
      "\n"
     ]
    },
    {
     "name": "stderr",
     "output_type": "stream",
     "text": [
      "Global seed set to 42\n",
      "GPU available: False, used: False\n",
      "TPU available: False, using: 0 TPU cores\n",
      "\n",
      "  | Name     | Type   | Params\n",
      "------------------------------------\n",
      "0 | lstm_1   | LSTM   | 2.5 K \n",
      "1 | linear_1 | Linear | 1.6 K \n",
      "2 | linear_2 | ReLU   | 0     \n",
      "3 | mixed_1  | Linear | 1.1 K \n",
      "4 | mixed_2  | ReLU   | 0     \n",
      "5 | mixed_3  | Linear | 16    \n",
      "6 | mixed_4  | ReLU   | 0     \n",
      "------------------------------------\n",
      "5.2 K     Trainable params\n",
      "0         Non-trainable params\n",
      "5.2 K     Total params\n",
      "0.021     Total estimated model params size (MB)\n"
     ]
    },
    {
     "name": "stdout",
     "output_type": "stream",
     "text": [
      ".................................."
     ]
    },
    {
     "name": "stderr",
     "output_type": "stream",
     "text": [
      "Global seed set to 42\n",
      "Global seed set to 42\n"
     ]
    },
    {
     "name": "stdout",
     "output_type": "stream",
     "text": [
      ".Predicting LVA...\n",
      "Training the model...\n",
      "\n"
     ]
    },
    {
     "name": "stderr",
     "output_type": "stream",
     "text": [
      "Global seed set to 42\n",
      "GPU available: False, used: False\n",
      "TPU available: False, using: 0 TPU cores\n",
      "\n",
      "  | Name     | Type   | Params\n",
      "------------------------------------\n",
      "0 | lstm_1   | LSTM   | 2.5 K \n",
      "1 | linear_1 | Linear | 1.6 K \n",
      "2 | linear_2 | ReLU   | 0     \n",
      "3 | mixed_1  | Linear | 1.1 K \n",
      "4 | mixed_2  | ReLU   | 0     \n",
      "5 | mixed_3  | Linear | 16    \n",
      "6 | mixed_4  | ReLU   | 0     \n",
      "------------------------------------\n",
      "5.2 K     Trainable params\n",
      "0         Non-trainable params\n",
      "5.2 K     Total params\n",
      "0.021     Total estimated model params size (MB)\n"
     ]
    },
    {
     "name": "stdout",
     "output_type": "stream",
     "text": [
      ".........................."
     ]
    },
    {
     "name": "stderr",
     "output_type": "stream",
     "text": [
      "Global seed set to 42\n",
      "Global seed set to 42\n"
     ]
    },
    {
     "name": "stdout",
     "output_type": "stream",
     "text": [
      ".Predicting HRV...\n",
      "Training the model...\n",
      "\n"
     ]
    },
    {
     "name": "stderr",
     "output_type": "stream",
     "text": [
      "Global seed set to 42\n",
      "GPU available: False, used: False\n",
      "TPU available: False, using: 0 TPU cores\n",
      "\n",
      "  | Name     | Type   | Params\n",
      "------------------------------------\n",
      "0 | lstm_1   | LSTM   | 2.5 K \n",
      "1 | linear_1 | Linear | 1.6 K \n",
      "2 | linear_2 | ReLU   | 0     \n",
      "3 | mixed_1  | Linear | 1.1 K \n",
      "4 | mixed_2  | ReLU   | 0     \n",
      "5 | mixed_3  | Linear | 16    \n",
      "6 | mixed_4  | ReLU   | 0     \n",
      "------------------------------------\n",
      "5.2 K     Trainable params\n",
      "0         Non-trainable params\n",
      "5.2 K     Total params\n",
      "0.021     Total estimated model params size (MB)\n"
     ]
    },
    {
     "name": "stdout",
     "output_type": "stream",
     "text": [
      ".........................."
     ]
    },
    {
     "name": "stderr",
     "output_type": "stream",
     "text": [
      "Global seed set to 42\n",
      "Global seed set to 42\n"
     ]
    },
    {
     "name": "stdout",
     "output_type": "stream",
     "text": [
      ".Predicting ROU...\n",
      "Training the model...\n",
      "\n"
     ]
    },
    {
     "name": "stderr",
     "output_type": "stream",
     "text": [
      "Global seed set to 42\n",
      "GPU available: False, used: False\n",
      "TPU available: False, using: 0 TPU cores\n",
      "\n",
      "  | Name     | Type   | Params\n",
      "------------------------------------\n",
      "0 | lstm_1   | LSTM   | 2.5 K \n",
      "1 | linear_1 | Linear | 1.6 K \n",
      "2 | linear_2 | ReLU   | 0     \n",
      "3 | mixed_1  | Linear | 1.1 K \n",
      "4 | mixed_2  | ReLU   | 0     \n",
      "5 | mixed_3  | Linear | 16    \n",
      "6 | mixed_4  | ReLU   | 0     \n",
      "------------------------------------\n",
      "5.2 K     Trainable params\n",
      "0         Non-trainable params\n",
      "5.2 K     Total params\n",
      "0.021     Total estimated model params size (MB)\n"
     ]
    },
    {
     "name": "stdout",
     "output_type": "stream",
     "text": [
      "....................................."
     ]
    },
    {
     "name": "stderr",
     "output_type": "stream",
     "text": [
      "Global seed set to 42\n",
      "Global seed set to 42\n"
     ]
    },
    {
     "name": "stdout",
     "output_type": "stream",
     "text": [
      ".Predicting CHE...\n",
      "Training the model...\n",
      "\n"
     ]
    },
    {
     "name": "stderr",
     "output_type": "stream",
     "text": [
      "Global seed set to 42\n",
      "GPU available: False, used: False\n",
      "TPU available: False, using: 0 TPU cores\n",
      "\n",
      "  | Name     | Type   | Params\n",
      "------------------------------------\n",
      "0 | lstm_1   | LSTM   | 2.5 K \n",
      "1 | linear_1 | Linear | 1.6 K \n",
      "2 | linear_2 | ReLU   | 0     \n",
      "3 | mixed_1  | Linear | 1.1 K \n",
      "4 | mixed_2  | ReLU   | 0     \n",
      "5 | mixed_3  | Linear | 16    \n",
      "6 | mixed_4  | ReLU   | 0     \n",
      "------------------------------------\n",
      "5.2 K     Trainable params\n",
      "0         Non-trainable params\n",
      "5.2 K     Total params\n",
      "0.021     Total estimated model params size (MB)\n"
     ]
    },
    {
     "name": "stdout",
     "output_type": "stream",
     "text": [
      ".........................."
     ]
    },
    {
     "name": "stderr",
     "output_type": "stream",
     "text": [
      "Global seed set to 42\n",
      "Global seed set to 42\n"
     ]
    },
    {
     "name": "stdout",
     "output_type": "stream",
     "text": [
      ".Predicting IRL...\n",
      "Training the model...\n",
      "\n"
     ]
    },
    {
     "name": "stderr",
     "output_type": "stream",
     "text": [
      "Global seed set to 42\n",
      "GPU available: False, used: False\n",
      "TPU available: False, using: 0 TPU cores\n",
      "\n",
      "  | Name     | Type   | Params\n",
      "------------------------------------\n",
      "0 | lstm_1   | LSTM   | 2.5 K \n",
      "1 | linear_1 | Linear | 1.6 K \n",
      "2 | linear_2 | ReLU   | 0     \n",
      "3 | mixed_1  | Linear | 1.1 K \n",
      "4 | mixed_2  | ReLU   | 0     \n",
      "5 | mixed_3  | Linear | 16    \n",
      "6 | mixed_4  | ReLU   | 0     \n",
      "------------------------------------\n",
      "5.2 K     Trainable params\n",
      "0         Non-trainable params\n",
      "5.2 K     Total params\n",
      "0.021     Total estimated model params size (MB)\n"
     ]
    },
    {
     "name": "stdout",
     "output_type": "stream",
     "text": [
      "....................................."
     ]
    },
    {
     "name": "stderr",
     "output_type": "stream",
     "text": [
      "Global seed set to 42\n",
      "Global seed set to 42\n"
     ]
    },
    {
     "name": "stdout",
     "output_type": "stream",
     "text": [
      ".Predicting EST...\n",
      "Training the model...\n",
      "\n"
     ]
    },
    {
     "name": "stderr",
     "output_type": "stream",
     "text": [
      "Global seed set to 42\n",
      "GPU available: False, used: False\n",
      "TPU available: False, using: 0 TPU cores\n",
      "\n",
      "  | Name     | Type   | Params\n",
      "------------------------------------\n",
      "0 | lstm_1   | LSTM   | 2.5 K \n",
      "1 | linear_1 | Linear | 1.6 K \n",
      "2 | linear_2 | ReLU   | 0     \n",
      "3 | mixed_1  | Linear | 1.1 K \n",
      "4 | mixed_2  | ReLU   | 0     \n",
      "5 | mixed_3  | Linear | 16    \n",
      "6 | mixed_4  | ReLU   | 0     \n",
      "------------------------------------\n",
      "5.2 K     Trainable params\n",
      "0         Non-trainable params\n",
      "5.2 K     Total params\n",
      "0.021     Total estimated model params size (MB)\n"
     ]
    },
    {
     "name": "stdout",
     "output_type": "stream",
     "text": [
      "..................................................................."
     ]
    },
    {
     "name": "stderr",
     "output_type": "stream",
     "text": [
      "Global seed set to 42\n",
      "Global seed set to 42\n"
     ]
    },
    {
     "name": "stdout",
     "output_type": "stream",
     "text": [
      ".Predicting FIN...\n",
      "Training the model...\n",
      "\n"
     ]
    },
    {
     "name": "stderr",
     "output_type": "stream",
     "text": [
      "Global seed set to 42\n",
      "GPU available: False, used: False\n",
      "TPU available: False, using: 0 TPU cores\n",
      "\n",
      "  | Name     | Type   | Params\n",
      "------------------------------------\n",
      "0 | lstm_1   | LSTM   | 2.5 K \n",
      "1 | linear_1 | Linear | 1.6 K \n",
      "2 | linear_2 | ReLU   | 0     \n",
      "3 | mixed_1  | Linear | 1.1 K \n",
      "4 | mixed_2  | ReLU   | 0     \n",
      "5 | mixed_3  | Linear | 16    \n",
      "6 | mixed_4  | ReLU   | 0     \n",
      "------------------------------------\n",
      "5.2 K     Trainable params\n",
      "0         Non-trainable params\n",
      "5.2 K     Total params\n",
      "0.021     Total estimated model params size (MB)\n"
     ]
    },
    {
     "name": "stdout",
     "output_type": "stream",
     "text": [
      "..........................."
     ]
    },
    {
     "name": "stderr",
     "output_type": "stream",
     "text": [
      "Global seed set to 42\n",
      "Global seed set to 42\n"
     ]
    },
    {
     "name": "stdout",
     "output_type": "stream",
     "text": [
      ".Predicting CYP...\n",
      "Training the model...\n",
      "\n"
     ]
    },
    {
     "name": "stderr",
     "output_type": "stream",
     "text": [
      "Global seed set to 42\n",
      "GPU available: False, used: False\n",
      "TPU available: False, using: 0 TPU cores\n",
      "\n",
      "  | Name     | Type   | Params\n",
      "------------------------------------\n",
      "0 | lstm_1   | LSTM   | 2.5 K \n",
      "1 | linear_1 | Linear | 1.6 K \n",
      "2 | linear_2 | ReLU   | 0     \n",
      "3 | mixed_1  | Linear | 1.1 K \n",
      "4 | mixed_2  | ReLU   | 0     \n",
      "5 | mixed_3  | Linear | 16    \n",
      "6 | mixed_4  | ReLU   | 0     \n",
      "------------------------------------\n",
      "5.2 K     Trainable params\n",
      "0         Non-trainable params\n",
      "5.2 K     Total params\n",
      "0.021     Total estimated model params size (MB)\n"
     ]
    },
    {
     "name": "stdout",
     "output_type": "stream",
     "text": [
      "..................................................................................................................."
     ]
    },
    {
     "name": "stderr",
     "output_type": "stream",
     "text": [
      "Global seed set to 42\n",
      "Global seed set to 42\n"
     ]
    },
    {
     "name": "stdout",
     "output_type": "stream",
     "text": [
      ".Predicting SVN...\n",
      "Training the model...\n",
      "\n"
     ]
    },
    {
     "name": "stderr",
     "output_type": "stream",
     "text": [
      "Global seed set to 42\n",
      "GPU available: False, used: False\n",
      "TPU available: False, using: 0 TPU cores\n",
      "\n",
      "  | Name     | Type   | Params\n",
      "------------------------------------\n",
      "0 | lstm_1   | LSTM   | 2.5 K \n",
      "1 | linear_1 | Linear | 1.6 K \n",
      "2 | linear_2 | ReLU   | 0     \n",
      "3 | mixed_1  | Linear | 1.1 K \n",
      "4 | mixed_2  | ReLU   | 0     \n",
      "5 | mixed_3  | Linear | 16    \n",
      "6 | mixed_4  | ReLU   | 0     \n",
      "------------------------------------\n",
      "5.2 K     Trainable params\n",
      "0         Non-trainable params\n",
      "5.2 K     Total params\n",
      "0.021     Total estimated model params size (MB)\n"
     ]
    },
    {
     "name": "stdout",
     "output_type": "stream",
     "text": [
      ".........................."
     ]
    },
    {
     "name": "stderr",
     "output_type": "stream",
     "text": [
      "Global seed set to 42\n",
      "Global seed set to 42\n"
     ]
    },
    {
     "name": "stdout",
     "output_type": "stream",
     "text": [
      ".Predicting DNK...\n",
      "Training the model...\n",
      "\n"
     ]
    },
    {
     "name": "stderr",
     "output_type": "stream",
     "text": [
      "Global seed set to 42\n",
      "GPU available: False, used: False\n",
      "TPU available: False, using: 0 TPU cores\n",
      "\n",
      "  | Name     | Type   | Params\n",
      "------------------------------------\n",
      "0 | lstm_1   | LSTM   | 2.5 K \n",
      "1 | linear_1 | Linear | 1.6 K \n",
      "2 | linear_2 | ReLU   | 0     \n",
      "3 | mixed_1  | Linear | 1.1 K \n",
      "4 | mixed_2  | ReLU   | 0     \n",
      "5 | mixed_3  | Linear | 16    \n",
      "6 | mixed_4  | ReLU   | 0     \n",
      "------------------------------------\n",
      "5.2 K     Trainable params\n",
      "0         Non-trainable params\n",
      "5.2 K     Total params\n",
      "0.021     Total estimated model params size (MB)\n"
     ]
    },
    {
     "name": "stdout",
     "output_type": "stream",
     "text": [
      "............................................"
     ]
    },
    {
     "name": "stderr",
     "output_type": "stream",
     "text": [
      "Global seed set to 42\n",
      "Global seed set to 42\n"
     ]
    },
    {
     "name": "stdout",
     "output_type": "stream",
     "text": [
      ".Predicting ITA...\n",
      "Training the model...\n",
      "\n"
     ]
    },
    {
     "name": "stderr",
     "output_type": "stream",
     "text": [
      "Global seed set to 42\n",
      "GPU available: False, used: False\n",
      "TPU available: False, using: 0 TPU cores\n",
      "\n",
      "  | Name     | Type   | Params\n",
      "------------------------------------\n",
      "0 | lstm_1   | LSTM   | 2.5 K \n",
      "1 | linear_1 | Linear | 1.6 K \n",
      "2 | linear_2 | ReLU   | 0     \n",
      "3 | mixed_1  | Linear | 1.1 K \n",
      "4 | mixed_2  | ReLU   | 0     \n",
      "5 | mixed_3  | Linear | 16    \n",
      "6 | mixed_4  | ReLU   | 0     \n",
      "------------------------------------\n",
      "5.2 K     Trainable params\n",
      "0         Non-trainable params\n",
      "5.2 K     Total params\n",
      "0.021     Total estimated model params size (MB)\n"
     ]
    },
    {
     "name": "stdout",
     "output_type": "stream",
     "text": [
      ".........................."
     ]
    },
    {
     "name": "stderr",
     "output_type": "stream",
     "text": [
      "Global seed set to 42\n",
      "Global seed set to 42\n"
     ]
    },
    {
     "name": "stdout",
     "output_type": "stream",
     "text": [
      ".Predicting ESP...\n",
      "Training the model...\n",
      "\n"
     ]
    },
    {
     "name": "stderr",
     "output_type": "stream",
     "text": [
      "Global seed set to 42\n",
      "GPU available: False, used: False\n",
      "TPU available: False, using: 0 TPU cores\n",
      "\n",
      "  | Name     | Type   | Params\n",
      "------------------------------------\n",
      "0 | lstm_1   | LSTM   | 2.5 K \n",
      "1 | linear_1 | Linear | 1.6 K \n",
      "2 | linear_2 | ReLU   | 0     \n",
      "3 | mixed_1  | Linear | 1.1 K \n",
      "4 | mixed_2  | ReLU   | 0     \n",
      "5 | mixed_3  | Linear | 16    \n",
      "6 | mixed_4  | ReLU   | 0     \n",
      "------------------------------------\n",
      "5.2 K     Trainable params\n",
      "0         Non-trainable params\n",
      "5.2 K     Total params\n",
      "0.021     Total estimated model params size (MB)\n"
     ]
    },
    {
     "name": "stdout",
     "output_type": "stream",
     "text": [
      "..............................................."
     ]
    },
    {
     "name": "stderr",
     "output_type": "stream",
     "text": [
      "Global seed set to 42\n",
      "Global seed set to 42\n"
     ]
    },
    {
     "name": "stdout",
     "output_type": "stream",
     "text": [
      ".Predicting BGR...\n",
      "Training the model...\n",
      "\n"
     ]
    },
    {
     "name": "stderr",
     "output_type": "stream",
     "text": [
      "Global seed set to 42\n",
      "GPU available: False, used: False\n",
      "TPU available: False, using: 0 TPU cores\n",
      "\n",
      "  | Name     | Type   | Params\n",
      "------------------------------------\n",
      "0 | lstm_1   | LSTM   | 2.5 K \n",
      "1 | linear_1 | Linear | 1.6 K \n",
      "2 | linear_2 | ReLU   | 0     \n",
      "3 | mixed_1  | Linear | 1.1 K \n",
      "4 | mixed_2  | ReLU   | 0     \n",
      "5 | mixed_3  | Linear | 16    \n",
      "6 | mixed_4  | ReLU   | 0     \n",
      "------------------------------------\n",
      "5.2 K     Trainable params\n",
      "0         Non-trainable params\n",
      "5.2 K     Total params\n",
      "0.021     Total estimated model params size (MB)\n"
     ]
    },
    {
     "name": "stdout",
     "output_type": "stream",
     "text": [
      "............................"
     ]
    },
    {
     "name": "stderr",
     "output_type": "stream",
     "text": [
      "Global seed set to 42\n",
      "Global seed set to 42\n"
     ]
    },
    {
     "name": "stdout",
     "output_type": "stream",
     "text": [
      ".Predicting DEU...\n",
      "Training the model...\n",
      "\n"
     ]
    },
    {
     "name": "stderr",
     "output_type": "stream",
     "text": [
      "Global seed set to 42\n",
      "GPU available: False, used: False\n",
      "TPU available: False, using: 0 TPU cores\n",
      "\n",
      "  | Name     | Type   | Params\n",
      "------------------------------------\n",
      "0 | lstm_1   | LSTM   | 2.5 K \n",
      "1 | linear_1 | Linear | 1.6 K \n",
      "2 | linear_2 | ReLU   | 0     \n",
      "3 | mixed_1  | Linear | 1.1 K \n",
      "4 | mixed_2  | ReLU   | 0     \n",
      "5 | mixed_3  | Linear | 16    \n",
      "6 | mixed_4  | ReLU   | 0     \n",
      "------------------------------------\n",
      "5.2 K     Trainable params\n",
      "0         Non-trainable params\n",
      "5.2 K     Total params\n",
      "0.021     Total estimated model params size (MB)\n"
     ]
    },
    {
     "name": "stdout",
     "output_type": "stream",
     "text": [
      "............................."
     ]
    },
    {
     "name": "stderr",
     "output_type": "stream",
     "text": [
      "Global seed set to 42\n",
      "Global seed set to 42\n"
     ]
    },
    {
     "name": "stdout",
     "output_type": "stream",
     "text": [
      ".Predicting FRA...\n",
      "Training the model...\n",
      "\n"
     ]
    },
    {
     "name": "stderr",
     "output_type": "stream",
     "text": [
      "Global seed set to 42\n",
      "GPU available: False, used: False\n",
      "TPU available: False, using: 0 TPU cores\n",
      "\n",
      "  | Name     | Type   | Params\n",
      "------------------------------------\n",
      "0 | lstm_1   | LSTM   | 2.5 K \n",
      "1 | linear_1 | Linear | 1.6 K \n",
      "2 | linear_2 | ReLU   | 0     \n",
      "3 | mixed_1  | Linear | 1.1 K \n",
      "4 | mixed_2  | ReLU   | 0     \n",
      "5 | mixed_3  | Linear | 16    \n",
      "6 | mixed_4  | ReLU   | 0     \n",
      "------------------------------------\n",
      "5.2 K     Trainable params\n",
      "0         Non-trainable params\n",
      "5.2 K     Total params\n",
      "0.021     Total estimated model params size (MB)\n"
     ]
    },
    {
     "name": "stdout",
     "output_type": "stream",
     "text": [
      ".........................."
     ]
    },
    {
     "name": "stderr",
     "output_type": "stream",
     "text": [
      "Global seed set to 42\n",
      "Global seed set to 42\n"
     ]
    },
    {
     "name": "stdout",
     "output_type": "stream",
     "text": [
      ".Predicting GBR...\n",
      "Training the model...\n",
      "\n"
     ]
    },
    {
     "name": "stderr",
     "output_type": "stream",
     "text": [
      "Global seed set to 42\n",
      "GPU available: False, used: False\n",
      "TPU available: False, using: 0 TPU cores\n",
      "\n",
      "  | Name     | Type   | Params\n",
      "------------------------------------\n",
      "0 | lstm_1   | LSTM   | 2.5 K \n",
      "1 | linear_1 | Linear | 1.6 K \n",
      "2 | linear_2 | ReLU   | 0     \n",
      "3 | mixed_1  | Linear | 1.1 K \n",
      "4 | mixed_2  | ReLU   | 0     \n",
      "5 | mixed_3  | Linear | 16    \n",
      "6 | mixed_4  | ReLU   | 0     \n",
      "------------------------------------\n",
      "5.2 K     Trainable params\n",
      "0         Non-trainable params\n",
      "5.2 K     Total params\n",
      "0.021     Total estimated model params size (MB)\n"
     ]
    },
    {
     "name": "stdout",
     "output_type": "stream",
     "text": [
      "............................."
     ]
    },
    {
     "name": "stderr",
     "output_type": "stream",
     "text": [
      "Global seed set to 42\n",
      "Global seed set to 42\n"
     ]
    },
    {
     "name": "stdout",
     "output_type": "stream",
     "text": [
      ".Predicting NOR...\n",
      "Training the model...\n",
      "\n"
     ]
    },
    {
     "name": "stderr",
     "output_type": "stream",
     "text": [
      "Global seed set to 42\n",
      "GPU available: False, used: False\n",
      "TPU available: False, using: 0 TPU cores\n",
      "\n",
      "  | Name     | Type   | Params\n",
      "------------------------------------\n",
      "0 | lstm_1   | LSTM   | 2.5 K \n",
      "1 | linear_1 | Linear | 1.6 K \n",
      "2 | linear_2 | ReLU   | 0     \n",
      "3 | mixed_1  | Linear | 1.1 K \n",
      "4 | mixed_2  | ReLU   | 0     \n",
      "5 | mixed_3  | Linear | 16    \n",
      "6 | mixed_4  | ReLU   | 0     \n",
      "------------------------------------\n",
      "5.2 K     Trainable params\n",
      "0         Non-trainable params\n",
      "5.2 K     Total params\n",
      "0.021     Total estimated model params size (MB)\n"
     ]
    },
    {
     "name": "stdout",
     "output_type": "stream",
     "text": [
      "................................"
     ]
    },
    {
     "name": "stderr",
     "output_type": "stream",
     "text": [
      "Global seed set to 42\n",
      "Global seed set to 42\n"
     ]
    },
    {
     "name": "stdout",
     "output_type": "stream",
     "text": [
      ".Predicting GRC...\n",
      "Training the model...\n",
      "\n"
     ]
    },
    {
     "name": "stderr",
     "output_type": "stream",
     "text": [
      "Global seed set to 42\n",
      "GPU available: False, used: False\n",
      "TPU available: False, using: 0 TPU cores\n",
      "\n",
      "  | Name     | Type   | Params\n",
      "------------------------------------\n",
      "0 | lstm_1   | LSTM   | 2.5 K \n",
      "1 | linear_1 | Linear | 1.6 K \n",
      "2 | linear_2 | ReLU   | 0     \n",
      "3 | mixed_1  | Linear | 1.1 K \n",
      "4 | mixed_2  | ReLU   | 0     \n",
      "5 | mixed_3  | Linear | 16    \n",
      "6 | mixed_4  | ReLU   | 0     \n",
      "------------------------------------\n",
      "5.2 K     Trainable params\n",
      "0         Non-trainable params\n",
      "5.2 K     Total params\n",
      "0.021     Total estimated model params size (MB)\n"
     ]
    },
    {
     "name": "stdout",
     "output_type": "stream",
     "text": [
      "..............................................................................."
     ]
    },
    {
     "name": "stderr",
     "output_type": "stream",
     "text": [
      "Global seed set to 42\n",
      "Global seed set to 42\n"
     ]
    },
    {
     "name": "stdout",
     "output_type": "stream",
     "text": [
      ".Predicting NLD...\n",
      "Training the model...\n",
      "\n"
     ]
    },
    {
     "name": "stderr",
     "output_type": "stream",
     "text": [
      "Global seed set to 42\n",
      "GPU available: False, used: False\n",
      "TPU available: False, using: 0 TPU cores\n",
      "\n",
      "  | Name     | Type   | Params\n",
      "------------------------------------\n",
      "0 | lstm_1   | LSTM   | 2.5 K \n",
      "1 | linear_1 | Linear | 1.6 K \n",
      "2 | linear_2 | ReLU   | 0     \n",
      "3 | mixed_1  | Linear | 1.1 K \n",
      "4 | mixed_2  | ReLU   | 0     \n",
      "5 | mixed_3  | Linear | 16    \n",
      "6 | mixed_4  | ReLU   | 0     \n",
      "------------------------------------\n",
      "5.2 K     Trainable params\n",
      "0         Non-trainable params\n",
      "5.2 K     Total params\n",
      "0.021     Total estimated model params size (MB)\n"
     ]
    },
    {
     "name": "stdout",
     "output_type": "stream",
     "text": [
      "..........................................................................."
     ]
    },
    {
     "name": "stderr",
     "output_type": "stream",
     "text": [
      "Global seed set to 42\n",
      "Global seed set to 42\n"
     ]
    },
    {
     "name": "stdout",
     "output_type": "stream",
     "text": [
      ".Predicting BEL...\n",
      "Training the model...\n",
      "\n"
     ]
    },
    {
     "name": "stderr",
     "output_type": "stream",
     "text": [
      "Global seed set to 42\n",
      "GPU available: False, used: False\n",
      "TPU available: False, using: 0 TPU cores\n",
      "\n",
      "  | Name     | Type   | Params\n",
      "------------------------------------\n",
      "0 | lstm_1   | LSTM   | 2.5 K \n",
      "1 | linear_1 | Linear | 1.6 K \n",
      "2 | linear_2 | ReLU   | 0     \n",
      "3 | mixed_1  | Linear | 1.1 K \n",
      "4 | mixed_2  | ReLU   | 0     \n",
      "5 | mixed_3  | Linear | 16    \n",
      "6 | mixed_4  | ReLU   | 0     \n",
      "------------------------------------\n",
      "5.2 K     Trainable params\n",
      "0         Non-trainable params\n",
      "5.2 K     Total params\n",
      "0.021     Total estimated model params size (MB)\n"
     ]
    },
    {
     "name": "stdout",
     "output_type": "stream",
     "text": [
      "..........................."
     ]
    },
    {
     "name": "stderr",
     "output_type": "stream",
     "text": [
      "Global seed set to 42\n",
      "Global seed set to 42\n"
     ]
    },
    {
     "name": "stdout",
     "output_type": "stream",
     "text": [
      ".Predicting PRT...\n",
      "Training the model...\n",
      "\n"
     ]
    },
    {
     "name": "stderr",
     "output_type": "stream",
     "text": [
      "Global seed set to 42\n",
      "GPU available: False, used: False\n",
      "TPU available: False, using: 0 TPU cores\n",
      "\n",
      "  | Name     | Type   | Params\n",
      "------------------------------------\n",
      "0 | lstm_1   | LSTM   | 2.5 K \n",
      "1 | linear_1 | Linear | 1.6 K \n",
      "2 | linear_2 | ReLU   | 0     \n",
      "3 | mixed_1  | Linear | 1.1 K \n",
      "4 | mixed_2  | ReLU   | 0     \n",
      "5 | mixed_3  | Linear | 16    \n",
      "6 | mixed_4  | ReLU   | 0     \n",
      "------------------------------------\n",
      "5.2 K     Trainable params\n",
      "0         Non-trainable params\n",
      "5.2 K     Total params\n",
      "0.021     Total estimated model params size (MB)\n"
     ]
    },
    {
     "name": "stdout",
     "output_type": "stream",
     "text": [
      ".........................."
     ]
    },
    {
     "name": "stderr",
     "output_type": "stream",
     "text": [
      "Global seed set to 42\n",
      "Global seed set to 42\n"
     ]
    },
    {
     "name": "stdout",
     "output_type": "stream",
     "text": [
      ".Predicting SWE...\n",
      "Training the model...\n",
      "\n"
     ]
    },
    {
     "name": "stderr",
     "output_type": "stream",
     "text": [
      "Global seed set to 42\n",
      "GPU available: False, used: False\n",
      "TPU available: False, using: 0 TPU cores\n",
      "\n",
      "  | Name     | Type   | Params\n",
      "------------------------------------\n",
      "0 | lstm_1   | LSTM   | 2.5 K \n",
      "1 | linear_1 | Linear | 1.6 K \n",
      "2 | linear_2 | ReLU   | 0     \n",
      "3 | mixed_1  | Linear | 1.1 K \n",
      "4 | mixed_2  | ReLU   | 0     \n",
      "5 | mixed_3  | Linear | 16    \n",
      "6 | mixed_4  | ReLU   | 0     \n",
      "------------------------------------\n",
      "5.2 K     Trainable params\n",
      "0         Non-trainable params\n",
      "5.2 K     Total params\n",
      "0.021     Total estimated model params size (MB)\n"
     ]
    },
    {
     "name": "stdout",
     "output_type": "stream",
     "text": [
      "............................--- 2184.63099694252 seconds ---\n",
      "--- 10.850333951481185 gCO2eq ---\n"
     ]
    }
   ],
   "source": [
    "start_time = time.time()\n",
    "\n",
    "for iso_code in selected_countries:\n",
    "    print(f\"Predicting {iso_code}...\")\n",
    "    \n",
    "    train_cols= swissre_features['demography'] +\\\n",
    "                    swissre_features['sanitary'] +\\\n",
    "                    swissre_features['economic'] +\\\n",
    "                    swissre_features['policies'] #+ ['shifted_r_estim']\n",
    "\n",
    "    final_train_cols = [col for col in train_cols if not df[df['iso_code'] ==  iso_code][col].isnull().all()]\n",
    "    final_train_cols = [col for col in final_train_cols if not df[df['iso_code'] != iso_code][col].std() == 0]\n",
    "    \n",
    "    if(set(train_cols) != set(final_train_cols)):\n",
    "        print(\"Final train cols diverse!\")\n",
    "        print(set(train_cols) - set(final_train_cols))\n",
    "    \n",
    "    context = Context()\n",
    "\n",
    "    pipeline = Pipeline(df, final_train_cols, 'unemployment_rate_idx', iso_code, 28, context, 'weight') #shifted_r_estim\n",
    "    pipeline.fit_pipeline(save_model=True)\n",
    "    \n",
    "delta = time.time() - start_time\n",
    "print(f\"--- {delta} seconds ---\")\n",
    "\n",
    "computation_cost = delta * (40 / 3.6e6) * 447 \n",
    "\n",
    "print(f\"--- {computation_cost} gCO2eq ---\")"
   ]
  },
  {
   "cell_type": "code",
   "execution_count": 22,
   "id": "monetary-civilian",
   "metadata": {},
   "outputs": [
    {
     "data": {
      "text/plain": [
       "date\n",
       "2020-05-01    1.205482\n",
       "2020-06-01    1.194255\n",
       "2020-07-01    1.271732\n",
       "2020-08-01    1.257575\n",
       "2020-09-01    1.206289\n",
       "2020-10-01    1.289789\n",
       "2020-11-01    1.179801\n",
       "2020-12-01    1.292545\n",
       "2021-01-01    1.371004\n",
       "2021-02-01    1.369736\n",
       "2021-03-01    1.391132\n",
       "2021-04-01    1.389417\n",
       "2021-05-01    1.256396\n",
       "Name: pred, dtype: float64"
      ]
     },
     "execution_count": 22,
     "metadata": {},
     "output_type": "execute_result"
    }
   ],
   "source": [
    "df2['pred']"
   ]
  },
  {
   "cell_type": "code",
   "execution_count": 19,
   "id": "bizarre-genealogy",
   "metadata": {},
   "outputs": [
    {
     "data": {
      "text/plain": [
       "array([       nan,        nan,        nan,        nan,        nan,\n",
       "              nan,        nan,        nan,        nan,        nan,\n",
       "              nan,        nan,        nan,        nan,        nan,\n",
       "              nan,        nan,        nan,        nan,        nan,\n",
       "              nan,        nan,        nan,        nan,        nan,\n",
       "              nan,        nan, 1.20634027, 1.20716935, 1.20649863,\n",
       "       1.2054816 , 1.20466142, 1.20401787, 1.20352365, 1.20315319,\n",
       "       1.20287978, 1.20268274, 1.20254515, 1.20245348, 1.20239709,\n",
       "       1.22230317, 1.21524006, 1.20853346, 1.20461295, 1.2065241 ,\n",
       "       1.21144627, 1.21580526, 1.21789463, 1.21808255, 1.21689425,\n",
       "       1.21533993, 1.21421449, 1.2132714 , 1.21046665, 1.20907651,\n",
       "       1.2082049 , 1.20829354, 1.20904276, 1.21044983, 1.19633136,\n",
       "       1.19370622, 1.19425463, 1.19677891, 1.19920244, 1.20044501,\n",
       "       1.17370642, 1.14048535, 1.10301032, 1.11367541, 1.1247679 ,\n",
       "       1.13433478, 1.14180226, 1.13534364, 1.12821541, 1.12279745,\n",
       "       1.11896106, 1.11565666, 1.10567256, 1.09492892, 1.08807295,\n",
       "       1.08261235, 1.07906024, 1.16924332, 1.20877768, 1.25341895,\n",
       "       1.28263935, 1.31026996, 1.35463725, 1.37927586, 1.37222372,\n",
       "       1.3178974 , 1.27173249, 1.23875167, 1.16981859, 1.15926967,\n",
       "       1.15508773, 1.15765613, 1.16396572, 1.17198397, 1.18053083,\n",
       "       1.1890875 , 1.19739576, 1.20624111, 1.21818732, 1.23385325,\n",
       "       1.25350777, 1.27065575, 1.28257468, 1.28970338, 1.29197385,\n",
       "       1.29442373, 1.29635987, 1.29786256, 1.29911808, 1.30020782,\n",
       "       1.30120916, 1.30218327, 1.30309665, 1.30396006, 1.30479872,\n",
       "       1.30556682, 1.28021628, 1.25757483, 1.23655687, 1.21246928,\n",
       "       1.1927176 , 1.17137081, 1.14220787, 1.14065709, 1.14369967,\n",
       "       1.14898624, 1.15530699, 1.16177268, 1.16873242, 1.17613439,\n",
       "       1.18381145, 1.19153587, 1.19888782, 1.20529287, 1.21121297,\n",
       "       1.21503768, 1.21481598, 1.21407219, 1.21330901, 1.21209891,\n",
       "       1.21075227, 1.20993779, 1.20887755, 1.20743087, 1.20720897,\n",
       "       1.20669904, 1.20614718, 1.20692119, 1.20628858, 1.20344162,\n",
       "       1.20266149, 1.20271307, 1.20256346, 1.20226792, 1.20261385,\n",
       "       1.20233459, 1.20147662, 1.20130311, 1.20143748, 1.20155635,\n",
       "       1.20168408, 1.20276214, 1.20425822, 1.20302851, 1.20211706,\n",
       "       1.20142521, 1.20089078, 1.20061499, 1.20146212, 1.20247131,\n",
       "       1.20625237, 1.2088584 , 1.20853079, 1.20221828, 1.19796972,\n",
       "       1.19557614, 1.19783865, 1.19658375, 1.28978897, 1.26762754,\n",
       "       1.23627086, 1.22225889, 1.21125599, 1.20342306, 1.19936935,\n",
       "       1.20026448, 1.20236521, 1.2421511 , 1.2485871 , 1.25326324,\n",
       "       1.25468489, 1.25439451, 1.25417269, 1.25399655, 1.25388046,\n",
       "       1.25296037, 1.25696325, 1.22259903, 1.21074747, 1.20076362,\n",
       "       1.19299347, 1.18719435, 1.1841179 , 1.18581132, 1.19119423,\n",
       "       1.18555154, 1.18665878, 1.18411272, 1.18185901, 1.17980052,\n",
       "       1.12849806, 1.15565808, 1.17931594, 1.2000948 , 1.21626998,\n",
       "       1.22280522, 1.22672907, 1.22975761, 1.23115847, 1.23231484,\n",
       "       1.23352729, 1.23398584, 1.23391623, 1.23258097, 1.23126135,\n",
       "       1.23028084, 1.22939509, 1.22857774, 1.22784894, 1.26824476,\n",
       "       1.26346426, 1.26052786, 1.26277861, 1.26590366, 1.26952363,\n",
       "       1.27347437, 1.2773936 , 1.28126486, 1.28588612, 1.29254549,\n",
       "       1.29882813, 1.3047303 , 1.31021025, 1.31557416, 1.32078819,\n",
       "       1.32631529, 1.33301349, 1.33908607, 1.34498566, 1.350728  ,\n",
       "       1.35614421, 1.36138688, 1.36601669, 1.37017876, 1.37361972,\n",
       "       1.37645885, 1.37894215, 1.37841444, 1.37820921, 1.37777802,\n",
       "       1.37740293, 1.37695294, 1.37646559, 1.37581597, 1.37506115,\n",
       "       1.37401663, 1.37351658, 1.37309559, 1.37248447, 1.37184177,\n",
       "       1.37100409, 1.37057195, 1.3698754 , 1.3699752 , 1.36992983,\n",
       "       1.36989046, 1.36989832, 1.36978825, 1.36980943, 1.36996994,\n",
       "       1.37003769, 1.37018728, 1.37023079, 1.37014678, 1.37020898,\n",
       "       1.37025732, 1.37030936, 1.37038355, 1.36977264, 1.36959373,\n",
       "       1.36967941, 1.3698176 , 1.36952365, 1.3696621 , 1.36962157,\n",
       "       1.36895032, 1.36887543, 1.36890455, 1.36884032, 1.36896416,\n",
       "       1.36945769, 1.36973598, 1.3701849 , 1.37018429, 1.36880123,\n",
       "       1.37074956, 1.37149079, 1.3727852 , 1.37384814, 1.37436255,\n",
       "       1.37556509, 1.3762579 , 1.37703263, 1.377821  , 1.37937343,\n",
       "       1.38050361, 1.38138674, 1.38060676, 1.38176815, 1.38231182,\n",
       "       1.38167947, 1.38383712, 1.38592749, 1.38611552, 1.38656067,\n",
       "       1.38783264, 1.38830641, 1.38901972, 1.38972588, 1.39113167,\n",
       "       1.39144949, 1.39244298, 1.39304522, 1.39323701, 1.39368578,\n",
       "       1.39412721, 1.39454409, 1.39433309, 1.39473422, 1.3946553 ,\n",
       "       1.39470319, 1.39485103, 1.39498614, 1.39457927, 1.39419703,\n",
       "       1.39324895, 1.39320745, 1.39228507, 1.39207444, 1.3918919 ,\n",
       "       1.39210465, 1.3896368 , 1.38868376, 1.38830986, 1.38826625,\n",
       "       1.38835478, 1.38847179, 1.38857026, 1.38876981, 1.38906398,\n",
       "       1.38941735, 1.38977546, 1.39012772, 1.39041564, 1.39068219,\n",
       "       1.39090115, 1.39101971, 1.39106607, 1.39100392, 1.39090852,\n",
       "       1.39069564, 1.39042991, 1.39011566, 1.38972538, 1.38926089,\n",
       "       1.3887618 , 1.3881949 , 1.38757474, 1.40117053, 1.37232999,\n",
       "       1.33993254, 1.31210972, 1.29992165, 1.29104494, 1.28968697,\n",
       "       1.29107706, 1.28914048, 1.27624008, 1.26715317, 1.26086579,\n",
       "       1.25639561, 1.25297805, 1.25038608, 1.24844105, 1.24698536,\n",
       "       1.24588986, 1.24507815, 1.24446504, 1.24399871, 1.24361527,\n",
       "       1.24328055, 1.24296996, 1.24266066, 1.2423598 , 1.2420835 ,\n",
       "       1.24185283, 1.2417158 , 1.24152072, 1.24127504, 1.24097417,\n",
       "       1.24062338, 1.24021938, 1.23975958, 1.23925987, 1.23872193,\n",
       "       1.2381401 , 1.23752802, 1.23689744, 1.23624938, 1.23557563,\n",
       "       1.23586546])"
      ]
     },
     "execution_count": 19,
     "metadata": {},
     "output_type": "execute_result"
    }
   ],
   "source": [
    "predictions"
   ]
  },
  {
   "cell_type": "code",
   "execution_count": 20,
   "id": "overhead-bonus",
   "metadata": {},
   "outputs": [
    {
     "data": {
      "text/plain": [
       "date\n",
       "2020-04-01    0.606264\n",
       "2020-04-02    0.622527\n",
       "2020-04-03    0.638791\n",
       "2020-04-04    0.655055\n",
       "2020-04-05    0.671319\n",
       "                ...   \n",
       "2021-05-27    1.706044\n",
       "2021-05-28    1.704396\n",
       "2021-05-29    1.702747\n",
       "2021-05-30    1.701099\n",
       "2021-05-31    1.699451\n",
       "Name: unemployment_rate_idx, Length: 426, dtype: float64"
      ]
     },
     "execution_count": 20,
     "metadata": {},
     "output_type": "execute_result"
    }
   ],
   "source": [
    "ground"
   ]
  },
  {
   "cell_type": "markdown",
   "id": "frozen-omaha",
   "metadata": {},
   "source": [
    "## More countries"
   ]
  },
  {
   "cell_type": "code",
   "execution_count": null,
   "id": "following-potato",
   "metadata": {},
   "outputs": [],
   "source": []
  },
  {
   "cell_type": "code",
   "execution_count": 18,
   "id": "previous-drama",
   "metadata": {},
   "outputs": [],
   "source": [
    "selected_names = ['Switzerland'] #, 'Denmark', 'France'\n",
    "countries = ['CHE'] # , 'DNK', 'FRA'"
   ]
  },
  {
   "cell_type": "code",
   "execution_count": 19,
   "id": "threatened-secret",
   "metadata": {},
   "outputs": [
    {
     "name": "stderr",
     "output_type": "stream",
     "text": [
      "Global seed set to 42\n",
      "Global seed set to 42\n"
     ]
    },
    {
     "name": "stdout",
     "output_type": "stream",
     "text": [
      "Training the model...\n",
      "\n"
     ]
    },
    {
     "name": "stderr",
     "output_type": "stream",
     "text": [
      "Global seed set to 42\n",
      "GPU available: False, used: False\n",
      "TPU available: False, using: 0 TPU cores\n",
      "\n",
      "  | Name     | Type   | Params\n",
      "------------------------------------\n",
      "0 | lstm_1   | LSTM   | 3.4 K \n",
      "1 | linear_1 | Linear | 1.6 K \n",
      "2 | linear_2 | ReLU   | 0     \n",
      "3 | mixed_1  | Linear | 1.1 K \n",
      "4 | mixed_2  | ReLU   | 0     \n",
      "5 | mixed_3  | Linear | 16    \n",
      "6 | mixed_4  | ReLU   | 0     \n",
      "------------------------------------\n",
      "6.1 K     Trainable params\n",
      "0         Non-trainable params\n",
      "6.1 K     Total params\n",
      "0.024     Total estimated model params size (MB)\n",
      "The dataloader, val dataloader 0, does not have many workers which may be a bottleneck. Consider increasing the value of the `num_workers` argument` (try 12 which is the number of cpus on this machine) in the `DataLoader` init to improve performance.\n",
      "The dataloader, train dataloader, does not have many workers which may be a bottleneck. Consider increasing the value of the `num_workers` argument` (try 12 which is the number of cpus on this machine) in the `DataLoader` init to improve performance.\n"
     ]
    },
    {
     "name": "stdout",
     "output_type": "stream",
     "text": [
      "..........................."
     ]
    },
    {
     "ename": "TypeError",
     "evalue": "'AxesSubplot' object is not subscriptable",
     "output_type": "error",
     "traceback": [
      "\u001b[0;31m---------------------------------------------------------------------------\u001b[0m",
      "\u001b[0;31mTypeError\u001b[0m                                 Traceback (most recent call last)",
      "\u001b[0;32m<ipython-input-19-99a5b3fdc370>\u001b[0m in \u001b[0;36m<module>\u001b[0;34m\u001b[0m\n\u001b[1;32m     30\u001b[0m     \u001b[0mdf2\u001b[0m\u001b[0;34m[\u001b[0m\u001b[0;34m'index'\u001b[0m\u001b[0;34m]\u001b[0m \u001b[0;34m=\u001b[0m \u001b[0mdf2\u001b[0m\u001b[0;34m[\u001b[0m\u001b[0;34m'index'\u001b[0m\u001b[0;34m]\u001b[0m\u001b[0;34m.\u001b[0m\u001b[0mdt\u001b[0m\u001b[0;34m.\u001b[0m\u001b[0mstrftime\u001b[0m\u001b[0;34m(\u001b[0m\u001b[0;34m'%Y-%m'\u001b[0m\u001b[0;34m)\u001b[0m\u001b[0;34m\u001b[0m\u001b[0;34m\u001b[0m\u001b[0m\n\u001b[1;32m     31\u001b[0m \u001b[0;34m\u001b[0m\u001b[0m\n\u001b[0;32m---> 32\u001b[0;31m     \u001b[0mdf2\u001b[0m\u001b[0;34m.\u001b[0m\u001b[0mplot\u001b[0m\u001b[0;34m.\u001b[0m\u001b[0mbar\u001b[0m\u001b[0;34m(\u001b[0m\u001b[0mx\u001b[0m \u001b[0;34m=\u001b[0m \u001b[0;34m'index'\u001b[0m\u001b[0;34m,\u001b[0m \u001b[0my\u001b[0m \u001b[0;34m=\u001b[0m \u001b[0;34m[\u001b[0m\u001b[0;34m'ground'\u001b[0m\u001b[0;34m,\u001b[0m \u001b[0;34m'pred'\u001b[0m\u001b[0;34m]\u001b[0m\u001b[0;34m,\u001b[0m \u001b[0mrot\u001b[0m \u001b[0;34m=\u001b[0m \u001b[0;36m0\u001b[0m\u001b[0;34m,\u001b[0m \u001b[0mfontsize\u001b[0m\u001b[0;34m=\u001b[0m\u001b[0;36m14\u001b[0m\u001b[0;34m,\u001b[0m \u001b[0mlegend\u001b[0m\u001b[0;34m=\u001b[0m\u001b[0;32mFalse\u001b[0m\u001b[0;34m,\u001b[0m \u001b[0max\u001b[0m \u001b[0;34m=\u001b[0m \u001b[0maxis\u001b[0m\u001b[0;34m[\u001b[0m\u001b[0mindice\u001b[0m\u001b[0;34m]\u001b[0m\u001b[0;34m)\u001b[0m\u001b[0;34m\u001b[0m\u001b[0;34m\u001b[0m\u001b[0m\n\u001b[0m\u001b[1;32m     33\u001b[0m \u001b[0;34m\u001b[0m\u001b[0m\n\u001b[1;32m     34\u001b[0m     \u001b[0mpre_patch\u001b[0m \u001b[0;34m=\u001b[0m \u001b[0mmpatches\u001b[0m\u001b[0;34m.\u001b[0m\u001b[0mPatch\u001b[0m\u001b[0;34m(\u001b[0m\u001b[0mcolor\u001b[0m\u001b[0;34m=\u001b[0m\u001b[0;34m(\u001b[0m\u001b[0;36m1.0\u001b[0m\u001b[0;34m,\u001b[0m \u001b[0;36m0.4980392156862745\u001b[0m\u001b[0;34m,\u001b[0m \u001b[0;36m0.054901960784313725\u001b[0m\u001b[0;34m,\u001b[0m \u001b[0;36m1.0\u001b[0m\u001b[0;34m)\u001b[0m\u001b[0;34m,\u001b[0m \u001b[0mlabel\u001b[0m\u001b[0;34m=\u001b[0m\u001b[0;34m'Predicted UER'\u001b[0m\u001b[0;34m)\u001b[0m\u001b[0;34m\u001b[0m\u001b[0;34m\u001b[0m\u001b[0m\n",
      "\u001b[0;31mTypeError\u001b[0m: 'AxesSubplot' object is not subscriptable"
     ]
    },
    {
     "data": {
      "image/png": "[encoded data removed]",
      "text/plain": [
       "<Figure size 1440x720 with 1 Axes>"
      ]
     },
     "metadata": {
      "needs_background": "light"
     },
     "output_type": "display_data"
    }
   ],
   "source": [
    "fig, axis = plt.subplots(len(countries), 1, sharex=True, sharey=True, figsize = (20, 10))\n",
    "\n",
    "for indice in range(len(countries)):   \n",
    "    # Final training colums\n",
    "    train_cols= swissre_features['demography'] +\\\n",
    "                swissre_features['sanitary'] +\\\n",
    "                # swissre_features['vaccines']+\\\n",
    "                swissre_features['economic'] +\\\n",
    "                swissre_features['policies']+ ['shifted_r_estim']# +\\\n",
    "              #  swissre_features['weather']\n",
    "\n",
    "    final_train_cols = [col for col in train_cols if not df[df['iso_code'] == countries[indice]][col].isnull().all()]\n",
    "    final_train_cols = [col for col in final_train_cols if not df[df['iso_code'] != countries[indice]][col].std() == 0]\n",
    "    \n",
    "    context = Context()\n",
    "    \n",
    "    pipeline = Pipeline(df, final_train_cols, 'unemployment_rate_idx', countries[indice], 28, context, 'weight') #shifted_r_estim\n",
    "    pipeline.fit_pipeline(save_model=False)\n",
    "    \n",
    "    predictions = pipeline.predict()\n",
    "    \n",
    "    test_indices = df['iso_code'] == countries[indice]\n",
    "    index = df.loc[test_indices].index\n",
    "    ground = df.loc[test_indices]['unemployment_rate_idx']\n",
    "    error_curve = np.abs(ground - predictions)\n",
    "\n",
    "    df2 = pd.DataFrame({'index': index, 'ground': ground, 'pred': predictions, 'error': error_curve}).sort_values(by = 'index')\n",
    "    df2 = df2[(df2['index'] >= '2020-05-01') & (df2['index'].dt.day == 1)]\n",
    "\n",
    "    df2['index'] = df2['index'].dt.strftime('%Y-%m')\n",
    "\n",
    "    df2.plot.bar(x = 'index', y = ['ground', 'pred'], rot = 0, fontsize=14, legend=False, ax = axis[indice])\n",
    "\n",
    "    pre_patch = mpatches.Patch(color=(1.0, 0.4980392156862745, 0.054901960784313725, 1.0), label='Predicted UER')\n",
    "    ground_patch = mpatches.Patch(color=(0.12156862745098039, 0.4666666666666667, 0.7058823529411765, 1.0), label='Reported (and interpolated) UER')\n",
    "    axis[0].legend(handles=[ground_patch, pre_patch], fontsize=14)\n",
    "\n",
    "    axis[indice].set_title(f\"{selected_names[indice]} ({countries[indice]})\", fontsize=16)\n",
    "    axis[indice].set_xlabel(\"Date\", fontsize=16);\n",
    "    axis[indice].set_ylabel(\"UER\", fontsize=16);"
   ]
  },
  {
   "cell_type": "code",
   "execution_count": 21,
   "id": "first-eligibility",
   "metadata": {},
   "outputs": [],
   "source": [
    "fig.savefig('EconomicPlots.pdf', bbox_inches='tight')"
   ]
  },
  {
   "cell_type": "code",
   "execution_count": 18,
   "id": "inclusive-basement",
   "metadata": {},
   "outputs": [
    {
     "ename": "NameError",
     "evalue": "name 'final_iso_code' is not defined",
     "output_type": "error",
     "traceback": [
      "\u001b[0;31m---------------------------------------------------------------------------\u001b[0m",
      "\u001b[0;31mNameError\u001b[0m                                 Traceback (most recent call last)",
      "\u001b[0;32m<ipython-input-18-47575d7af931>\u001b[0m in \u001b[0;36m<module>\u001b[0;34m\u001b[0m\n\u001b[0;32m----> 1\u001b[0;31m \u001b[0mtest_indices\u001b[0m \u001b[0;34m=\u001b[0m \u001b[0mdf\u001b[0m\u001b[0;34m[\u001b[0m\u001b[0;34m'iso_code'\u001b[0m\u001b[0;34m]\u001b[0m \u001b[0;34m==\u001b[0m \u001b[0mfinal_iso_code\u001b[0m\u001b[0;34m\u001b[0m\u001b[0;34m\u001b[0m\u001b[0m\n\u001b[0m\u001b[1;32m      2\u001b[0m \u001b[0mindex\u001b[0m \u001b[0;34m=\u001b[0m \u001b[0mdf\u001b[0m\u001b[0;34m.\u001b[0m\u001b[0mloc\u001b[0m\u001b[0;34m[\u001b[0m\u001b[0mtest_indices\u001b[0m\u001b[0;34m]\u001b[0m\u001b[0;34m.\u001b[0m\u001b[0mindex\u001b[0m\u001b[0;34m\u001b[0m\u001b[0;34m\u001b[0m\u001b[0m\n\u001b[1;32m      3\u001b[0m \u001b[0mground\u001b[0m \u001b[0;34m=\u001b[0m \u001b[0mdf\u001b[0m\u001b[0;34m.\u001b[0m\u001b[0mloc\u001b[0m\u001b[0;34m[\u001b[0m\u001b[0mtest_indices\u001b[0m\u001b[0;34m]\u001b[0m\u001b[0;34m[\u001b[0m\u001b[0;34m'unemployment_rate_idx'\u001b[0m\u001b[0;34m]\u001b[0m\u001b[0;34m\u001b[0m\u001b[0;34m\u001b[0m\u001b[0m\n\u001b[1;32m      4\u001b[0m \u001b[0merror_curve\u001b[0m \u001b[0;34m=\u001b[0m \u001b[0mnp\u001b[0m\u001b[0;34m.\u001b[0m\u001b[0mabs\u001b[0m\u001b[0;34m(\u001b[0m\u001b[0mground\u001b[0m \u001b[0;34m-\u001b[0m \u001b[0mpredictions\u001b[0m\u001b[0;34m)\u001b[0m\u001b[0;34m\u001b[0m\u001b[0;34m\u001b[0m\u001b[0m\n\u001b[1;32m      5\u001b[0m \u001b[0;34m\u001b[0m\u001b[0m\n",
      "\u001b[0;31mNameError\u001b[0m: name 'final_iso_code' is not defined"
     ]
    }
   ],
   "source": [
    "test_indices = df['iso_code'] == final_iso_code\n",
    "index = df.loc[test_indices].index\n",
    "ground = df.loc[test_indices]['unemployment_rate_idx']\n",
    "error_curve = np.abs(ground - predictions)\n",
    "\n",
    "df2 = pd.DataFrame({'index': index, 'ground': ground, 'pred': predictions, 'error': error_curve}).sort_values(by = 'index')\n",
    "df2 = df2[(df2['index'] >= '2020-05-01') & (df2['index'].dt.day == 1)]\n",
    "\n",
    "df2['index'] = df2['index'].dt.date\n",
    "\n",
    "\n",
    "df2.plot.bar(x = 'index', y = ['ground', 'pred'], rot = 0, figsize=(20,5), fontsize=14, legend=False)\n",
    "\n",
    "pre_patch = mpatches.Patch(color=(1.0, 0.4980392156862745, 0.054901960784313725, 1.0), label='Predicted')\n",
    "ground_patch = mpatches.Patch(color=(0.12156862745098039, 0.4666666666666667, 0.7058823529411765, 1.0), label='Ground')\n",
    "plt.legend(handles=[ground_patch, pre_patch], fontsize=16)\n",
    "\n",
    "plt.title(\"Economic predictions for CHE\", fontsize=18)\n",
    "plt.xlabel(\"Date\", fontsize=18);\n",
    "plt.savefig('EconomicCHE.pdf', bbox_inches='tight')"
   ]
  },
  {
   "cell_type": "markdown",
   "id": "three-model",
   "metadata": {},
   "source": [
    "## Predictions for each country"
   ]
  },
  {
   "cell_type": "code",
   "execution_count": 19,
   "id": "another-multimedia",
   "metadata": {},
   "outputs": [
    {
     "name": "stderr",
     "output_type": "stream",
     "text": [
      "Global seed set to 42\n",
      "Global seed set to 42\n"
     ]
    },
    {
     "name": "stdout",
     "output_type": "stream",
     "text": [
      "Training the model...\n",
      "\n"
     ]
    },
    {
     "name": "stderr",
     "output_type": "stream",
     "text": [
      "Global seed set to 42\n",
      "GPU available: False, used: False\n",
      "TPU available: None, using: 0 TPU cores\n",
      "\n",
      "  | Name     | Type   | Params\n",
      "------------------------------------\n",
      "0 | lstm_1   | LSTM   | 3.4 K \n",
      "1 | linear_1 | Linear | 1.9 K \n",
      "2 | linear_2 | ReLU   | 0     \n",
      "3 | mixed_1  | Linear | 1.1 K \n",
      "4 | mixed_2  | ReLU   | 0     \n",
      "5 | mixed_3  | Linear | 16    \n",
      "6 | mixed_4  | ReLU   | 0     \n",
      "------------------------------------\n",
      "6.4 K     Trainable params\n",
      "0         Non-trainable params\n",
      "6.4 K     Total params\n",
      "0.025     Total estimated model params size (MB)\n"
     ]
    },
    {
     "name": "stdout",
     "output_type": "stream",
     "text": [
      "..........................."
     ]
    },
    {
     "name": "stderr",
     "output_type": "stream",
     "text": [
      "Global seed set to 42\n",
      "Global seed set to 42\n"
     ]
    },
    {
     "name": "stdout",
     "output_type": "stream",
     "text": [
      ".Training the model...\n",
      "\n"
     ]
    },
    {
     "name": "stderr",
     "output_type": "stream",
     "text": [
      "Global seed set to 42\n",
      "GPU available: False, used: False\n",
      "TPU available: None, using: 0 TPU cores\n",
      "\n",
      "  | Name     | Type   | Params\n",
      "------------------------------------\n",
      "0 | lstm_1   | LSTM   | 3.4 K \n",
      "1 | linear_1 | Linear | 1.9 K \n",
      "2 | linear_2 | ReLU   | 0     \n",
      "3 | mixed_1  | Linear | 1.1 K \n",
      "4 | mixed_2  | ReLU   | 0     \n",
      "5 | mixed_3  | Linear | 16    \n",
      "6 | mixed_4  | ReLU   | 0     \n",
      "------------------------------------\n",
      "6.4 K     Trainable params\n",
      "0         Non-trainable params\n",
      "6.4 K     Total params\n",
      "0.025     Total estimated model params size (MB)\n"
     ]
    },
    {
     "name": "stdout",
     "output_type": "stream",
     "text": [
      "............................"
     ]
    },
    {
     "name": "stderr",
     "output_type": "stream",
     "text": [
      "Global seed set to 42\n",
      "Global seed set to 42\n"
     ]
    },
    {
     "name": "stdout",
     "output_type": "stream",
     "text": [
      ".Training the model...\n",
      "\n"
     ]
    },
    {
     "name": "stderr",
     "output_type": "stream",
     "text": [
      "Global seed set to 42\n",
      "GPU available: False, used: False\n",
      "TPU available: None, using: 0 TPU cores\n",
      "\n",
      "  | Name     | Type   | Params\n",
      "------------------------------------\n",
      "0 | lstm_1   | LSTM   | 3.4 K \n",
      "1 | linear_1 | Linear | 1.9 K \n",
      "2 | linear_2 | ReLU   | 0     \n",
      "3 | mixed_1  | Linear | 1.1 K \n",
      "4 | mixed_2  | ReLU   | 0     \n",
      "5 | mixed_3  | Linear | 16    \n",
      "6 | mixed_4  | ReLU   | 0     \n",
      "------------------------------------\n",
      "6.4 K     Trainable params\n",
      "0         Non-trainable params\n",
      "6.4 K     Total params\n",
      "0.025     Total estimated model params size (MB)\n"
     ]
    },
    {
     "name": "stdout",
     "output_type": "stream",
     "text": [
      "......................................................................"
     ]
    },
    {
     "name": "stderr",
     "output_type": "stream",
     "text": [
      "Global seed set to 42\n",
      "Global seed set to 42\n"
     ]
    },
    {
     "name": "stdout",
     "output_type": "stream",
     "text": [
      ".Training the model...\n",
      "\n"
     ]
    },
    {
     "name": "stderr",
     "output_type": "stream",
     "text": [
      "Global seed set to 42\n",
      "GPU available: False, used: False\n",
      "TPU available: None, using: 0 TPU cores\n",
      "\n",
      "  | Name     | Type   | Params\n",
      "------------------------------------\n",
      "0 | lstm_1   | LSTM   | 3.4 K \n",
      "1 | linear_1 | Linear | 1.9 K \n",
      "2 | linear_2 | ReLU   | 0     \n",
      "3 | mixed_1  | Linear | 1.1 K \n",
      "4 | mixed_2  | ReLU   | 0     \n",
      "5 | mixed_3  | Linear | 16    \n",
      "6 | mixed_4  | ReLU   | 0     \n",
      "------------------------------------\n",
      "6.4 K     Trainable params\n",
      "0         Non-trainable params\n",
      "6.4 K     Total params\n",
      "0.025     Total estimated model params size (MB)\n"
     ]
    },
    {
     "name": "stdout",
     "output_type": "stream",
     "text": [
      ".........................."
     ]
    },
    {
     "name": "stderr",
     "output_type": "stream",
     "text": [
      "Global seed set to 42\n",
      "Global seed set to 42\n"
     ]
    },
    {
     "name": "stdout",
     "output_type": "stream",
     "text": [
      ".Training the model...\n",
      "\n"
     ]
    },
    {
     "name": "stderr",
     "output_type": "stream",
     "text": [
      "Global seed set to 42\n",
      "GPU available: False, used: False\n",
      "TPU available: None, using: 0 TPU cores\n",
      "\n",
      "  | Name     | Type   | Params\n",
      "------------------------------------\n",
      "0 | lstm_1   | LSTM   | 3.4 K \n",
      "1 | linear_1 | Linear | 1.8 K \n",
      "2 | linear_2 | ReLU   | 0     \n",
      "3 | mixed_1  | Linear | 1.1 K \n",
      "4 | mixed_2  | ReLU   | 0     \n",
      "5 | mixed_3  | Linear | 16    \n",
      "6 | mixed_4  | ReLU   | 0     \n",
      "------------------------------------\n",
      "6.3 K     Trainable params\n",
      "0         Non-trainable params\n",
      "6.3 K     Total params\n",
      "0.025     Total estimated model params size (MB)\n"
     ]
    },
    {
     "name": "stdout",
     "output_type": "stream",
     "text": [
      ".........................."
     ]
    },
    {
     "name": "stderr",
     "output_type": "stream",
     "text": [
      "Global seed set to 42\n",
      "Global seed set to 42\n"
     ]
    },
    {
     "name": "stdout",
     "output_type": "stream",
     "text": [
      ".Training the model...\n",
      "\n"
     ]
    },
    {
     "name": "stderr",
     "output_type": "stream",
     "text": [
      "Global seed set to 42\n",
      "GPU available: False, used: False\n",
      "TPU available: None, using: 0 TPU cores\n",
      "\n",
      "  | Name     | Type   | Params\n",
      "------------------------------------\n",
      "0 | lstm_1   | LSTM   | 3.4 K \n",
      "1 | linear_1 | Linear | 1.9 K \n",
      "2 | linear_2 | ReLU   | 0     \n",
      "3 | mixed_1  | Linear | 1.1 K \n",
      "4 | mixed_2  | ReLU   | 0     \n",
      "5 | mixed_3  | Linear | 16    \n",
      "6 | mixed_4  | ReLU   | 0     \n",
      "------------------------------------\n",
      "6.4 K     Trainable params\n",
      "0         Non-trainable params\n",
      "6.4 K     Total params\n",
      "0.025     Total estimated model params size (MB)\n"
     ]
    },
    {
     "name": "stdout",
     "output_type": "stream",
     "text": [
      "............................................................"
     ]
    },
    {
     "name": "stderr",
     "output_type": "stream",
     "text": [
      "Global seed set to 42\n",
      "Global seed set to 42\n"
     ]
    },
    {
     "name": "stdout",
     "output_type": "stream",
     "text": [
      ".Training the model...\n",
      "\n"
     ]
    },
    {
     "name": "stderr",
     "output_type": "stream",
     "text": [
      "Global seed set to 42\n",
      "GPU available: False, used: False\n",
      "TPU available: None, using: 0 TPU cores\n",
      "\n",
      "  | Name     | Type   | Params\n",
      "------------------------------------\n",
      "0 | lstm_1   | LSTM   | 3.4 K \n",
      "1 | linear_1 | Linear | 1.9 K \n",
      "2 | linear_2 | ReLU   | 0     \n",
      "3 | mixed_1  | Linear | 1.1 K \n",
      "4 | mixed_2  | ReLU   | 0     \n",
      "5 | mixed_3  | Linear | 16    \n",
      "6 | mixed_4  | ReLU   | 0     \n",
      "------------------------------------\n",
      "6.4 K     Trainable params\n",
      "0         Non-trainable params\n",
      "6.4 K     Total params\n",
      "0.025     Total estimated model params size (MB)\n"
     ]
    },
    {
     "name": "stdout",
     "output_type": "stream",
     "text": [
      ".............................."
     ]
    },
    {
     "name": "stderr",
     "output_type": "stream",
     "text": [
      "Global seed set to 42\n",
      "Global seed set to 42\n"
     ]
    },
    {
     "name": "stdout",
     "output_type": "stream",
     "text": [
      ".Training the model...\n",
      "\n"
     ]
    },
    {
     "name": "stderr",
     "output_type": "stream",
     "text": [
      "Global seed set to 42\n",
      "GPU available: False, used: False\n",
      "TPU available: None, using: 0 TPU cores\n",
      "\n",
      "  | Name     | Type   | Params\n",
      "------------------------------------\n",
      "0 | lstm_1   | LSTM   | 3.4 K \n",
      "1 | linear_1 | Linear | 1.9 K \n",
      "2 | linear_2 | ReLU   | 0     \n",
      "3 | mixed_1  | Linear | 1.1 K \n",
      "4 | mixed_2  | ReLU   | 0     \n",
      "5 | mixed_3  | Linear | 16    \n",
      "6 | mixed_4  | ReLU   | 0     \n",
      "------------------------------------\n",
      "6.4 K     Trainable params\n",
      "0         Non-trainable params\n",
      "6.4 K     Total params\n",
      "0.025     Total estimated model params size (MB)\n"
     ]
    },
    {
     "name": "stdout",
     "output_type": "stream",
     "text": [
      "............................"
     ]
    },
    {
     "name": "stderr",
     "output_type": "stream",
     "text": [
      "Global seed set to 42\n",
      "Global seed set to 42\n"
     ]
    },
    {
     "name": "stdout",
     "output_type": "stream",
     "text": [
      ".Training the model...\n",
      "\n"
     ]
    },
    {
     "name": "stderr",
     "output_type": "stream",
     "text": [
      "Global seed set to 42\n",
      "GPU available: False, used: False\n",
      "TPU available: None, using: 0 TPU cores\n",
      "\n",
      "  | Name     | Type   | Params\n",
      "------------------------------------\n",
      "0 | lstm_1   | LSTM   | 3.4 K \n",
      "1 | linear_1 | Linear | 1.9 K \n",
      "2 | linear_2 | ReLU   | 0     \n",
      "3 | mixed_1  | Linear | 1.1 K \n",
      "4 | mixed_2  | ReLU   | 0     \n",
      "5 | mixed_3  | Linear | 16    \n",
      "6 | mixed_4  | ReLU   | 0     \n",
      "------------------------------------\n",
      "6.4 K     Trainable params\n",
      "0         Non-trainable params\n",
      "6.4 K     Total params\n",
      "0.025     Total estimated model params size (MB)\n"
     ]
    },
    {
     "name": "stdout",
     "output_type": "stream",
     "text": [
      "............................................."
     ]
    },
    {
     "name": "stderr",
     "output_type": "stream",
     "text": [
      "Global seed set to 42\n",
      "Global seed set to 42\n"
     ]
    },
    {
     "name": "stdout",
     "output_type": "stream",
     "text": [
      ".Training the model...\n",
      "\n"
     ]
    },
    {
     "name": "stderr",
     "output_type": "stream",
     "text": [
      "Global seed set to 42\n",
      "GPU available: False, used: False\n",
      "TPU available: None, using: 0 TPU cores\n",
      "\n",
      "  | Name     | Type   | Params\n",
      "------------------------------------\n",
      "0 | lstm_1   | LSTM   | 3.4 K \n",
      "1 | linear_1 | Linear | 1.9 K \n",
      "2 | linear_2 | ReLU   | 0     \n",
      "3 | mixed_1  | Linear | 1.1 K \n",
      "4 | mixed_2  | ReLU   | 0     \n",
      "5 | mixed_3  | Linear | 16    \n",
      "6 | mixed_4  | ReLU   | 0     \n",
      "------------------------------------\n",
      "6.4 K     Trainable params\n",
      "0         Non-trainable params\n",
      "6.4 K     Total params\n",
      "0.025     Total estimated model params size (MB)\n"
     ]
    },
    {
     "name": "stdout",
     "output_type": "stream",
     "text": [
      "............................"
     ]
    },
    {
     "name": "stderr",
     "output_type": "stream",
     "text": [
      "Global seed set to 42\n",
      "Global seed set to 42\n"
     ]
    },
    {
     "name": "stdout",
     "output_type": "stream",
     "text": [
      ".Training the model...\n",
      "\n"
     ]
    },
    {
     "name": "stderr",
     "output_type": "stream",
     "text": [
      "Global seed set to 42\n",
      "GPU available: False, used: False\n",
      "TPU available: None, using: 0 TPU cores\n",
      "\n",
      "  | Name     | Type   | Params\n",
      "------------------------------------\n",
      "0 | lstm_1   | LSTM   | 3.4 K \n",
      "1 | linear_1 | Linear | 1.9 K \n",
      "2 | linear_2 | ReLU   | 0     \n",
      "3 | mixed_1  | Linear | 1.1 K \n",
      "4 | mixed_2  | ReLU   | 0     \n",
      "5 | mixed_3  | Linear | 16    \n",
      "6 | mixed_4  | ReLU   | 0     \n",
      "------------------------------------\n",
      "6.4 K     Trainable params\n",
      "0         Non-trainable params\n",
      "6.4 K     Total params\n",
      "0.025     Total estimated model params size (MB)\n"
     ]
    },
    {
     "name": "stdout",
     "output_type": "stream",
     "text": [
      "............................."
     ]
    },
    {
     "name": "stderr",
     "output_type": "stream",
     "text": [
      "Global seed set to 42\n",
      "Global seed set to 42\n"
     ]
    },
    {
     "name": "stdout",
     "output_type": "stream",
     "text": [
      ".Training the model...\n",
      "\n"
     ]
    },
    {
     "name": "stderr",
     "output_type": "stream",
     "text": [
      "Global seed set to 42\n",
      "GPU available: False, used: False\n",
      "TPU available: None, using: 0 TPU cores\n",
      "\n",
      "  | Name     | Type   | Params\n",
      "------------------------------------\n",
      "0 | lstm_1   | LSTM   | 3.4 K \n",
      "1 | linear_1 | Linear | 1.9 K \n",
      "2 | linear_2 | ReLU   | 0     \n",
      "3 | mixed_1  | Linear | 1.1 K \n",
      "4 | mixed_2  | ReLU   | 0     \n",
      "5 | mixed_3  | Linear | 16    \n",
      "6 | mixed_4  | ReLU   | 0     \n",
      "------------------------------------\n",
      "6.4 K     Trainable params\n",
      "0         Non-trainable params\n",
      "6.4 K     Total params\n",
      "0.025     Total estimated model params size (MB)\n"
     ]
    },
    {
     "name": "stdout",
     "output_type": "stream",
     "text": [
      ".........................."
     ]
    },
    {
     "name": "stderr",
     "output_type": "stream",
     "text": [
      "Global seed set to 42\n",
      "Global seed set to 42\n"
     ]
    },
    {
     "name": "stdout",
     "output_type": "stream",
     "text": [
      ".Training the model...\n",
      "\n"
     ]
    },
    {
     "name": "stderr",
     "output_type": "stream",
     "text": [
      "Global seed set to 42\n",
      "GPU available: False, used: False\n",
      "TPU available: None, using: 0 TPU cores\n",
      "\n",
      "  | Name     | Type   | Params\n",
      "------------------------------------\n",
      "0 | lstm_1   | LSTM   | 3.4 K \n",
      "1 | linear_1 | Linear | 1.9 K \n",
      "2 | linear_2 | ReLU   | 0     \n",
      "3 | mixed_1  | Linear | 1.1 K \n",
      "4 | mixed_2  | ReLU   | 0     \n",
      "5 | mixed_3  | Linear | 16    \n",
      "6 | mixed_4  | ReLU   | 0     \n",
      "------------------------------------\n",
      "6.4 K     Trainable params\n",
      "0         Non-trainable params\n",
      "6.4 K     Total params\n",
      "0.025     Total estimated model params size (MB)\n"
     ]
    },
    {
     "name": "stdout",
     "output_type": "stream",
     "text": [
      ".........................................."
     ]
    },
    {
     "name": "stderr",
     "output_type": "stream",
     "text": [
      "Global seed set to 42\n",
      "Global seed set to 42\n"
     ]
    },
    {
     "name": "stdout",
     "output_type": "stream",
     "text": [
      ".Training the model...\n",
      "\n"
     ]
    },
    {
     "name": "stderr",
     "output_type": "stream",
     "text": [
      "Global seed set to 42\n",
      "GPU available: False, used: False\n",
      "TPU available: None, using: 0 TPU cores\n",
      "\n",
      "  | Name     | Type   | Params\n",
      "------------------------------------\n",
      "0 | lstm_1   | LSTM   | 3.4 K \n",
      "1 | linear_1 | Linear | 1.9 K \n",
      "2 | linear_2 | ReLU   | 0     \n",
      "3 | mixed_1  | Linear | 1.1 K \n",
      "4 | mixed_2  | ReLU   | 0     \n",
      "5 | mixed_3  | Linear | 16    \n",
      "6 | mixed_4  | ReLU   | 0     \n",
      "------------------------------------\n",
      "6.4 K     Trainable params\n",
      "0         Non-trainable params\n",
      "6.4 K     Total params\n",
      "0.025     Total estimated model params size (MB)\n"
     ]
    },
    {
     "name": "stdout",
     "output_type": "stream",
     "text": [
      "..............................................................................."
     ]
    },
    {
     "name": "stderr",
     "output_type": "stream",
     "text": [
      "Global seed set to 42\n",
      "Global seed set to 42\n"
     ]
    },
    {
     "name": "stdout",
     "output_type": "stream",
     "text": [
      ".Training the model...\n",
      "\n"
     ]
    },
    {
     "name": "stderr",
     "output_type": "stream",
     "text": [
      "Global seed set to 42\n",
      "GPU available: False, used: False\n",
      "TPU available: None, using: 0 TPU cores\n",
      "\n",
      "  | Name     | Type   | Params\n",
      "------------------------------------\n",
      "0 | lstm_1   | LSTM   | 3.4 K \n",
      "1 | linear_1 | Linear | 1.9 K \n",
      "2 | linear_2 | ReLU   | 0     \n",
      "3 | mixed_1  | Linear | 1.1 K \n",
      "4 | mixed_2  | ReLU   | 0     \n",
      "5 | mixed_3  | Linear | 16    \n",
      "6 | mixed_4  | ReLU   | 0     \n",
      "------------------------------------\n",
      "6.4 K     Trainable params\n",
      "0         Non-trainable params\n",
      "6.4 K     Total params\n",
      "0.025     Total estimated model params size (MB)\n"
     ]
    },
    {
     "name": "stdout",
     "output_type": "stream",
     "text": [
      ".........................."
     ]
    },
    {
     "name": "stderr",
     "output_type": "stream",
     "text": [
      "Global seed set to 42\n",
      "Global seed set to 42\n"
     ]
    },
    {
     "name": "stdout",
     "output_type": "stream",
     "text": [
      ".Training the model...\n",
      "\n"
     ]
    },
    {
     "name": "stderr",
     "output_type": "stream",
     "text": [
      "Global seed set to 42\n",
      "GPU available: False, used: False\n",
      "TPU available: None, using: 0 TPU cores\n",
      "\n",
      "  | Name     | Type   | Params\n",
      "------------------------------------\n",
      "0 | lstm_1   | LSTM   | 3.4 K \n",
      "1 | linear_1 | Linear | 1.9 K \n",
      "2 | linear_2 | ReLU   | 0     \n",
      "3 | mixed_1  | Linear | 1.1 K \n",
      "4 | mixed_2  | ReLU   | 0     \n",
      "5 | mixed_3  | Linear | 16    \n",
      "6 | mixed_4  | ReLU   | 0     \n",
      "------------------------------------\n",
      "6.4 K     Trainable params\n",
      "0         Non-trainable params\n",
      "6.4 K     Total params\n",
      "0.025     Total estimated model params size (MB)\n"
     ]
    },
    {
     "name": "stdout",
     "output_type": "stream",
     "text": [
      "................................................................................................................................"
     ]
    },
    {
     "name": "stderr",
     "output_type": "stream",
     "text": [
      "Global seed set to 42\n",
      "Global seed set to 42\n"
     ]
    },
    {
     "name": "stdout",
     "output_type": "stream",
     "text": [
      ".Training the model...\n",
      "\n"
     ]
    },
    {
     "name": "stderr",
     "output_type": "stream",
     "text": [
      "Global seed set to 42\n",
      "GPU available: False, used: False\n",
      "TPU available: None, using: 0 TPU cores\n",
      "\n",
      "  | Name     | Type   | Params\n",
      "------------------------------------\n",
      "0 | lstm_1   | LSTM   | 3.4 K \n",
      "1 | linear_1 | Linear | 1.9 K \n",
      "2 | linear_2 | ReLU   | 0     \n",
      "3 | mixed_1  | Linear | 1.1 K \n",
      "4 | mixed_2  | ReLU   | 0     \n",
      "5 | mixed_3  | Linear | 16    \n",
      "6 | mixed_4  | ReLU   | 0     \n",
      "------------------------------------\n",
      "6.4 K     Trainable params\n",
      "0         Non-trainable params\n",
      "6.4 K     Total params\n",
      "0.025     Total estimated model params size (MB)\n"
     ]
    },
    {
     "name": "stdout",
     "output_type": "stream",
     "text": [
      "......................................"
     ]
    },
    {
     "name": "stderr",
     "output_type": "stream",
     "text": [
      "Global seed set to 42\n",
      "Global seed set to 42\n"
     ]
    },
    {
     "name": "stdout",
     "output_type": "stream",
     "text": [
      ".Training the model...\n",
      "\n"
     ]
    },
    {
     "name": "stderr",
     "output_type": "stream",
     "text": [
      "Global seed set to 42\n",
      "GPU available: False, used: False\n",
      "TPU available: None, using: 0 TPU cores\n",
      "\n",
      "  | Name     | Type   | Params\n",
      "------------------------------------\n",
      "0 | lstm_1   | LSTM   | 3.4 K \n",
      "1 | linear_1 | Linear | 1.9 K \n",
      "2 | linear_2 | ReLU   | 0     \n",
      "3 | mixed_1  | Linear | 1.1 K \n",
      "4 | mixed_2  | ReLU   | 0     \n",
      "5 | mixed_3  | Linear | 16    \n",
      "6 | mixed_4  | ReLU   | 0     \n",
      "------------------------------------\n",
      "6.4 K     Trainable params\n",
      "0         Non-trainable params\n",
      "6.4 K     Total params\n",
      "0.025     Total estimated model params size (MB)\n"
     ]
    },
    {
     "name": "stdout",
     "output_type": "stream",
     "text": [
      ".........................."
     ]
    },
    {
     "name": "stderr",
     "output_type": "stream",
     "text": [
      "Global seed set to 42\n",
      "Global seed set to 42\n"
     ]
    },
    {
     "name": "stdout",
     "output_type": "stream",
     "text": [
      ".Training the model...\n",
      "\n"
     ]
    },
    {
     "name": "stderr",
     "output_type": "stream",
     "text": [
      "Global seed set to 42\n",
      "GPU available: False, used: False\n",
      "TPU available: None, using: 0 TPU cores\n",
      "\n",
      "  | Name     | Type   | Params\n",
      "------------------------------------\n",
      "0 | lstm_1   | LSTM   | 3.4 K \n",
      "1 | linear_1 | Linear | 1.9 K \n",
      "2 | linear_2 | ReLU   | 0     \n",
      "3 | mixed_1  | Linear | 1.1 K \n",
      "4 | mixed_2  | ReLU   | 0     \n",
      "5 | mixed_3  | Linear | 16    \n",
      "6 | mixed_4  | ReLU   | 0     \n",
      "------------------------------------\n",
      "6.4 K     Trainable params\n",
      "0         Non-trainable params\n",
      "6.4 K     Total params\n",
      "0.025     Total estimated model params size (MB)\n"
     ]
    },
    {
     "name": "stdout",
     "output_type": "stream",
     "text": [
      "..........................."
     ]
    },
    {
     "name": "stderr",
     "output_type": "stream",
     "text": [
      "Global seed set to 42\n",
      "Global seed set to 42\n"
     ]
    },
    {
     "name": "stdout",
     "output_type": "stream",
     "text": [
      ".Training the model...\n",
      "\n"
     ]
    },
    {
     "name": "stderr",
     "output_type": "stream",
     "text": [
      "Global seed set to 42\n",
      "GPU available: False, used: False\n",
      "TPU available: None, using: 0 TPU cores\n",
      "\n",
      "  | Name     | Type   | Params\n",
      "------------------------------------\n",
      "0 | lstm_1   | LSTM   | 3.4 K \n",
      "1 | linear_1 | Linear | 1.9 K \n",
      "2 | linear_2 | ReLU   | 0     \n",
      "3 | mixed_1  | Linear | 1.1 K \n",
      "4 | mixed_2  | ReLU   | 0     \n",
      "5 | mixed_3  | Linear | 16    \n",
      "6 | mixed_4  | ReLU   | 0     \n",
      "------------------------------------\n",
      "6.4 K     Trainable params\n",
      "0         Non-trainable params\n",
      "6.4 K     Total params\n",
      "0.025     Total estimated model params size (MB)\n"
     ]
    },
    {
     "name": "stdout",
     "output_type": "stream",
     "text": [
      "............................"
     ]
    },
    {
     "name": "stderr",
     "output_type": "stream",
     "text": [
      "Global seed set to 42\n",
      "Global seed set to 42\n"
     ]
    },
    {
     "name": "stdout",
     "output_type": "stream",
     "text": [
      ".Training the model...\n",
      "\n"
     ]
    },
    {
     "name": "stderr",
     "output_type": "stream",
     "text": [
      "Global seed set to 42\n",
      "GPU available: False, used: False\n",
      "TPU available: None, using: 0 TPU cores\n",
      "\n",
      "  | Name     | Type   | Params\n",
      "------------------------------------\n",
      "0 | lstm_1   | LSTM   | 3.4 K \n",
      "1 | linear_1 | Linear | 1.9 K \n",
      "2 | linear_2 | ReLU   | 0     \n",
      "3 | mixed_1  | Linear | 1.1 K \n",
      "4 | mixed_2  | ReLU   | 0     \n",
      "5 | mixed_3  | Linear | 16    \n",
      "6 | mixed_4  | ReLU   | 0     \n",
      "------------------------------------\n",
      "6.4 K     Trainable params\n",
      "0         Non-trainable params\n",
      "6.4 K     Total params\n",
      "0.025     Total estimated model params size (MB)\n"
     ]
    },
    {
     "name": "stdout",
     "output_type": "stream",
     "text": [
      "..........................."
     ]
    },
    {
     "name": "stderr",
     "output_type": "stream",
     "text": [
      "Global seed set to 42\n",
      "Global seed set to 42\n"
     ]
    },
    {
     "name": "stdout",
     "output_type": "stream",
     "text": [
      ".Training the model...\n",
      "\n"
     ]
    },
    {
     "name": "stderr",
     "output_type": "stream",
     "text": [
      "Global seed set to 42\n",
      "GPU available: False, used: False\n",
      "TPU available: None, using: 0 TPU cores\n",
      "\n",
      "  | Name     | Type   | Params\n",
      "------------------------------------\n",
      "0 | lstm_1   | LSTM   | 3.4 K \n",
      "1 | linear_1 | Linear | 1.9 K \n",
      "2 | linear_2 | ReLU   | 0     \n",
      "3 | mixed_1  | Linear | 1.1 K \n",
      "4 | mixed_2  | ReLU   | 0     \n",
      "5 | mixed_3  | Linear | 16    \n",
      "6 | mixed_4  | ReLU   | 0     \n",
      "------------------------------------\n",
      "6.4 K     Trainable params\n",
      "0         Non-trainable params\n",
      "6.4 K     Total params\n",
      "0.025     Total estimated model params size (MB)\n",
      "Global seed set to 42\n",
      "Global seed set to 42\n"
     ]
    },
    {
     "name": "stdout",
     "output_type": "stream",
     "text": [
      "NOT ENOUGH DATA FOR COUNTRY MLT\n",
      "Training the model...\n",
      "\n"
     ]
    },
    {
     "name": "stderr",
     "output_type": "stream",
     "text": [
      "Global seed set to 42\n",
      "GPU available: False, used: False\n",
      "TPU available: None, using: 0 TPU cores\n",
      "\n",
      "  | Name     | Type   | Params\n",
      "------------------------------------\n",
      "0 | lstm_1   | LSTM   | 3.4 K \n",
      "1 | linear_1 | Linear | 1.9 K \n",
      "2 | linear_2 | ReLU   | 0     \n",
      "3 | mixed_1  | Linear | 1.1 K \n",
      "4 | mixed_2  | ReLU   | 0     \n",
      "5 | mixed_3  | Linear | 16    \n",
      "6 | mixed_4  | ReLU   | 0     \n",
      "------------------------------------\n",
      "6.4 K     Trainable params\n",
      "0         Non-trainable params\n",
      "6.4 K     Total params\n",
      "0.025     Total estimated model params size (MB)\n"
     ]
    },
    {
     "name": "stdout",
     "output_type": "stream",
     "text": [
      "....................................................................................................................."
     ]
    },
    {
     "name": "stderr",
     "output_type": "stream",
     "text": [
      "Global seed set to 42\n",
      "Global seed set to 42\n"
     ]
    },
    {
     "name": "stdout",
     "output_type": "stream",
     "text": [
      ".Training the model...\n",
      "\n"
     ]
    },
    {
     "name": "stderr",
     "output_type": "stream",
     "text": [
      "Global seed set to 42\n",
      "GPU available: False, used: False\n",
      "TPU available: None, using: 0 TPU cores\n",
      "\n",
      "  | Name     | Type   | Params\n",
      "------------------------------------\n",
      "0 | lstm_1   | LSTM   | 3.4 K \n",
      "1 | linear_1 | Linear | 1.9 K \n",
      "2 | linear_2 | ReLU   | 0     \n",
      "3 | mixed_1  | Linear | 1.1 K \n",
      "4 | mixed_2  | ReLU   | 0     \n",
      "5 | mixed_3  | Linear | 16    \n",
      "6 | mixed_4  | ReLU   | 0     \n",
      "------------------------------------\n",
      "6.4 K     Trainable params\n",
      "0         Non-trainable params\n",
      "6.4 K     Total params\n",
      "0.025     Total estimated model params size (MB)\n"
     ]
    },
    {
     "name": "stdout",
     "output_type": "stream",
     "text": [
      "............................."
     ]
    },
    {
     "name": "stderr",
     "output_type": "stream",
     "text": [
      "Global seed set to 42\n",
      "Global seed set to 42\n"
     ]
    },
    {
     "name": "stdout",
     "output_type": "stream",
     "text": [
      ".Training the model...\n",
      "\n"
     ]
    },
    {
     "name": "stderr",
     "output_type": "stream",
     "text": [
      "Global seed set to 42\n",
      "GPU available: False, used: False\n",
      "TPU available: None, using: 0 TPU cores\n",
      "\n",
      "  | Name     | Type   | Params\n",
      "------------------------------------\n",
      "0 | lstm_1   | LSTM   | 3.4 K \n",
      "1 | linear_1 | Linear | 1.9 K \n",
      "2 | linear_2 | ReLU   | 0     \n",
      "3 | mixed_1  | Linear | 1.1 K \n",
      "4 | mixed_2  | ReLU   | 0     \n",
      "5 | mixed_3  | Linear | 16    \n",
      "6 | mixed_4  | ReLU   | 0     \n",
      "------------------------------------\n",
      "6.4 K     Trainable params\n",
      "0         Non-trainable params\n",
      "6.4 K     Total params\n",
      "0.025     Total estimated model params size (MB)\n"
     ]
    },
    {
     "name": "stdout",
     "output_type": "stream",
     "text": [
      ".................................................................................................................."
     ]
    },
    {
     "name": "stderr",
     "output_type": "stream",
     "text": [
      "Global seed set to 42\n",
      "Global seed set to 42\n"
     ]
    },
    {
     "name": "stdout",
     "output_type": "stream",
     "text": [
      ".Training the model...\n",
      "\n"
     ]
    },
    {
     "name": "stderr",
     "output_type": "stream",
     "text": [
      "Global seed set to 42\n",
      "GPU available: False, used: False\n",
      "TPU available: None, using: 0 TPU cores\n",
      "\n",
      "  | Name     | Type   | Params\n",
      "------------------------------------\n",
      "0 | lstm_1   | LSTM   | 3.4 K \n",
      "1 | linear_1 | Linear | 1.9 K \n",
      "2 | linear_2 | ReLU   | 0     \n",
      "3 | mixed_1  | Linear | 1.1 K \n",
      "4 | mixed_2  | ReLU   | 0     \n",
      "5 | mixed_3  | Linear | 16    \n",
      "6 | mixed_4  | ReLU   | 0     \n",
      "------------------------------------\n",
      "6.4 K     Trainable params\n",
      "0         Non-trainable params\n",
      "6.4 K     Total params\n",
      "0.025     Total estimated model params size (MB)\n"
     ]
    },
    {
     "name": "stdout",
     "output_type": "stream",
     "text": [
      "............................."
     ]
    },
    {
     "name": "stderr",
     "output_type": "stream",
     "text": [
      "Global seed set to 42\n",
      "Global seed set to 42\n"
     ]
    },
    {
     "name": "stdout",
     "output_type": "stream",
     "text": [
      ".Training the model...\n",
      "\n"
     ]
    },
    {
     "name": "stderr",
     "output_type": "stream",
     "text": [
      "Global seed set to 42\n",
      "GPU available: False, used: False\n",
      "TPU available: None, using: 0 TPU cores\n",
      "\n",
      "  | Name     | Type   | Params\n",
      "------------------------------------\n",
      "0 | lstm_1   | LSTM   | 3.4 K \n",
      "1 | linear_1 | Linear | 1.9 K \n",
      "2 | linear_2 | ReLU   | 0     \n",
      "3 | mixed_1  | Linear | 1.1 K \n",
      "4 | mixed_2  | ReLU   | 0     \n",
      "5 | mixed_3  | Linear | 16    \n",
      "6 | mixed_4  | ReLU   | 0     \n",
      "------------------------------------\n",
      "6.4 K     Trainable params\n",
      "0         Non-trainable params\n",
      "6.4 K     Total params\n",
      "0.025     Total estimated model params size (MB)\n"
     ]
    },
    {
     "name": "stdout",
     "output_type": "stream",
     "text": [
      ".........................."
     ]
    },
    {
     "name": "stderr",
     "output_type": "stream",
     "text": [
      "Global seed set to 42\n",
      "Global seed set to 42\n"
     ]
    },
    {
     "name": "stdout",
     "output_type": "stream",
     "text": [
      ".Training the model...\n",
      "\n"
     ]
    },
    {
     "name": "stderr",
     "output_type": "stream",
     "text": [
      "Global seed set to 42\n",
      "GPU available: False, used: False\n",
      "TPU available: None, using: 0 TPU cores\n",
      "\n",
      "  | Name     | Type   | Params\n",
      "------------------------------------\n",
      "0 | lstm_1   | LSTM   | 3.4 K \n",
      "1 | linear_1 | Linear | 1.9 K \n",
      "2 | linear_2 | ReLU   | 0     \n",
      "3 | mixed_1  | Linear | 1.1 K \n",
      "4 | mixed_2  | ReLU   | 0     \n",
      "5 | mixed_3  | Linear | 16    \n",
      "6 | mixed_4  | ReLU   | 0     \n",
      "------------------------------------\n",
      "6.4 K     Trainable params\n",
      "0         Non-trainable params\n",
      "6.4 K     Total params\n",
      "0.025     Total estimated model params size (MB)\n"
     ]
    },
    {
     "name": "stdout",
     "output_type": "stream",
     "text": [
      "......................................................"
     ]
    },
    {
     "name": "stderr",
     "output_type": "stream",
     "text": [
      "Global seed set to 42\n",
      "Global seed set to 42\n"
     ]
    },
    {
     "name": "stdout",
     "output_type": "stream",
     "text": [
      ".Training the model...\n",
      "\n"
     ]
    },
    {
     "name": "stderr",
     "output_type": "stream",
     "text": [
      "Global seed set to 42\n",
      "GPU available: False, used: False\n",
      "TPU available: None, using: 0 TPU cores\n",
      "\n",
      "  | Name     | Type   | Params\n",
      "------------------------------------\n",
      "0 | lstm_1   | LSTM   | 3.4 K \n",
      "1 | linear_1 | Linear | 1.9 K \n",
      "2 | linear_2 | ReLU   | 0     \n",
      "3 | mixed_1  | Linear | 1.1 K \n",
      "4 | mixed_2  | ReLU   | 0     \n",
      "5 | mixed_3  | Linear | 16    \n",
      "6 | mixed_4  | ReLU   | 0     \n",
      "------------------------------------\n",
      "6.4 K     Trainable params\n",
      "0         Non-trainable params\n",
      "6.4 K     Total params\n",
      "0.025     Total estimated model params size (MB)\n"
     ]
    },
    {
     "name": "stdout",
     "output_type": "stream",
     "text": [
      "............................"
     ]
    },
    {
     "name": "stderr",
     "output_type": "stream",
     "text": [
      "Global seed set to 42\n",
      "Global seed set to 42\n"
     ]
    },
    {
     "name": "stdout",
     "output_type": "stream",
     "text": [
      ".Training the model...\n",
      "\n"
     ]
    },
    {
     "name": "stderr",
     "output_type": "stream",
     "text": [
      "Global seed set to 42\n",
      "GPU available: False, used: False\n",
      "TPU available: None, using: 0 TPU cores\n",
      "\n",
      "  | Name     | Type   | Params\n",
      "------------------------------------\n",
      "0 | lstm_1   | LSTM   | 3.4 K \n",
      "1 | linear_1 | Linear | 1.9 K \n",
      "2 | linear_2 | ReLU   | 0     \n",
      "3 | mixed_1  | Linear | 1.1 K \n",
      "4 | mixed_2  | ReLU   | 0     \n",
      "5 | mixed_3  | Linear | 16    \n",
      "6 | mixed_4  | ReLU   | 0     \n",
      "------------------------------------\n",
      "6.4 K     Trainable params\n",
      "0         Non-trainable params\n",
      "6.4 K     Total params\n",
      "0.025     Total estimated model params size (MB)\n"
     ]
    },
    {
     "name": "stdout",
     "output_type": "stream",
     "text": [
      "............................"
     ]
    },
    {
     "data": {
      "text/html": [
       "<div>\n",
       "<style scoped>\n",
       "    .dataframe tbody tr th:only-of-type {\n",
       "        vertical-align: middle;\n",
       "    }\n",
       "\n",
       "    .dataframe tbody tr th {\n",
       "        vertical-align: top;\n",
       "    }\n",
       "\n",
       "    .dataframe thead th {\n",
       "        text-align: right;\n",
       "    }\n",
       "</style>\n",
       "<table border=\"1\" class=\"dataframe\">\n",
       "  <thead>\n",
       "    <tr style=\"text-align: right;\">\n",
       "      <th></th>\n",
       "      <th>iso_code</th>\n",
       "      <th>index</th>\n",
       "      <th>ground</th>\n",
       "      <th>pred</th>\n",
       "      <th>error</th>\n",
       "    </tr>\n",
       "  </thead>\n",
       "  <tbody>\n",
       "    <tr>\n",
       "      <th>4662</th>\n",
       "      <td>GBR</td>\n",
       "      <td>2020-05-01</td>\n",
       "      <td>1.797143</td>\n",
       "      <td>1.182496</td>\n",
       "      <td>0.614646</td>\n",
       "    </tr>\n",
       "    <tr>\n",
       "      <th>3118</th>\n",
       "      <td>ESP</td>\n",
       "      <td>2020-05-01</td>\n",
       "      <td>5.930440</td>\n",
       "      <td>1.829132</td>\n",
       "      <td>4.101308</td>\n",
       "    </tr>\n",
       "    <tr>\n",
       "      <th>10066</th>\n",
       "      <td>SVK</td>\n",
       "      <td>2020-05-01</td>\n",
       "      <td>1.760549</td>\n",
       "      <td>5.946790</td>\n",
       "      <td>4.186241</td>\n",
       "    </tr>\n",
       "    <tr>\n",
       "      <th>30</th>\n",
       "      <td>AUT</td>\n",
       "      <td>2020-05-01</td>\n",
       "      <td>0.835934</td>\n",
       "      <td>1.512610</td>\n",
       "      <td>0.676676</td>\n",
       "    </tr>\n",
       "    <tr>\n",
       "      <th>6592</th>\n",
       "      <td>ITA</td>\n",
       "      <td>2020-05-01</td>\n",
       "      <td>0.906044</td>\n",
       "      <td>3.518695</td>\n",
       "      <td>2.612651</td>\n",
       "    </tr>\n",
       "    <tr>\n",
       "      <th>...</th>\n",
       "      <td>...</td>\n",
       "      <td>...</td>\n",
       "      <td>...</td>\n",
       "      <td>...</td>\n",
       "      <td>...</td>\n",
       "    </tr>\n",
       "    <tr>\n",
       "      <th>1523</th>\n",
       "      <td>CHE</td>\n",
       "      <td>2021-04-01</td>\n",
       "      <td>1.798352</td>\n",
       "      <td>1.803374</td>\n",
       "      <td>0.005022</td>\n",
       "    </tr>\n",
       "    <tr>\n",
       "      <th>365</th>\n",
       "      <td>AUT</td>\n",
       "      <td>2021-04-01</td>\n",
       "      <td>1.737912</td>\n",
       "      <td>1.258592</td>\n",
       "      <td>0.479320</td>\n",
       "    </tr>\n",
       "    <tr>\n",
       "      <th>2681</th>\n",
       "      <td>DEU</td>\n",
       "      <td>2021-04-01</td>\n",
       "      <td>1.288791</td>\n",
       "      <td>2.082680</td>\n",
       "      <td>0.793889</td>\n",
       "    </tr>\n",
       "    <tr>\n",
       "      <th>6155</th>\n",
       "      <td>HUN</td>\n",
       "      <td>2021-04-01</td>\n",
       "      <td>1.744286</td>\n",
       "      <td>0.000000</td>\n",
       "      <td>1.744286</td>\n",
       "    </tr>\n",
       "    <tr>\n",
       "      <th>8857</th>\n",
       "      <td>NOR</td>\n",
       "      <td>2021-04-01</td>\n",
       "      <td>0.608132</td>\n",
       "      <td>2.387035</td>\n",
       "      <td>1.778903</td>\n",
       "    </tr>\n",
       "  </tbody>\n",
       "</table>\n",
       "<p>348 rows × 5 columns</p>\n",
       "</div>"
      ],
      "text/plain": [
       "      iso_code       index    ground      pred     error\n",
       "4662       GBR  2020-05-01  1.797143  1.182496  0.614646\n",
       "3118       ESP  2020-05-01  5.930440  1.829132  4.101308\n",
       "10066      SVK  2020-05-01  1.760549  5.946790  4.186241\n",
       "30         AUT  2020-05-01  0.835934  1.512610  0.676676\n",
       "6592       ITA  2020-05-01  0.906044  3.518695  2.612651\n",
       "...        ...         ...       ...       ...       ...\n",
       "1523       CHE  2021-04-01  1.798352  1.803374  0.005022\n",
       "365        AUT  2021-04-01  1.737912  1.258592  0.479320\n",
       "2681       DEU  2021-04-01  1.288791  2.082680  0.793889\n",
       "6155       HUN  2021-04-01  1.744286  0.000000  1.744286\n",
       "8857       NOR  2021-04-01  0.608132  2.387035  1.778903\n",
       "\n",
       "[348 rows x 5 columns]"
      ]
     },
     "execution_count": 19,
     "metadata": {},
     "output_type": "execute_result"
    }
   ],
   "source": [
    "index = []\n",
    "ground = []\n",
    "error_curve = []\n",
    "country = []\n",
    "predictions_list = []\n",
    "\n",
    "for final_iso_code in iso_codes:\n",
    "    # Final training colums\n",
    "    train_cols= swissre_features['demography'] +\\\n",
    "                swissre_features['sanitary'] +\\\n",
    "                swissre_features['vaccines']['to_use'] +\\\n",
    "                swissre_features['economic']['to_use'] +\\\n",
    "                swissre_features['policies']['to_use'] + ['shifted_r_estim'] #swissre_features['weather'] +\\\n",
    "\n",
    "    final_train_cols = [col for col in train_cols if not df[df['iso_code'] == final_iso_code][col].isnull().all()]\n",
    "    final_train_cols = [col for col in final_train_cols if not df[col].std() == 0]\n",
    "    context = Context()\n",
    "    pipeline = Pipeline(df, final_train_cols, 'unemployment_rate_idx', final_iso_code, 28, context, 'weight') #shifted_r_estim\n",
    "    try:\n",
    "        pipeline.fit_pipeline(save_model=False)\n",
    "        predictions = pipeline.predict()\n",
    "        test_indices = df['iso_code'] == final_iso_code\n",
    "        index_iso = df.loc[test_indices].index\n",
    "        ground_iso = df.loc[test_indices]['unemployment_rate_idx']\n",
    "        error_curve_iso = np.abs(ground_iso - predictions)\n",
    "        country_iso = [final_iso_code for i in index_iso]\n",
    "        index.extend(index_iso)\n",
    "        ground.extend(ground_iso)\n",
    "        error_curve.extend(error_curve_iso)\n",
    "        country.extend(country_iso)\n",
    "        predictions_list.extend(predictions)\n",
    "    except:\n",
    "        print(f\"NOT ENOUGH DATA FOR COUNTRY {final_iso_code}\")\n",
    "    \n",
    "\n",
    "result_df = pd.DataFrame({'iso_code': country, 'index': index, 'ground': ground, 'pred': predictions_list, 'error': error_curve}).sort_values(by = 'index')\n",
    "result_df = result_df[(result_df['index'] >= '2020-05-01') & (result_df['index'].dt.day == 1)]\n",
    "result_df['index'] = result_df['index'].dt.date\n",
    "result_df"
   ]
  },
  {
   "cell_type": "code",
   "execution_count": 31,
   "id": "posted-bacteria",
   "metadata": {},
   "outputs": [],
   "source": [
    "result_df.rename(columns={\"index\": \"date\"}).to_csv(\"./data/Economic_data/economic_predictions.csv\", index=False)"
   ]
  }
 ],
 "metadata": {
  "kernelspec": {
   "display_name": "Python 3",
   "language": "python",
   "name": "python3"
  },
  "language_info": {
   "codemirror_mode": {
    "name": "ipython",
    "version": 3
   },
   "file_extension": ".py",
   "mimetype": "text/x-python",
   "name": "python",
   "nbconvert_exporter": "python",
   "pygments_lexer": "ipython3",
   "version": "3.8.5"
  }
 },
 "nbformat": 4,
 "nbformat_minor": 5
}
