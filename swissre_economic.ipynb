{
 "cells": [
  {
   "cell_type": "code",
   "execution_count": 1,
   "id": "daily-disney",
   "metadata": {
    "tags": []
   },
   "outputs": [],
   "source": [
    "import pandas as pd\n",
    "import numpy as np\n",
    "import yaml\n",
    "import pycountry\n",
    "import pycountry_convert as pc\n",
    "from datetime import datetime\n",
    "import matplotlib.pyplot as plt\n",
    "%matplotlib inline"
   ]
  },
  {
   "cell_type": "code",
   "execution_count": 2,
   "id": "representative-consensus",
   "metadata": {},
   "outputs": [
    {
     "name": "stderr",
     "output_type": "stream",
     "text": [
      "/Users/giorgiomannarini/miniforge3/envs/pytorch_env/lib/python3.8/site-packages/IPython/core/interactiveshell.py:3165: DtypeWarning: Columns (70,71,72,73,74,75,76,77,78) have mixed types.Specify dtype option on import or set low_memory=False.\n",
      "  has_raised = await self.run_ast_nodes(code_ast.body, cell_name,\n"
     ]
    }
   ],
   "source": [
    "data_swissre = pd.read_csv('./data/economic_weighted.csv', parse_dates=['date']).set_index('date')\n",
    "\n",
    "iso_codes = ['AUT','BEL', 'BGR', 'HRV', 'CYP', 'CZE', 'DNK', 'EST', 'FIN', 'FRA', 'DEU', 'GRC', 'HUN', 'IRL', 'ITA', 'LVA', 'LTU', 'LUX', 'MLT', 'NLD', 'POL', 'PRT', 'ROU', 'SVK', 'SVN', 'ESP', 'SWE', 'GBR', 'CHE', 'NOR']\n",
    "\n",
    "data_swissre = data_swissre[data_swissre['iso_code'].isin(iso_codes)]"
   ]
  },
  {
   "cell_type": "markdown",
   "id": "verified-restoration",
   "metadata": {},
   "source": [
    "- Cases: cumulative\n",
    "- Deaths: cumulative\n",
    "- New cases: daily\n",
    "- New deaths: daily\n",
    "- Recovered: difference (entered - exited)\n",
    "- Stats on population divided per age: 52% null\n",
    "- Fatality rate percentage: total deaths / total cases. Problem: should be shifted\n",
    "- Days since outbreak can be used instead of a fixed 04-01 date (maybe one month after the first outbreak?)\n",
    "- real_unemployment_rate_growth: 79% of null. Can't be used together with non-life and life premium growth.\n",
    "- am_fear_factor_index ???\n",
    "- Unemployment rate: many nulls but seems good. Also, 2021 is forecast.\n",
    "- Gdp quarterly: same-> many nans but good indicator\n",
    "- covid19_reopen_criteria_14_day_new_cases_downward_trajectory: ??? Can be seen as policy?\n",
    "- Stage number: 9 levels for the stage of the pandemic. Hovering = null (maybe replace with 0)\n",
    "- epiforecasts_effective_reproduction_number_median: median of the rep. number, it is right to report it. Taking also 90% CI and 50% CI\n",
    "- Maybe look at projections\n",
    "\n",
    "**TO ADD**: \n",
    "- Population density\n",
    "- Median age\n",
    "- Human development index\n",
    "- Diabetes prevalence\n",
    "- Life expectancy\n",
    "\n",
    "Weather: to use or not to use? \n",
    "Policies: boolean or level? \n"
   ]
  },
  {
   "cell_type": "markdown",
   "id": "southeast-hybrid",
   "metadata": {},
   "source": [
    "# Selecting columns for the first model"
   ]
  },
  {
   "cell_type": "code",
   "execution_count": 3,
   "id": "champion-chess",
   "metadata": {},
   "outputs": [],
   "source": [
    "with open('config/swissre_features.yaml', 'r', encoding='utf-8') as file:\n",
    "    swissre_features = yaml.load(file, Loader=yaml.FullLoader)"
   ]
  },
  {
   "cell_type": "code",
   "execution_count": 4,
   "id": "accessory-values",
   "metadata": {},
   "outputs": [],
   "source": [
    "columns_to_use= swissre_features['main'] +\\\n",
    "            swissre_features['demography'] +\\\n",
    "            swissre_features['sanitary'] +\\\n",
    "            swissre_features['weather'] +\\\n",
    "            swissre_features['economic']['to_use'] +\\\n",
    "            swissre_features['vaccines']['to_use'] +\\\n",
    "            swissre_features['policies']['to_use'] +\\\n",
    "            swissre_features['outcomes']['to_use'] + ['unemployment_rate_idx', 'weight', 'cases']         \n",
    "\n",
    "outcome = 'epiforecasts_effective_reproduction_number_median' # r_estim epiforecasts_effective_reproduction_number_median"
   ]
  },
  {
   "cell_type": "code",
   "execution_count": 5,
   "id": "competent-capacity",
   "metadata": {},
   "outputs": [
    {
     "data": {
      "text/plain": [
       "Index(['name', 'iso_code', 'total_population_all', 'total_population_below_1',\n",
       "       'total_population_1_to_4', 'total_population_5_to_14',\n",
       "       'total_population_15_to_24', 'total_population_25_to_34',\n",
       "       'total_population_35_to_54', 'total_population_55_to_74',\n",
       "       'total_population_above_75', 'population_percentage_over_60',\n",
       "       'hospital_beds_per_1000', 'physicians_per_1000', 'nurses_per_1000',\n",
       "       'maxtempC', 'mintempC', 'tempC', 'FeelsLikeC', 'humidity', 'pressure',\n",
       "       'HeatIndexC', 'uvIndex', 'totalSnow_cm', 'sunHour', 'windspeedKmph',\n",
       "       'precipMM', 'unemployment_rate_2021_09_30',\n",
       "       'unemployment_rate_2021_12_31', 'unemployment_rate_2019_03_31',\n",
       "       'unemployment_rate_2019_06_30', 'unemployment_rate_2019_09_30',\n",
       "       'unemployment_rate_2019_12_31', 'gdp_2019_03_31', 'gdp_2019_06_30',\n",
       "       'gdp_2019_09_30', 'gdp_2019_12_31', 'gdp_2020_03_31', 'gdp_2020_06_30',\n",
       "       'gdp_2020_09_30', 'gdp_2020_12_31', 'gdp_2021_03_31', 'gdp_2021_06_30',\n",
       "       'gdp_2021_09_30', 'gdp_2021_12_31', 'fiscal_measures',\n",
       "       'emergency_investment_in_health_care', 'investment_in_vaccines',\n",
       "       'Johnson&Johnson', 'Sputnik V', 'Pfizer/BioNTech', 'Oxford/AstraZeneca',\n",
       "       'EpiVacCorona', 'Sinopharm/Beijing', 'Moderna', 'Covaxin', 'Sinovac',\n",
       "       'Sinopharm/Wuhan', 'total_vaccinations', 'people_vaccinated',\n",
       "       'people_fully_vaccinated', 'daily_vaccinations', 'vaccines_available',\n",
       "       'school_closing', 'workplace_closing', 'cancel_public_events',\n",
       "       'restrictions_on_gatherings', 'close_public_transport',\n",
       "       'stay_at_home_requirements', 'public_information_campaigns',\n",
       "       'testing_policy', 'vaccination_policy', 'contact_tracing',\n",
       "       'restrictions_on_internal_movement', 'international_travel_controls',\n",
       "       'epiforecasts_effective_reproduction_number_median',\n",
       "       'epiforecasts_effective_reproduction_number_lower_90',\n",
       "       'epiforecasts_effective_reproduction_number_upper_90', 'new_deaths',\n",
       "       'unemployment_rate_idx', 'weight', 'cases'],\n",
       "      dtype='object')"
      ]
     },
     "execution_count": 5,
     "metadata": {},
     "output_type": "execute_result"
    }
   ],
   "source": [
    "df = data_swissre[columns_to_use].copy()\n",
    "df.columns"
   ]
  },
  {
   "cell_type": "code",
   "execution_count": 6,
   "id": "accredited-fever",
   "metadata": {},
   "outputs": [],
   "source": [
    "# Taking the data starting from the 1st of april. ALTERNATIVE: use days since outbreak\n",
    "df = df[df.index >= '2020-04-01'].sort_index() #"
   ]
  },
  {
   "cell_type": "code",
   "execution_count": 7,
   "id": "transparent-california",
   "metadata": {},
   "outputs": [],
   "source": [
    "# Filtering for valid countries: \n",
    "def filter_valid_countries(data, min_ratio):\n",
    "    iso_codes = []\n",
    "    for iso_code in data.iso_code.unique():\n",
    "        data_country = data[data.iso_code == iso_code]['epiforecasts_effective_reproduction_number_median'].dropna()\n",
    "        n_values = data_country.shape[0]\n",
    "\n",
    "    # If rows exist for that country with a valid r_estim value\n",
    "        if n_values > 0:\n",
    "            n_days = (data_country.index[-1] - data_country.index[0]).days + 1\n",
    "            #print(n_days)\n",
    "            ratio = n_values / n_days\n",
    "\n",
    "            if ratio > min_ratio:\n",
    "                iso_codes.append(iso_code)\n",
    "            \n",
    "    return data[data['iso_code'].isin(iso_codes)]\n",
    "\n",
    "df = filter_valid_countries(df, 0.9)"
   ]
  },
  {
   "cell_type": "code",
   "execution_count": 8,
   "id": "confirmed-allergy",
   "metadata": {},
   "outputs": [
    {
     "name": "stdout",
     "output_type": "stream",
     "text": [
      "Number of countries: 30\n"
     ]
    }
   ],
   "source": [
    "print(f\"Number of countries: {len(df.iso_code.unique())}\")"
   ]
  },
  {
   "cell_type": "code",
   "execution_count": 9,
   "id": "bronze-rochester",
   "metadata": {},
   "outputs": [],
   "source": [
    "# Putting NaN where the estimated reproduction number is larger than 4\n",
    "df[outcome] = np.where(df[outcome] >= 4, np.nan, df[outcome])"
   ]
  },
  {
   "cell_type": "code",
   "execution_count": 10,
   "id": "subtle-reminder",
   "metadata": {},
   "outputs": [],
   "source": [
    "# Shifting the reproduction rate by 11 days for each country\n",
    "df['date_index'] = df.index\n",
    "df = df.sort_values(by = ['iso_code', 'date_index'])\n",
    "df['shifted_r_estim'] = df[outcome]"
   ]
  },
  {
   "cell_type": "code",
   "execution_count": 11,
   "id": "engaged-nirvana",
   "metadata": {},
   "outputs": [
    {
     "name": "stdout",
     "output_type": "stream",
     "text": [
      "Number of countries: 30\n"
     ]
    }
   ],
   "source": [
    "# retaining only the countries that exceeded 2000 casese\n",
    "iso_codes = list(df[df['cases'] > 2000]['iso_code'].unique())\n",
    "df = df[df['iso_code'].isin(iso_codes)]\n",
    "print(f\"Number of countries: {len(df.iso_code.unique())}\")"
   ]
  },
  {
   "cell_type": "markdown",
   "id": "detected-shirt",
   "metadata": {},
   "source": [
    "# Training the first model"
   ]
  },
  {
   "cell_type": "code",
   "execution_count": 13,
   "id": "posted-model",
   "metadata": {},
   "outputs": [],
   "source": [
    "from classes.context import Context\n",
    "from classes.pipeline import Pipeline\n",
    "from classes.plot import Plot"
   ]
  },
  {
   "cell_type": "code",
   "execution_count": 24,
   "id": "distinct-platform",
   "metadata": {},
   "outputs": [],
   "source": [
    "final_iso_code = 'FRA'\n",
    "\n",
    "# Final training colums\n",
    "train_cols= swissre_features['demography'] +\\\n",
    "            swissre_features['sanitary'] +\\\n",
    "            swissre_features['vaccines']['to_use'] +\\\n",
    "            swissre_features['economic']['to_use'] +\\\n",
    "            swissre_features['policies']['to_use'] + ['shifted_r_estim'] #swissre_features['weather'] +\\\n",
    "\n",
    "final_train_cols = [col for col in train_cols if not df[df['iso_code'] == final_iso_code][col].isnull().all()]\n",
    "final_train_cols = [col for col in final_train_cols if not df[df['iso_code'] != final_iso_code][col].std() == 0]"
   ]
  },
  {
   "cell_type": "code",
   "execution_count": 25,
   "id": "sharp-affairs",
   "metadata": {},
   "outputs": [
    {
     "data": {
      "text/plain": [
       "['Sinovac', 'Sinopharm/Wuhan', 'Covaxin', 'EpiVacCorona', 'Pfizer/BioNTech']"
      ]
     },
     "execution_count": 25,
     "metadata": {},
     "output_type": "execute_result"
    }
   ],
   "source": [
    "list(set(train_cols) - set(final_train_cols))"
   ]
  },
  {
   "cell_type": "code",
   "execution_count": 26,
   "id": "copyrighted-species",
   "metadata": {},
   "outputs": [
    {
     "name": "stderr",
     "output_type": "stream",
     "text": [
      "Global seed set to 42\n"
     ]
    }
   ],
   "source": [
    "context = Context()"
   ]
  },
  {
   "cell_type": "code",
   "execution_count": 27,
   "id": "human-teacher",
   "metadata": {},
   "outputs": [
    {
     "name": "stderr",
     "output_type": "stream",
     "text": [
      "Global seed set to 42\n"
     ]
    },
    {
     "name": "stdout",
     "output_type": "stream",
     "text": [
      "Training the model...\n",
      "\n"
     ]
    },
    {
     "name": "stderr",
     "output_type": "stream",
     "text": [
      "Global seed set to 42\n",
      "GPU available: False, used: False\n",
      "TPU available: None, using: 0 TPU cores\n",
      "\n",
      "  | Name     | Type   | Params\n",
      "------------------------------------\n",
      "0 | lstm_1   | LSTM   | 3.4 K \n",
      "1 | linear_1 | Linear | 1.9 K \n",
      "2 | linear_2 | ReLU   | 0     \n",
      "3 | mixed_1  | Linear | 1.1 K \n",
      "4 | mixed_2  | ReLU   | 0     \n",
      "5 | mixed_3  | Linear | 16    \n",
      "6 | mixed_4  | ReLU   | 0     \n",
      "------------------------------------\n",
      "6.4 K     Trainable params\n",
      "0         Non-trainable params\n",
      "6.4 K     Total params\n",
      "0.025     Total estimated model params size (MB)\n",
      "The dataloader, val dataloader 0, does not have many workers which may be a bottleneck. Consider increasing the value of the `num_workers` argument` (try 8 which is the number of cpus on this machine) in the `DataLoader` init to improve performance.\n",
      "The dataloader, train dataloader, does not have many workers which may be a bottleneck. Consider increasing the value of the `num_workers` argument` (try 8 which is the number of cpus on this machine) in the `DataLoader` init to improve performance.\n"
     ]
    },
    {
     "name": "stdout",
     "output_type": "stream",
     "text": [
      "..........................."
     ]
    }
   ],
   "source": [
    "pipeline = Pipeline(df, final_train_cols, 'unemployment_rate_idx', final_iso_code, 28, context, 'weight') #shifted_r_estim\n",
    "pipeline.fit_pipeline(save_model=False)"
   ]
  },
  {
   "cell_type": "code",
   "execution_count": 28,
   "id": "vocal-accreditation",
   "metadata": {},
   "outputs": [],
   "source": [
    "predictions = pipeline.predict()\n",
    "\n",
    "plot = Plot(df, 'unemployment_rate_idx', final_iso_code, save_path='./plots/')"
   ]
  },
  {
   "cell_type": "code",
   "execution_count": 29,
   "id": "perceived-quebec",
   "metadata": {},
   "outputs": [
    {
     "name": "stdout",
     "output_type": "stream",
     "text": [
      "The mean average error was 0.20475873762409358\n"
     ]
    },
    {
     "data": {
      "image/png": "[encoded data removed]",
      "text/plain": [
       "<Figure size 1200x300 with 1 Axes>"
      ]
     },
     "metadata": {
      "needs_background": "light"
     },
     "output_type": "display_data"
    }
   ],
   "source": [
    "plot.plot_results(predictions, show = True)"
   ]
  },
  {
   "cell_type": "code",
   "execution_count": 30,
   "id": "blocked-classroom",
   "metadata": {},
   "outputs": [
    {
     "data": {
      "text/plain": [
       "<AxesSubplot:xlabel='index'>"
      ]
     },
     "execution_count": 30,
     "metadata": {},
     "output_type": "execute_result"
    },
    {
     "data": {
      "image/png": "[encoded data removed]",
      "text/plain": [
       "<Figure size 1800x720 with 1 Axes>"
      ]
     },
     "metadata": {
      "needs_background": "light"
     },
     "output_type": "display_data"
    }
   ],
   "source": [
    "test_indices = df['iso_code'] == final_iso_code\n",
    "index = df.loc[test_indices].index\n",
    "ground = df.loc[test_indices]['unemployment_rate_idx']\n",
    "error_curve = np.abs(ground - predictions)\n",
    "\n",
    "df2 = pd.DataFrame({'index': index, 'ground': ground, 'pred': predictions, 'error': error_curve}).sort_values(by = 'index')\n",
    "df2 = df2[(df2['index'] >= '2020-05-01') & (df2['index'].dt.day == 1)]\n",
    "\n",
    "df2['index'] = df2['index'].dt.date\n",
    "\n",
    "\n",
    "df2.plot.bar(x = 'index', y = ['ground', 'pred', 'error'], rot = 0, figsize=(25, 10))"
   ]
  },
  {
   "cell_type": "markdown",
   "id": "seven-census",
   "metadata": {},
   "source": [
    "## Predictions for each country"
   ]
  },
  {
   "cell_type": "code",
   "execution_count": 19,
   "id": "subtle-finder",
   "metadata": {},
   "outputs": [
    {
     "name": "stderr",
     "output_type": "stream",
     "text": [
      "Global seed set to 42\n",
      "Global seed set to 42\n"
     ]
    },
    {
     "name": "stdout",
     "output_type": "stream",
     "text": [
      "Training the model...\n",
      "\n"
     ]
    },
    {
     "name": "stderr",
     "output_type": "stream",
     "text": [
      "Global seed set to 42\n",
      "GPU available: False, used: False\n",
      "TPU available: None, using: 0 TPU cores\n",
      "\n",
      "  | Name     | Type   | Params\n",
      "------------------------------------\n",
      "0 | lstm_1   | LSTM   | 3.4 K \n",
      "1 | linear_1 | Linear | 1.9 K \n",
      "2 | linear_2 | ReLU   | 0     \n",
      "3 | mixed_1  | Linear | 1.1 K \n",
      "4 | mixed_2  | ReLU   | 0     \n",
      "5 | mixed_3  | Linear | 16    \n",
      "6 | mixed_4  | ReLU   | 0     \n",
      "------------------------------------\n",
      "6.4 K     Trainable params\n",
      "0         Non-trainable params\n",
      "6.4 K     Total params\n",
      "0.025     Total estimated model params size (MB)\n"
     ]
    },
    {
     "name": "stdout",
     "output_type": "stream",
     "text": [
      "..........................."
     ]
    },
    {
     "name": "stderr",
     "output_type": "stream",
     "text": [
      "Global seed set to 42\n",
      "Global seed set to 42\n"
     ]
    },
    {
     "name": "stdout",
     "output_type": "stream",
     "text": [
      ".Training the model...\n",
      "\n"
     ]
    },
    {
     "name": "stderr",
     "output_type": "stream",
     "text": [
      "Global seed set to 42\n",
      "GPU available: False, used: False\n",
      "TPU available: None, using: 0 TPU cores\n",
      "\n",
      "  | Name     | Type   | Params\n",
      "------------------------------------\n",
      "0 | lstm_1   | LSTM   | 3.4 K \n",
      "1 | linear_1 | Linear | 1.9 K \n",
      "2 | linear_2 | ReLU   | 0     \n",
      "3 | mixed_1  | Linear | 1.1 K \n",
      "4 | mixed_2  | ReLU   | 0     \n",
      "5 | mixed_3  | Linear | 16    \n",
      "6 | mixed_4  | ReLU   | 0     \n",
      "------------------------------------\n",
      "6.4 K     Trainable params\n",
      "0         Non-trainable params\n",
      "6.4 K     Total params\n",
      "0.025     Total estimated model params size (MB)\n"
     ]
    },
    {
     "name": "stdout",
     "output_type": "stream",
     "text": [
      "............................"
     ]
    },
    {
     "name": "stderr",
     "output_type": "stream",
     "text": [
      "Global seed set to 42\n",
      "Global seed set to 42\n"
     ]
    },
    {
     "name": "stdout",
     "output_type": "stream",
     "text": [
      ".Training the model...\n",
      "\n"
     ]
    },
    {
     "name": "stderr",
     "output_type": "stream",
     "text": [
      "Global seed set to 42\n",
      "GPU available: False, used: False\n",
      "TPU available: None, using: 0 TPU cores\n",
      "\n",
      "  | Name     | Type   | Params\n",
      "------------------------------------\n",
      "0 | lstm_1   | LSTM   | 3.4 K \n",
      "1 | linear_1 | Linear | 1.9 K \n",
      "2 | linear_2 | ReLU   | 0     \n",
      "3 | mixed_1  | Linear | 1.1 K \n",
      "4 | mixed_2  | ReLU   | 0     \n",
      "5 | mixed_3  | Linear | 16    \n",
      "6 | mixed_4  | ReLU   | 0     \n",
      "------------------------------------\n",
      "6.4 K     Trainable params\n",
      "0         Non-trainable params\n",
      "6.4 K     Total params\n",
      "0.025     Total estimated model params size (MB)\n"
     ]
    },
    {
     "name": "stdout",
     "output_type": "stream",
     "text": [
      "......................................................................"
     ]
    },
    {
     "name": "stderr",
     "output_type": "stream",
     "text": [
      "Global seed set to 42\n",
      "Global seed set to 42\n"
     ]
    },
    {
     "name": "stdout",
     "output_type": "stream",
     "text": [
      ".Training the model...\n",
      "\n"
     ]
    },
    {
     "name": "stderr",
     "output_type": "stream",
     "text": [
      "Global seed set to 42\n",
      "GPU available: False, used: False\n",
      "TPU available: None, using: 0 TPU cores\n",
      "\n",
      "  | Name     | Type   | Params\n",
      "------------------------------------\n",
      "0 | lstm_1   | LSTM   | 3.4 K \n",
      "1 | linear_1 | Linear | 1.9 K \n",
      "2 | linear_2 | ReLU   | 0     \n",
      "3 | mixed_1  | Linear | 1.1 K \n",
      "4 | mixed_2  | ReLU   | 0     \n",
      "5 | mixed_3  | Linear | 16    \n",
      "6 | mixed_4  | ReLU   | 0     \n",
      "------------------------------------\n",
      "6.4 K     Trainable params\n",
      "0         Non-trainable params\n",
      "6.4 K     Total params\n",
      "0.025     Total estimated model params size (MB)\n"
     ]
    },
    {
     "name": "stdout",
     "output_type": "stream",
     "text": [
      ".........................."
     ]
    },
    {
     "name": "stderr",
     "output_type": "stream",
     "text": [
      "Global seed set to 42\n",
      "Global seed set to 42\n"
     ]
    },
    {
     "name": "stdout",
     "output_type": "stream",
     "text": [
      ".Training the model...\n",
      "\n"
     ]
    },
    {
     "name": "stderr",
     "output_type": "stream",
     "text": [
      "Global seed set to 42\n",
      "GPU available: False, used: False\n",
      "TPU available: None, using: 0 TPU cores\n",
      "\n",
      "  | Name     | Type   | Params\n",
      "------------------------------------\n",
      "0 | lstm_1   | LSTM   | 3.4 K \n",
      "1 | linear_1 | Linear | 1.8 K \n",
      "2 | linear_2 | ReLU   | 0     \n",
      "3 | mixed_1  | Linear | 1.1 K \n",
      "4 | mixed_2  | ReLU   | 0     \n",
      "5 | mixed_3  | Linear | 16    \n",
      "6 | mixed_4  | ReLU   | 0     \n",
      "------------------------------------\n",
      "6.3 K     Trainable params\n",
      "0         Non-trainable params\n",
      "6.3 K     Total params\n",
      "0.025     Total estimated model params size (MB)\n"
     ]
    },
    {
     "name": "stdout",
     "output_type": "stream",
     "text": [
      ".........................."
     ]
    },
    {
     "name": "stderr",
     "output_type": "stream",
     "text": [
      "Global seed set to 42\n",
      "Global seed set to 42\n"
     ]
    },
    {
     "name": "stdout",
     "output_type": "stream",
     "text": [
      ".Training the model...\n",
      "\n"
     ]
    },
    {
     "name": "stderr",
     "output_type": "stream",
     "text": [
      "Global seed set to 42\n",
      "GPU available: False, used: False\n",
      "TPU available: None, using: 0 TPU cores\n",
      "\n",
      "  | Name     | Type   | Params\n",
      "------------------------------------\n",
      "0 | lstm_1   | LSTM   | 3.4 K \n",
      "1 | linear_1 | Linear | 1.9 K \n",
      "2 | linear_2 | ReLU   | 0     \n",
      "3 | mixed_1  | Linear | 1.1 K \n",
      "4 | mixed_2  | ReLU   | 0     \n",
      "5 | mixed_3  | Linear | 16    \n",
      "6 | mixed_4  | ReLU   | 0     \n",
      "------------------------------------\n",
      "6.4 K     Trainable params\n",
      "0         Non-trainable params\n",
      "6.4 K     Total params\n",
      "0.025     Total estimated model params size (MB)\n"
     ]
    },
    {
     "name": "stdout",
     "output_type": "stream",
     "text": [
      "............................................................"
     ]
    },
    {
     "name": "stderr",
     "output_type": "stream",
     "text": [
      "Global seed set to 42\n",
      "Global seed set to 42\n"
     ]
    },
    {
     "name": "stdout",
     "output_type": "stream",
     "text": [
      ".Training the model...\n",
      "\n"
     ]
    },
    {
     "name": "stderr",
     "output_type": "stream",
     "text": [
      "Global seed set to 42\n",
      "GPU available: False, used: False\n",
      "TPU available: None, using: 0 TPU cores\n",
      "\n",
      "  | Name     | Type   | Params\n",
      "------------------------------------\n",
      "0 | lstm_1   | LSTM   | 3.4 K \n",
      "1 | linear_1 | Linear | 1.9 K \n",
      "2 | linear_2 | ReLU   | 0     \n",
      "3 | mixed_1  | Linear | 1.1 K \n",
      "4 | mixed_2  | ReLU   | 0     \n",
      "5 | mixed_3  | Linear | 16    \n",
      "6 | mixed_4  | ReLU   | 0     \n",
      "------------------------------------\n",
      "6.4 K     Trainable params\n",
      "0         Non-trainable params\n",
      "6.4 K     Total params\n",
      "0.025     Total estimated model params size (MB)\n"
     ]
    },
    {
     "name": "stdout",
     "output_type": "stream",
     "text": [
      ".............................."
     ]
    },
    {
     "name": "stderr",
     "output_type": "stream",
     "text": [
      "Global seed set to 42\n",
      "Global seed set to 42\n"
     ]
    },
    {
     "name": "stdout",
     "output_type": "stream",
     "text": [
      ".Training the model...\n",
      "\n"
     ]
    },
    {
     "name": "stderr",
     "output_type": "stream",
     "text": [
      "Global seed set to 42\n",
      "GPU available: False, used: False\n",
      "TPU available: None, using: 0 TPU cores\n",
      "\n",
      "  | Name     | Type   | Params\n",
      "------------------------------------\n",
      "0 | lstm_1   | LSTM   | 3.4 K \n",
      "1 | linear_1 | Linear | 1.9 K \n",
      "2 | linear_2 | ReLU   | 0     \n",
      "3 | mixed_1  | Linear | 1.1 K \n",
      "4 | mixed_2  | ReLU   | 0     \n",
      "5 | mixed_3  | Linear | 16    \n",
      "6 | mixed_4  | ReLU   | 0     \n",
      "------------------------------------\n",
      "6.4 K     Trainable params\n",
      "0         Non-trainable params\n",
      "6.4 K     Total params\n",
      "0.025     Total estimated model params size (MB)\n"
     ]
    },
    {
     "name": "stdout",
     "output_type": "stream",
     "text": [
      "............................"
     ]
    },
    {
     "name": "stderr",
     "output_type": "stream",
     "text": [
      "Global seed set to 42\n",
      "Global seed set to 42\n"
     ]
    },
    {
     "name": "stdout",
     "output_type": "stream",
     "text": [
      ".Training the model...\n",
      "\n"
     ]
    },
    {
     "name": "stderr",
     "output_type": "stream",
     "text": [
      "Global seed set to 42\n",
      "GPU available: False, used: False\n",
      "TPU available: None, using: 0 TPU cores\n",
      "\n",
      "  | Name     | Type   | Params\n",
      "------------------------------------\n",
      "0 | lstm_1   | LSTM   | 3.4 K \n",
      "1 | linear_1 | Linear | 1.9 K \n",
      "2 | linear_2 | ReLU   | 0     \n",
      "3 | mixed_1  | Linear | 1.1 K \n",
      "4 | mixed_2  | ReLU   | 0     \n",
      "5 | mixed_3  | Linear | 16    \n",
      "6 | mixed_4  | ReLU   | 0     \n",
      "------------------------------------\n",
      "6.4 K     Trainable params\n",
      "0         Non-trainable params\n",
      "6.4 K     Total params\n",
      "0.025     Total estimated model params size (MB)\n"
     ]
    },
    {
     "name": "stdout",
     "output_type": "stream",
     "text": [
      "............................................."
     ]
    },
    {
     "name": "stderr",
     "output_type": "stream",
     "text": [
      "Global seed set to 42\n",
      "Global seed set to 42\n"
     ]
    },
    {
     "name": "stdout",
     "output_type": "stream",
     "text": [
      ".Training the model...\n",
      "\n"
     ]
    },
    {
     "name": "stderr",
     "output_type": "stream",
     "text": [
      "Global seed set to 42\n",
      "GPU available: False, used: False\n",
      "TPU available: None, using: 0 TPU cores\n",
      "\n",
      "  | Name     | Type   | Params\n",
      "------------------------------------\n",
      "0 | lstm_1   | LSTM   | 3.4 K \n",
      "1 | linear_1 | Linear | 1.9 K \n",
      "2 | linear_2 | ReLU   | 0     \n",
      "3 | mixed_1  | Linear | 1.1 K \n",
      "4 | mixed_2  | ReLU   | 0     \n",
      "5 | mixed_3  | Linear | 16    \n",
      "6 | mixed_4  | ReLU   | 0     \n",
      "------------------------------------\n",
      "6.4 K     Trainable params\n",
      "0         Non-trainable params\n",
      "6.4 K     Total params\n",
      "0.025     Total estimated model params size (MB)\n"
     ]
    },
    {
     "name": "stdout",
     "output_type": "stream",
     "text": [
      "............................"
     ]
    },
    {
     "name": "stderr",
     "output_type": "stream",
     "text": [
      "Global seed set to 42\n",
      "Global seed set to 42\n"
     ]
    },
    {
     "name": "stdout",
     "output_type": "stream",
     "text": [
      ".Training the model...\n",
      "\n"
     ]
    },
    {
     "name": "stderr",
     "output_type": "stream",
     "text": [
      "Global seed set to 42\n",
      "GPU available: False, used: False\n",
      "TPU available: None, using: 0 TPU cores\n",
      "\n",
      "  | Name     | Type   | Params\n",
      "------------------------------------\n",
      "0 | lstm_1   | LSTM   | 3.4 K \n",
      "1 | linear_1 | Linear | 1.9 K \n",
      "2 | linear_2 | ReLU   | 0     \n",
      "3 | mixed_1  | Linear | 1.1 K \n",
      "4 | mixed_2  | ReLU   | 0     \n",
      "5 | mixed_3  | Linear | 16    \n",
      "6 | mixed_4  | ReLU   | 0     \n",
      "------------------------------------\n",
      "6.4 K     Trainable params\n",
      "0         Non-trainable params\n",
      "6.4 K     Total params\n",
      "0.025     Total estimated model params size (MB)\n"
     ]
    },
    {
     "name": "stdout",
     "output_type": "stream",
     "text": [
      "............................."
     ]
    },
    {
     "name": "stderr",
     "output_type": "stream",
     "text": [
      "Global seed set to 42\n",
      "Global seed set to 42\n"
     ]
    },
    {
     "name": "stdout",
     "output_type": "stream",
     "text": [
      ".Training the model...\n",
      "\n"
     ]
    },
    {
     "name": "stderr",
     "output_type": "stream",
     "text": [
      "Global seed set to 42\n",
      "GPU available: False, used: False\n",
      "TPU available: None, using: 0 TPU cores\n",
      "\n",
      "  | Name     | Type   | Params\n",
      "------------------------------------\n",
      "0 | lstm_1   | LSTM   | 3.4 K \n",
      "1 | linear_1 | Linear | 1.9 K \n",
      "2 | linear_2 | ReLU   | 0     \n",
      "3 | mixed_1  | Linear | 1.1 K \n",
      "4 | mixed_2  | ReLU   | 0     \n",
      "5 | mixed_3  | Linear | 16    \n",
      "6 | mixed_4  | ReLU   | 0     \n",
      "------------------------------------\n",
      "6.4 K     Trainable params\n",
      "0         Non-trainable params\n",
      "6.4 K     Total params\n",
      "0.025     Total estimated model params size (MB)\n"
     ]
    },
    {
     "name": "stdout",
     "output_type": "stream",
     "text": [
      ".........................."
     ]
    },
    {
     "name": "stderr",
     "output_type": "stream",
     "text": [
      "Global seed set to 42\n",
      "Global seed set to 42\n"
     ]
    },
    {
     "name": "stdout",
     "output_type": "stream",
     "text": [
      ".Training the model...\n",
      "\n"
     ]
    },
    {
     "name": "stderr",
     "output_type": "stream",
     "text": [
      "Global seed set to 42\n",
      "GPU available: False, used: False\n",
      "TPU available: None, using: 0 TPU cores\n",
      "\n",
      "  | Name     | Type   | Params\n",
      "------------------------------------\n",
      "0 | lstm_1   | LSTM   | 3.4 K \n",
      "1 | linear_1 | Linear | 1.9 K \n",
      "2 | linear_2 | ReLU   | 0     \n",
      "3 | mixed_1  | Linear | 1.1 K \n",
      "4 | mixed_2  | ReLU   | 0     \n",
      "5 | mixed_3  | Linear | 16    \n",
      "6 | mixed_4  | ReLU   | 0     \n",
      "------------------------------------\n",
      "6.4 K     Trainable params\n",
      "0         Non-trainable params\n",
      "6.4 K     Total params\n",
      "0.025     Total estimated model params size (MB)\n"
     ]
    },
    {
     "name": "stdout",
     "output_type": "stream",
     "text": [
      ".........................................."
     ]
    },
    {
     "name": "stderr",
     "output_type": "stream",
     "text": [
      "Global seed set to 42\n",
      "Global seed set to 42\n"
     ]
    },
    {
     "name": "stdout",
     "output_type": "stream",
     "text": [
      ".Training the model...\n",
      "\n"
     ]
    },
    {
     "name": "stderr",
     "output_type": "stream",
     "text": [
      "Global seed set to 42\n",
      "GPU available: False, used: False\n",
      "TPU available: None, using: 0 TPU cores\n",
      "\n",
      "  | Name     | Type   | Params\n",
      "------------------------------------\n",
      "0 | lstm_1   | LSTM   | 3.4 K \n",
      "1 | linear_1 | Linear | 1.9 K \n",
      "2 | linear_2 | ReLU   | 0     \n",
      "3 | mixed_1  | Linear | 1.1 K \n",
      "4 | mixed_2  | ReLU   | 0     \n",
      "5 | mixed_3  | Linear | 16    \n",
      "6 | mixed_4  | ReLU   | 0     \n",
      "------------------------------------\n",
      "6.4 K     Trainable params\n",
      "0         Non-trainable params\n",
      "6.4 K     Total params\n",
      "0.025     Total estimated model params size (MB)\n"
     ]
    },
    {
     "name": "stdout",
     "output_type": "stream",
     "text": [
      "..............................................................................."
     ]
    },
    {
     "name": "stderr",
     "output_type": "stream",
     "text": [
      "Global seed set to 42\n",
      "Global seed set to 42\n"
     ]
    },
    {
     "name": "stdout",
     "output_type": "stream",
     "text": [
      ".Training the model...\n",
      "\n"
     ]
    },
    {
     "name": "stderr",
     "output_type": "stream",
     "text": [
      "Global seed set to 42\n",
      "GPU available: False, used: False\n",
      "TPU available: None, using: 0 TPU cores\n",
      "\n",
      "  | Name     | Type   | Params\n",
      "------------------------------------\n",
      "0 | lstm_1   | LSTM   | 3.4 K \n",
      "1 | linear_1 | Linear | 1.9 K \n",
      "2 | linear_2 | ReLU   | 0     \n",
      "3 | mixed_1  | Linear | 1.1 K \n",
      "4 | mixed_2  | ReLU   | 0     \n",
      "5 | mixed_3  | Linear | 16    \n",
      "6 | mixed_4  | ReLU   | 0     \n",
      "------------------------------------\n",
      "6.4 K     Trainable params\n",
      "0         Non-trainable params\n",
      "6.4 K     Total params\n",
      "0.025     Total estimated model params size (MB)\n"
     ]
    },
    {
     "name": "stdout",
     "output_type": "stream",
     "text": [
      ".........................."
     ]
    },
    {
     "name": "stderr",
     "output_type": "stream",
     "text": [
      "Global seed set to 42\n",
      "Global seed set to 42\n"
     ]
    },
    {
     "name": "stdout",
     "output_type": "stream",
     "text": [
      ".Training the model...\n",
      "\n"
     ]
    },
    {
     "name": "stderr",
     "output_type": "stream",
     "text": [
      "Global seed set to 42\n",
      "GPU available: False, used: False\n",
      "TPU available: None, using: 0 TPU cores\n",
      "\n",
      "  | Name     | Type   | Params\n",
      "------------------------------------\n",
      "0 | lstm_1   | LSTM   | 3.4 K \n",
      "1 | linear_1 | Linear | 1.9 K \n",
      "2 | linear_2 | ReLU   | 0     \n",
      "3 | mixed_1  | Linear | 1.1 K \n",
      "4 | mixed_2  | ReLU   | 0     \n",
      "5 | mixed_3  | Linear | 16    \n",
      "6 | mixed_4  | ReLU   | 0     \n",
      "------------------------------------\n",
      "6.4 K     Trainable params\n",
      "0         Non-trainable params\n",
      "6.4 K     Total params\n",
      "0.025     Total estimated model params size (MB)\n"
     ]
    },
    {
     "name": "stdout",
     "output_type": "stream",
     "text": [
      "................................................................................................................................"
     ]
    },
    {
     "name": "stderr",
     "output_type": "stream",
     "text": [
      "Global seed set to 42\n",
      "Global seed set to 42\n"
     ]
    },
    {
     "name": "stdout",
     "output_type": "stream",
     "text": [
      ".Training the model...\n",
      "\n"
     ]
    },
    {
     "name": "stderr",
     "output_type": "stream",
     "text": [
      "Global seed set to 42\n",
      "GPU available: False, used: False\n",
      "TPU available: None, using: 0 TPU cores\n",
      "\n",
      "  | Name     | Type   | Params\n",
      "------------------------------------\n",
      "0 | lstm_1   | LSTM   | 3.4 K \n",
      "1 | linear_1 | Linear | 1.9 K \n",
      "2 | linear_2 | ReLU   | 0     \n",
      "3 | mixed_1  | Linear | 1.1 K \n",
      "4 | mixed_2  | ReLU   | 0     \n",
      "5 | mixed_3  | Linear | 16    \n",
      "6 | mixed_4  | ReLU   | 0     \n",
      "------------------------------------\n",
      "6.4 K     Trainable params\n",
      "0         Non-trainable params\n",
      "6.4 K     Total params\n",
      "0.025     Total estimated model params size (MB)\n"
     ]
    },
    {
     "name": "stdout",
     "output_type": "stream",
     "text": [
      "......................................"
     ]
    },
    {
     "name": "stderr",
     "output_type": "stream",
     "text": [
      "Global seed set to 42\n",
      "Global seed set to 42\n"
     ]
    },
    {
     "name": "stdout",
     "output_type": "stream",
     "text": [
      ".Training the model...\n",
      "\n"
     ]
    },
    {
     "name": "stderr",
     "output_type": "stream",
     "text": [
      "Global seed set to 42\n",
      "GPU available: False, used: False\n",
      "TPU available: None, using: 0 TPU cores\n",
      "\n",
      "  | Name     | Type   | Params\n",
      "------------------------------------\n",
      "0 | lstm_1   | LSTM   | 3.4 K \n",
      "1 | linear_1 | Linear | 1.9 K \n",
      "2 | linear_2 | ReLU   | 0     \n",
      "3 | mixed_1  | Linear | 1.1 K \n",
      "4 | mixed_2  | ReLU   | 0     \n",
      "5 | mixed_3  | Linear | 16    \n",
      "6 | mixed_4  | ReLU   | 0     \n",
      "------------------------------------\n",
      "6.4 K     Trainable params\n",
      "0         Non-trainable params\n",
      "6.4 K     Total params\n",
      "0.025     Total estimated model params size (MB)\n"
     ]
    },
    {
     "name": "stdout",
     "output_type": "stream",
     "text": [
      ".........................."
     ]
    },
    {
     "name": "stderr",
     "output_type": "stream",
     "text": [
      "Global seed set to 42\n",
      "Global seed set to 42\n"
     ]
    },
    {
     "name": "stdout",
     "output_type": "stream",
     "text": [
      ".Training the model...\n",
      "\n"
     ]
    },
    {
     "name": "stderr",
     "output_type": "stream",
     "text": [
      "Global seed set to 42\n",
      "GPU available: False, used: False\n",
      "TPU available: None, using: 0 TPU cores\n",
      "\n",
      "  | Name     | Type   | Params\n",
      "------------------------------------\n",
      "0 | lstm_1   | LSTM   | 3.4 K \n",
      "1 | linear_1 | Linear | 1.9 K \n",
      "2 | linear_2 | ReLU   | 0     \n",
      "3 | mixed_1  | Linear | 1.1 K \n",
      "4 | mixed_2  | ReLU   | 0     \n",
      "5 | mixed_3  | Linear | 16    \n",
      "6 | mixed_4  | ReLU   | 0     \n",
      "------------------------------------\n",
      "6.4 K     Trainable params\n",
      "0         Non-trainable params\n",
      "6.4 K     Total params\n",
      "0.025     Total estimated model params size (MB)\n"
     ]
    },
    {
     "name": "stdout",
     "output_type": "stream",
     "text": [
      "..........................."
     ]
    },
    {
     "name": "stderr",
     "output_type": "stream",
     "text": [
      "Global seed set to 42\n",
      "Global seed set to 42\n"
     ]
    },
    {
     "name": "stdout",
     "output_type": "stream",
     "text": [
      ".Training the model...\n",
      "\n"
     ]
    },
    {
     "name": "stderr",
     "output_type": "stream",
     "text": [
      "Global seed set to 42\n",
      "GPU available: False, used: False\n",
      "TPU available: None, using: 0 TPU cores\n",
      "\n",
      "  | Name     | Type   | Params\n",
      "------------------------------------\n",
      "0 | lstm_1   | LSTM   | 3.4 K \n",
      "1 | linear_1 | Linear | 1.9 K \n",
      "2 | linear_2 | ReLU   | 0     \n",
      "3 | mixed_1  | Linear | 1.1 K \n",
      "4 | mixed_2  | ReLU   | 0     \n",
      "5 | mixed_3  | Linear | 16    \n",
      "6 | mixed_4  | ReLU   | 0     \n",
      "------------------------------------\n",
      "6.4 K     Trainable params\n",
      "0         Non-trainable params\n",
      "6.4 K     Total params\n",
      "0.025     Total estimated model params size (MB)\n"
     ]
    },
    {
     "name": "stdout",
     "output_type": "stream",
     "text": [
      "............................"
     ]
    },
    {
     "name": "stderr",
     "output_type": "stream",
     "text": [
      "Global seed set to 42\n",
      "Global seed set to 42\n"
     ]
    },
    {
     "name": "stdout",
     "output_type": "stream",
     "text": [
      ".Training the model...\n",
      "\n"
     ]
    },
    {
     "name": "stderr",
     "output_type": "stream",
     "text": [
      "Global seed set to 42\n",
      "GPU available: False, used: False\n",
      "TPU available: None, using: 0 TPU cores\n",
      "\n",
      "  | Name     | Type   | Params\n",
      "------------------------------------\n",
      "0 | lstm_1   | LSTM   | 3.4 K \n",
      "1 | linear_1 | Linear | 1.9 K \n",
      "2 | linear_2 | ReLU   | 0     \n",
      "3 | mixed_1  | Linear | 1.1 K \n",
      "4 | mixed_2  | ReLU   | 0     \n",
      "5 | mixed_3  | Linear | 16    \n",
      "6 | mixed_4  | ReLU   | 0     \n",
      "------------------------------------\n",
      "6.4 K     Trainable params\n",
      "0         Non-trainable params\n",
      "6.4 K     Total params\n",
      "0.025     Total estimated model params size (MB)\n"
     ]
    },
    {
     "name": "stdout",
     "output_type": "stream",
     "text": [
      "..........................."
     ]
    },
    {
     "name": "stderr",
     "output_type": "stream",
     "text": [
      "Global seed set to 42\n",
      "Global seed set to 42\n"
     ]
    },
    {
     "name": "stdout",
     "output_type": "stream",
     "text": [
      ".Training the model...\n",
      "\n"
     ]
    },
    {
     "name": "stderr",
     "output_type": "stream",
     "text": [
      "Global seed set to 42\n",
      "GPU available: False, used: False\n",
      "TPU available: None, using: 0 TPU cores\n",
      "\n",
      "  | Name     | Type   | Params\n",
      "------------------------------------\n",
      "0 | lstm_1   | LSTM   | 3.4 K \n",
      "1 | linear_1 | Linear | 1.9 K \n",
      "2 | linear_2 | ReLU   | 0     \n",
      "3 | mixed_1  | Linear | 1.1 K \n",
      "4 | mixed_2  | ReLU   | 0     \n",
      "5 | mixed_3  | Linear | 16    \n",
      "6 | mixed_4  | ReLU   | 0     \n",
      "------------------------------------\n",
      "6.4 K     Trainable params\n",
      "0         Non-trainable params\n",
      "6.4 K     Total params\n",
      "0.025     Total estimated model params size (MB)\n",
      "Global seed set to 42\n",
      "Global seed set to 42\n"
     ]
    },
    {
     "name": "stdout",
     "output_type": "stream",
     "text": [
      "NOT ENOUGH DATA FOR COUNTRY MLT\n",
      "Training the model...\n",
      "\n"
     ]
    },
    {
     "name": "stderr",
     "output_type": "stream",
     "text": [
      "Global seed set to 42\n",
      "GPU available: False, used: False\n",
      "TPU available: None, using: 0 TPU cores\n",
      "\n",
      "  | Name     | Type   | Params\n",
      "------------------------------------\n",
      "0 | lstm_1   | LSTM   | 3.4 K \n",
      "1 | linear_1 | Linear | 1.9 K \n",
      "2 | linear_2 | ReLU   | 0     \n",
      "3 | mixed_1  | Linear | 1.1 K \n",
      "4 | mixed_2  | ReLU   | 0     \n",
      "5 | mixed_3  | Linear | 16    \n",
      "6 | mixed_4  | ReLU   | 0     \n",
      "------------------------------------\n",
      "6.4 K     Trainable params\n",
      "0         Non-trainable params\n",
      "6.4 K     Total params\n",
      "0.025     Total estimated model params size (MB)\n"
     ]
    },
    {
     "name": "stdout",
     "output_type": "stream",
     "text": [
      "....................................................................................................................."
     ]
    },
    {
     "name": "stderr",
     "output_type": "stream",
     "text": [
      "Global seed set to 42\n",
      "Global seed set to 42\n"
     ]
    },
    {
     "name": "stdout",
     "output_type": "stream",
     "text": [
      ".Training the model...\n",
      "\n"
     ]
    },
    {
     "name": "stderr",
     "output_type": "stream",
     "text": [
      "Global seed set to 42\n",
      "GPU available: False, used: False\n",
      "TPU available: None, using: 0 TPU cores\n",
      "\n",
      "  | Name     | Type   | Params\n",
      "------------------------------------\n",
      "0 | lstm_1   | LSTM   | 3.4 K \n",
      "1 | linear_1 | Linear | 1.9 K \n",
      "2 | linear_2 | ReLU   | 0     \n",
      "3 | mixed_1  | Linear | 1.1 K \n",
      "4 | mixed_2  | ReLU   | 0     \n",
      "5 | mixed_3  | Linear | 16    \n",
      "6 | mixed_4  | ReLU   | 0     \n",
      "------------------------------------\n",
      "6.4 K     Trainable params\n",
      "0         Non-trainable params\n",
      "6.4 K     Total params\n",
      "0.025     Total estimated model params size (MB)\n"
     ]
    },
    {
     "name": "stdout",
     "output_type": "stream",
     "text": [
      "............................."
     ]
    },
    {
     "name": "stderr",
     "output_type": "stream",
     "text": [
      "Global seed set to 42\n",
      "Global seed set to 42\n"
     ]
    },
    {
     "name": "stdout",
     "output_type": "stream",
     "text": [
      ".Training the model...\n",
      "\n"
     ]
    },
    {
     "name": "stderr",
     "output_type": "stream",
     "text": [
      "Global seed set to 42\n",
      "GPU available: False, used: False\n",
      "TPU available: None, using: 0 TPU cores\n",
      "\n",
      "  | Name     | Type   | Params\n",
      "------------------------------------\n",
      "0 | lstm_1   | LSTM   | 3.4 K \n",
      "1 | linear_1 | Linear | 1.9 K \n",
      "2 | linear_2 | ReLU   | 0     \n",
      "3 | mixed_1  | Linear | 1.1 K \n",
      "4 | mixed_2  | ReLU   | 0     \n",
      "5 | mixed_3  | Linear | 16    \n",
      "6 | mixed_4  | ReLU   | 0     \n",
      "------------------------------------\n",
      "6.4 K     Trainable params\n",
      "0         Non-trainable params\n",
      "6.4 K     Total params\n",
      "0.025     Total estimated model params size (MB)\n"
     ]
    },
    {
     "name": "stdout",
     "output_type": "stream",
     "text": [
      ".................................................................................................................."
     ]
    },
    {
     "name": "stderr",
     "output_type": "stream",
     "text": [
      "Global seed set to 42\n",
      "Global seed set to 42\n"
     ]
    },
    {
     "name": "stdout",
     "output_type": "stream",
     "text": [
      ".Training the model...\n",
      "\n"
     ]
    },
    {
     "name": "stderr",
     "output_type": "stream",
     "text": [
      "Global seed set to 42\n",
      "GPU available: False, used: False\n",
      "TPU available: None, using: 0 TPU cores\n",
      "\n",
      "  | Name     | Type   | Params\n",
      "------------------------------------\n",
      "0 | lstm_1   | LSTM   | 3.4 K \n",
      "1 | linear_1 | Linear | 1.9 K \n",
      "2 | linear_2 | ReLU   | 0     \n",
      "3 | mixed_1  | Linear | 1.1 K \n",
      "4 | mixed_2  | ReLU   | 0     \n",
      "5 | mixed_3  | Linear | 16    \n",
      "6 | mixed_4  | ReLU   | 0     \n",
      "------------------------------------\n",
      "6.4 K     Trainable params\n",
      "0         Non-trainable params\n",
      "6.4 K     Total params\n",
      "0.025     Total estimated model params size (MB)\n"
     ]
    },
    {
     "name": "stdout",
     "output_type": "stream",
     "text": [
      "............................."
     ]
    },
    {
     "name": "stderr",
     "output_type": "stream",
     "text": [
      "Global seed set to 42\n",
      "Global seed set to 42\n"
     ]
    },
    {
     "name": "stdout",
     "output_type": "stream",
     "text": [
      ".Training the model...\n",
      "\n"
     ]
    },
    {
     "name": "stderr",
     "output_type": "stream",
     "text": [
      "Global seed set to 42\n",
      "GPU available: False, used: False\n",
      "TPU available: None, using: 0 TPU cores\n",
      "\n",
      "  | Name     | Type   | Params\n",
      "------------------------------------\n",
      "0 | lstm_1   | LSTM   | 3.4 K \n",
      "1 | linear_1 | Linear | 1.9 K \n",
      "2 | linear_2 | ReLU   | 0     \n",
      "3 | mixed_1  | Linear | 1.1 K \n",
      "4 | mixed_2  | ReLU   | 0     \n",
      "5 | mixed_3  | Linear | 16    \n",
      "6 | mixed_4  | ReLU   | 0     \n",
      "------------------------------------\n",
      "6.4 K     Trainable params\n",
      "0         Non-trainable params\n",
      "6.4 K     Total params\n",
      "0.025     Total estimated model params size (MB)\n"
     ]
    },
    {
     "name": "stdout",
     "output_type": "stream",
     "text": [
      ".........................."
     ]
    },
    {
     "name": "stderr",
     "output_type": "stream",
     "text": [
      "Global seed set to 42\n",
      "Global seed set to 42\n"
     ]
    },
    {
     "name": "stdout",
     "output_type": "stream",
     "text": [
      ".Training the model...\n",
      "\n"
     ]
    },
    {
     "name": "stderr",
     "output_type": "stream",
     "text": [
      "Global seed set to 42\n",
      "GPU available: False, used: False\n",
      "TPU available: None, using: 0 TPU cores\n",
      "\n",
      "  | Name     | Type   | Params\n",
      "------------------------------------\n",
      "0 | lstm_1   | LSTM   | 3.4 K \n",
      "1 | linear_1 | Linear | 1.9 K \n",
      "2 | linear_2 | ReLU   | 0     \n",
      "3 | mixed_1  | Linear | 1.1 K \n",
      "4 | mixed_2  | ReLU   | 0     \n",
      "5 | mixed_3  | Linear | 16    \n",
      "6 | mixed_4  | ReLU   | 0     \n",
      "------------------------------------\n",
      "6.4 K     Trainable params\n",
      "0         Non-trainable params\n",
      "6.4 K     Total params\n",
      "0.025     Total estimated model params size (MB)\n"
     ]
    },
    {
     "name": "stdout",
     "output_type": "stream",
     "text": [
      "......................................................"
     ]
    },
    {
     "name": "stderr",
     "output_type": "stream",
     "text": [
      "Global seed set to 42\n",
      "Global seed set to 42\n"
     ]
    },
    {
     "name": "stdout",
     "output_type": "stream",
     "text": [
      ".Training the model...\n",
      "\n"
     ]
    },
    {
     "name": "stderr",
     "output_type": "stream",
     "text": [
      "Global seed set to 42\n",
      "GPU available: False, used: False\n",
      "TPU available: None, using: 0 TPU cores\n",
      "\n",
      "  | Name     | Type   | Params\n",
      "------------------------------------\n",
      "0 | lstm_1   | LSTM   | 3.4 K \n",
      "1 | linear_1 | Linear | 1.9 K \n",
      "2 | linear_2 | ReLU   | 0     \n",
      "3 | mixed_1  | Linear | 1.1 K \n",
      "4 | mixed_2  | ReLU   | 0     \n",
      "5 | mixed_3  | Linear | 16    \n",
      "6 | mixed_4  | ReLU   | 0     \n",
      "------------------------------------\n",
      "6.4 K     Trainable params\n",
      "0         Non-trainable params\n",
      "6.4 K     Total params\n",
      "0.025     Total estimated model params size (MB)\n"
     ]
    },
    {
     "name": "stdout",
     "output_type": "stream",
     "text": [
      "............................"
     ]
    },
    {
     "name": "stderr",
     "output_type": "stream",
     "text": [
      "Global seed set to 42\n",
      "Global seed set to 42\n"
     ]
    },
    {
     "name": "stdout",
     "output_type": "stream",
     "text": [
      ".Training the model...\n",
      "\n"
     ]
    },
    {
     "name": "stderr",
     "output_type": "stream",
     "text": [
      "Global seed set to 42\n",
      "GPU available: False, used: False\n",
      "TPU available: None, using: 0 TPU cores\n",
      "\n",
      "  | Name     | Type   | Params\n",
      "------------------------------------\n",
      "0 | lstm_1   | LSTM   | 3.4 K \n",
      "1 | linear_1 | Linear | 1.9 K \n",
      "2 | linear_2 | ReLU   | 0     \n",
      "3 | mixed_1  | Linear | 1.1 K \n",
      "4 | mixed_2  | ReLU   | 0     \n",
      "5 | mixed_3  | Linear | 16    \n",
      "6 | mixed_4  | ReLU   | 0     \n",
      "------------------------------------\n",
      "6.4 K     Trainable params\n",
      "0         Non-trainable params\n",
      "6.4 K     Total params\n",
      "0.025     Total estimated model params size (MB)\n"
     ]
    },
    {
     "name": "stdout",
     "output_type": "stream",
     "text": [
      "............................"
     ]
    },
    {
     "data": {
      "text/html": [
       "<div>\n",
       "<style scoped>\n",
       "    .dataframe tbody tr th:only-of-type {\n",
       "        vertical-align: middle;\n",
       "    }\n",
       "\n",
       "    .dataframe tbody tr th {\n",
       "        vertical-align: top;\n",
       "    }\n",
       "\n",
       "    .dataframe thead th {\n",
       "        text-align: right;\n",
       "    }\n",
       "</style>\n",
       "<table border=\"1\" class=\"dataframe\">\n",
       "  <thead>\n",
       "    <tr style=\"text-align: right;\">\n",
       "      <th></th>\n",
       "      <th>iso_code</th>\n",
       "      <th>index</th>\n",
       "      <th>ground</th>\n",
       "      <th>pred</th>\n",
       "      <th>error</th>\n",
       "    </tr>\n",
       "  </thead>\n",
       "  <tbody>\n",
       "    <tr>\n",
       "      <th>4662</th>\n",
       "      <td>GBR</td>\n",
       "      <td>2020-05-01</td>\n",
       "      <td>1.797143</td>\n",
       "      <td>1.182496</td>\n",
       "      <td>0.614646</td>\n",
       "    </tr>\n",
       "    <tr>\n",
       "      <th>3118</th>\n",
       "      <td>ESP</td>\n",
       "      <td>2020-05-01</td>\n",
       "      <td>5.930440</td>\n",
       "      <td>1.829132</td>\n",
       "      <td>4.101308</td>\n",
       "    </tr>\n",
       "    <tr>\n",
       "      <th>10066</th>\n",
       "      <td>SVK</td>\n",
       "      <td>2020-05-01</td>\n",
       "      <td>1.760549</td>\n",
       "      <td>5.946790</td>\n",
       "      <td>4.186241</td>\n",
       "    </tr>\n",
       "    <tr>\n",
       "      <th>30</th>\n",
       "      <td>AUT</td>\n",
       "      <td>2020-05-01</td>\n",
       "      <td>0.835934</td>\n",
       "      <td>1.512610</td>\n",
       "      <td>0.676676</td>\n",
       "    </tr>\n",
       "    <tr>\n",
       "      <th>6592</th>\n",
       "      <td>ITA</td>\n",
       "      <td>2020-05-01</td>\n",
       "      <td>0.906044</td>\n",
       "      <td>3.518695</td>\n",
       "      <td>2.612651</td>\n",
       "    </tr>\n",
       "    <tr>\n",
       "      <th>...</th>\n",
       "      <td>...</td>\n",
       "      <td>...</td>\n",
       "      <td>...</td>\n",
       "      <td>...</td>\n",
       "      <td>...</td>\n",
       "    </tr>\n",
       "    <tr>\n",
       "      <th>1523</th>\n",
       "      <td>CHE</td>\n",
       "      <td>2021-04-01</td>\n",
       "      <td>1.798352</td>\n",
       "      <td>1.803374</td>\n",
       "      <td>0.005022</td>\n",
       "    </tr>\n",
       "    <tr>\n",
       "      <th>365</th>\n",
       "      <td>AUT</td>\n",
       "      <td>2021-04-01</td>\n",
       "      <td>1.737912</td>\n",
       "      <td>1.258592</td>\n",
       "      <td>0.479320</td>\n",
       "    </tr>\n",
       "    <tr>\n",
       "      <th>2681</th>\n",
       "      <td>DEU</td>\n",
       "      <td>2021-04-01</td>\n",
       "      <td>1.288791</td>\n",
       "      <td>2.082680</td>\n",
       "      <td>0.793889</td>\n",
       "    </tr>\n",
       "    <tr>\n",
       "      <th>6155</th>\n",
       "      <td>HUN</td>\n",
       "      <td>2021-04-01</td>\n",
       "      <td>1.744286</td>\n",
       "      <td>0.000000</td>\n",
       "      <td>1.744286</td>\n",
       "    </tr>\n",
       "    <tr>\n",
       "      <th>8857</th>\n",
       "      <td>NOR</td>\n",
       "      <td>2021-04-01</td>\n",
       "      <td>0.608132</td>\n",
       "      <td>2.387035</td>\n",
       "      <td>1.778903</td>\n",
       "    </tr>\n",
       "  </tbody>\n",
       "</table>\n",
       "<p>348 rows × 5 columns</p>\n",
       "</div>"
      ],
      "text/plain": [
       "      iso_code       index    ground      pred     error\n",
       "4662       GBR  2020-05-01  1.797143  1.182496  0.614646\n",
       "3118       ESP  2020-05-01  5.930440  1.829132  4.101308\n",
       "10066      SVK  2020-05-01  1.760549  5.946790  4.186241\n",
       "30         AUT  2020-05-01  0.835934  1.512610  0.676676\n",
       "6592       ITA  2020-05-01  0.906044  3.518695  2.612651\n",
       "...        ...         ...       ...       ...       ...\n",
       "1523       CHE  2021-04-01  1.798352  1.803374  0.005022\n",
       "365        AUT  2021-04-01  1.737912  1.258592  0.479320\n",
       "2681       DEU  2021-04-01  1.288791  2.082680  0.793889\n",
       "6155       HUN  2021-04-01  1.744286  0.000000  1.744286\n",
       "8857       NOR  2021-04-01  0.608132  2.387035  1.778903\n",
       "\n",
       "[348 rows x 5 columns]"
      ]
     },
     "execution_count": 19,
     "metadata": {},
     "output_type": "execute_result"
    }
   ],
   "source": [
    "index = []\n",
    "ground = []\n",
    "error_curve = []\n",
    "country = []\n",
    "predictions_list = []\n",
    "\n",
    "for final_iso_code in iso_codes:\n",
    "    # Final training colums\n",
    "    train_cols= swissre_features['demography'] +\\\n",
    "                swissre_features['sanitary'] +\\\n",
    "                swissre_features['vaccines']['to_use'] +\\\n",
    "                swissre_features['economic']['to_use'] +\\\n",
    "                swissre_features['policies']['to_use'] + ['shifted_r_estim'] #swissre_features['weather'] +\\\n",
    "\n",
    "    final_train_cols = [col for col in train_cols if not df[df['iso_code'] == final_iso_code][col].isnull().all()]\n",
    "    final_train_cols = [col for col in final_train_cols if not df[col].std() == 0]\n",
    "    context = Context()\n",
    "    pipeline = Pipeline(df, final_train_cols, 'unemployment_rate_idx', final_iso_code, 28, context, 'weight') #shifted_r_estim\n",
    "    try:\n",
    "        pipeline.fit_pipeline(save_model=False)\n",
    "        predictions = pipeline.predict()\n",
    "        test_indices = df['iso_code'] == final_iso_code\n",
    "        index_iso = df.loc[test_indices].index\n",
    "        ground_iso = df.loc[test_indices]['unemployment_rate_idx']\n",
    "        error_curve_iso = np.abs(ground_iso - predictions)\n",
    "        country_iso = [final_iso_code for i in index_iso]\n",
    "        index.extend(index_iso)\n",
    "        ground.extend(ground_iso)\n",
    "        error_curve.extend(error_curve_iso)\n",
    "        country.extend(country_iso)\n",
    "        predictions_list.extend(predictions)\n",
    "    except:\n",
    "        print(f\"NOT ENOUGH DATA FOR COUNTRY {final_iso_code}\")\n",
    "    \n",
    "\n",
    "result_df = pd.DataFrame({'iso_code': country, 'index': index, 'ground': ground, 'pred': predictions_list, 'error': error_curve}).sort_values(by = 'index')\n",
    "result_df = result_df[(result_df['index'] >= '2020-05-01') & (result_df['index'].dt.day == 1)]\n",
    "result_df['index'] = result_df['index'].dt.date\n",
    "result_df"
   ]
  },
  {
   "cell_type": "code",
   "execution_count": 31,
   "id": "failing-interest",
   "metadata": {},
   "outputs": [],
   "source": [
    "result_df.rename(columns={\"index\": \"date\"}).to_csv(\"./data/Economic_data/economic_predictions.csv\", index=False)"
   ]
  }
 ],
 "metadata": {
  "kernelspec": {
   "display_name": "Python 3",
   "language": "python",
   "name": "python3"
  },
  "language_info": {
   "codemirror_mode": {
    "name": "ipython",
    "version": 3
   },
   "file_extension": ".py",
   "mimetype": "text/x-python",
   "name": "python",
   "nbconvert_exporter": "python",
   "pygments_lexer": "ipython3",
   "version": "3.8.8"
  }
 },
 "nbformat": 4,
 "nbformat_minor": 5
}
