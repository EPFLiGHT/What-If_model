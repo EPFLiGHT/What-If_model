{
 "cells": [
  {
   "cell_type": "code",
   "execution_count": 1,
   "id": "cubic-plymouth",
   "metadata": {},
   "outputs": [],
   "source": [
    "import pandas as pd\n",
    "import numpy as np"
   ]
  },
  {
   "cell_type": "code",
   "execution_count": 2,
   "id": "civil-belize",
   "metadata": {},
   "outputs": [
    {
     "name": "stderr",
     "output_type": "stream",
     "text": [
      "/Users/francescoposa/opt/anaconda3/envs/igh-whatif/lib/python3.8/site-packages/pandas/core/indexing.py:1637: SettingWithCopyWarning: \n",
      "A value is trying to be set on a copy of a slice from a DataFrame\n",
      "\n",
      "See the caveats in the documentation: https://pandas.pydata.org/pandas-docs/stable/user_guide/indexing.html#returning-a-view-versus-a-copy\n",
      "  self._setitem_single_block(indexer, value, name)\n"
     ]
    }
   ],
   "source": [
    "# Reading the dataframe\n",
    "# https://raw.githubusercontent.com/owid/covid-19-data/master/public/data/vaccinations/vaccinations.csv\n",
    "vaccinations = pd.read_csv(\"./owid_downloaded/vaccinations.csv\")\n",
    "\n",
    "# Dropping columns not used\n",
    "vaccinations.drop(columns=[\n",
    "    'location', \n",
    "    'total_vaccinations_per_hundred', \n",
    "    'daily_vaccinations_raw', \n",
    "    'people_vaccinated_per_hundred', \n",
    "    'people_fully_vaccinated_per_hundred', \n",
    "    'daily_vaccinations_per_million'], inplace=True)\n",
    "\n",
    "# Getting all iso_codes\n",
    "iso_codes = vaccinations['iso_code'].unique()\n",
    "iso_codes = [iso_code for iso_code in iso_codes if not 'OWID' in iso_code]\n",
    "\n",
    "\n",
    "def get_people_fully_vaccinated_value(t, i, values):\n",
    "    \"\"\"Computes the `people_fully_vaccinated` where possible\"\"\"\n",
    "    start = -1\n",
    "    for val in values:\n",
    "        if i >= val:\n",
    "            start = val\n",
    "        elif start >= 0 and i <= val:\n",
    "            value = t['people_fully_vaccinated'][start] + ((i - start) * (t['people_fully_vaccinated'][val] - t['people_fully_vaccinated'][start])/(val-start))\n",
    "            return value\n",
    "    return None\n",
    "\n",
    "df = pd.DataFrame(columns=vaccinations.columns)\n",
    "\n",
    "for iso_code in iso_codes:\n",
    "    country_data = vaccinations[vaccinations['iso_code'] == iso_code].copy()\n",
    "    \n",
    "    # Computing `total_vaccinations` and `people_fully_vaccinated` where possible\n",
    "    total_vaccinations = country_data['total_vaccinations']\n",
    "    people_fully_vaccinated = country_data['people_fully_vaccinated']\n",
    "    people_vaccinated = country_data['people_vaccinated']\n",
    "    daily_vaccinations = country_data['daily_vaccinations']\n",
    "    \n",
    "    for i in range(0, country_data.shape[0]):\n",
    "        if i == 0:\n",
    "            if not np.isnan(total_vaccinations.iloc[i]):\n",
    "                daily_vaccinations.iloc[i] = total_vaccinations.iloc[i]\n",
    "                people_vaccinated.iloc[i] = total_vaccinations.iloc[i]\n",
    "            elif not np.isnan(daily_vaccinations.iloc[i]):\n",
    "                total_vaccinations.iloc[i] = daily_vaccinations.iloc[i]\n",
    "                people_vaccinated.iloc[i] = daily_vaccinations.iloc[i]\n",
    "            elif not np.isnan(people_vaccinated.iloc[i]):\n",
    "                total_vaccinations.iloc[i] = people_vaccinated.iloc[i]\n",
    "                daily_vaccinations.iloc[i] = people_vaccinated.iloc[i]\n",
    "            people_fully_vaccinated.iloc[i] = 0\n",
    "        if i > 0 and np.isnan(total_vaccinations.iloc[i]):\n",
    "            pred = total_vaccinations.iloc[i-1]\n",
    "            total_vaccinations.iloc[i] = pred + country_data.iloc[i]['daily_vaccinations']\n",
    "        \n",
    "        if not np.isnan(country_data.iloc[i]['total_vaccinations']) and not np.isnan(country_data.iloc[i]['people_vaccinated']):\n",
    "            people_fully_vaccinated.iloc[i] = country_data.iloc[i]['total_vaccinations'] - country_data.iloc[i]['people_vaccinated']\n",
    "            \n",
    "    country_data['total_vaccinations'] = total_vaccinations\n",
    "    country_data['people_fully_vaccinated'] = people_fully_vaccinated\n",
    "    country_data['daily_vaccinations'] = daily_vaccinations\n",
    "    country_data['people_vaccinated'] = people_vaccinated\n",
    "    \n",
    "    values = list(country_data[~country_data['people_fully_vaccinated'].isna()].index)\n",
    "    \n",
    "    for i in range(1, country_data.shape[0]):\n",
    "        if np.isnan(people_fully_vaccinated.iloc[i]):\n",
    "            value = get_people_fully_vaccinated_value(country_data, people_fully_vaccinated.index[i], values)\n",
    "            if value is not None:\n",
    "                people_fully_vaccinated.iloc[i] = round(value)\n",
    "        if np.isnan(people_vaccinated.iloc[i]):\n",
    "            people_vaccinated.iloc[i] = country_data.iloc[i]['total_vaccinations'] - people_fully_vaccinated.iloc[i]\n",
    "            \n",
    "    country_data['people_fully_vaccinated'] = people_fully_vaccinated\n",
    "    country_data['people_vaccinated'] = people_vaccinated\n",
    "    \n",
    "    df = df.append(country_data)"
   ]
  },
  {
   "cell_type": "code",
   "execution_count": 3,
   "id": "collective-quality",
   "metadata": {},
   "outputs": [],
   "source": [
    "df.to_csv('vaccinations.csv', index=False)"
   ]
  }
 ],
 "metadata": {
  "kernelspec": {
   "display_name": "Python [conda env:igh-whatif]",
   "language": "python",
   "name": "conda-env-igh-whatif-py"
  },
  "language_info": {
   "codemirror_mode": {
    "name": "ipython",
    "version": 3
   },
   "file_extension": ".py",
   "mimetype": "text/x-python",
   "name": "python",
   "nbconvert_exporter": "python",
   "pygments_lexer": "ipython3",
   "version": "3.8.8"
  }
 },
 "nbformat": 4,
 "nbformat_minor": 5
}
