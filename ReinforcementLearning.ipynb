{
 "cells": [
  {
   "cell_type": "code",
   "execution_count": 1,
   "id": "opening-corpus",
   "metadata": {},
   "outputs": [],
   "source": [
    "import torch\n",
    "from torch import nn\n",
    "from torch.nn import functional as F\n",
    "from torch.optim import Adam\n",
    "from torchvision import transforms\n",
    "import pytorch_lightning as pl\n",
    "from torch.utils.data import DataLoader, Dataset\n",
    "import numpy as np\n",
    "import pandas as pd\n",
    "from collections import deque\n",
    "import random\n",
    "import yaml\n",
    "from classes.context import Context\n",
    "from classes.pipeline import Pipeline\n",
    "from classes.plot import Plot\n",
    "from tqdm import tqdm\n",
    "from torch.distributions import Categorical\n",
    "\n",
    "import logging\n",
    "logging.getLogger('lightning').setLevel(0)"
   ]
  },
  {
   "cell_type": "code",
   "execution_count": 2,
   "id": "sporting-orientation",
   "metadata": {},
   "outputs": [
    {
     "data": {
      "text/plain": [
       "42"
      ]
     },
     "execution_count": 2,
     "metadata": {},
     "output_type": "execute_result"
    }
   ],
   "source": [
    "pl.seed_everything(42)"
   ]
  },
  {
   "cell_type": "markdown",
   "id": "still-football",
   "metadata": {},
   "source": [
    "## Main part\n",
    "\n",
    "### Training the r_0 neural network for the specific country"
   ]
  },
  {
   "cell_type": "markdown",
   "id": "ranking-still",
   "metadata": {},
   "source": [
    "We need to define the size of the window, in terms of days, for which we want to predict the optimal policy set. In our structure, when a set of policy is decided it must be active for at least one week before changing it, for stability reasons. This is reasonable also looking at the real world."
   ]
  },
  {
   "cell_type": "code",
   "execution_count": 3,
   "id": "aggressive-syndicate",
   "metadata": {},
   "outputs": [],
   "source": [
    "WINDOW_SIZE = 28\n",
    "assert WINDOW_SIZE % 7 == 0"
   ]
  },
  {
   "cell_type": "markdown",
   "id": "fifty-sheriff",
   "metadata": {},
   "source": [
    "Now we need to decide on which country we are going to optimize the policy set. We train the reproduction rate network accordingly."
   ]
  },
  {
   "cell_type": "code",
   "execution_count": 4,
   "id": "daily-field",
   "metadata": {},
   "outputs": [],
   "source": [
    "target_country = 'ITA'\n",
    "data_swissre = pd.read_csv('data/swissre/swissre_data_with_vax.csv', parse_dates=['date']).set_index('date')"
   ]
  },
  {
   "cell_type": "code",
   "execution_count": 5,
   "id": "special-hometown",
   "metadata": {},
   "outputs": [],
   "source": [
    "# Selecting the features\n",
    "with open('config/swissre_features.yaml', 'r', encoding='utf-8') as file:\n",
    "    swissre_features = yaml.load(file, Loader=yaml.FullLoader)\n",
    "    \n",
    "columns_to_use= swissre_features['main'] +\\\n",
    "            swissre_features['demography'] +\\\n",
    "            swissre_features['sanitary'] +\\\n",
    "            swissre_features['economic']['to_use'] +\\\n",
    "            swissre_features['vaccines']['to_use'] +\\\n",
    "            swissre_features['policies']['to_use'] +\\\n",
    "            swissre_features['outcomes']['to_use'] + ['cases']\n",
    "\n",
    "outcome = 'epiforecasts_effective_reproduction_number_median'\n",
    "\n",
    "df = data_swissre[columns_to_use].copy()\n",
    "\n",
    "# Taking the data starting from the 1st of april.\n",
    "df = df[df.index >= '2020-04-01'].sort_index()"
   ]
  },
  {
   "cell_type": "code",
   "execution_count": 6,
   "id": "brave-indian",
   "metadata": {},
   "outputs": [],
   "source": [
    "# Filtering for valid countries: \n",
    "def filter_valid_countries(data, min_ratio):\n",
    "    iso_codes = []\n",
    "    for iso_code in data.iso_code.unique():\n",
    "        data_country = data[data.iso_code == iso_code]['epiforecasts_effective_reproduction_number_median'].dropna()\n",
    "        n_values = data_country.shape[0]\n",
    "\n",
    "    # If rows exist for that country with a valid r_estim value\n",
    "        if n_values > 0:\n",
    "            n_days = (data_country.index[-1] - data_country.index[0]).days + 1\n",
    "            #print(n_days)\n",
    "            ratio = n_values / n_days\n",
    "\n",
    "            if ratio > min_ratio:\n",
    "                iso_codes.append(iso_code)\n",
    "            \n",
    "    return data[data['iso_code'].isin(iso_codes)]\n",
    "\n",
    "df = filter_valid_countries(df, 0.9)"
   ]
  },
  {
   "cell_type": "code",
   "execution_count": 7,
   "id": "appointed-monaco",
   "metadata": {},
   "outputs": [
    {
     "name": "stdout",
     "output_type": "stream",
     "text": [
      "Number of countries: 169\n"
     ]
    }
   ],
   "source": [
    "print(f\"Number of countries: {len(df.iso_code.unique())}\")"
   ]
  },
  {
   "cell_type": "code",
   "execution_count": 8,
   "id": "competitive-means",
   "metadata": {},
   "outputs": [],
   "source": [
    "# Putting NaN where the estimated reproduction number is larger than 4\n",
    "df[outcome] = np.where(df[outcome] >= 4, np.nan, df[outcome])\n",
    "df['r_estim'] = df[outcome]"
   ]
  },
  {
   "cell_type": "code",
   "execution_count": 9,
   "id": "greenhouse-stylus",
   "metadata": {},
   "outputs": [
    {
     "name": "stdout",
     "output_type": "stream",
     "text": [
      "Number of countries: 161\n"
     ]
    }
   ],
   "source": [
    "# retaining only the countries that exceeded 2000 casese\n",
    "iso_codes = list(df[df['cases'] > 2000]['iso_code'].unique())\n",
    "df = df[df['iso_code'].isin(iso_codes)]\n",
    "print(f\"Number of countries: {len(df.iso_code.unique())}\")"
   ]
  },
  {
   "cell_type": "code",
   "execution_count": 10,
   "id": "major-mason",
   "metadata": {},
   "outputs": [],
   "source": [
    "# Final training colums\n",
    "train_cols= swissre_features['demography'] +\\\n",
    "            swissre_features['sanitary'] +\\\n",
    "            swissre_features['economic']['to_use'] +\\\n",
    "            swissre_features['vaccines']['to_use'] +\\\n",
    "            swissre_features['policies']['to_use']\n",
    "\n",
    "final_train_cols = [col for col in train_cols if not df[df['iso_code'] == target_country][col].isnull().all()]\n",
    "final_train_cols = list(set(final_train_cols) - set(['fiscal_measures', 'emergency_investment_in_health_care', 'investment_in_vaccines']))"
   ]
  },
  {
   "cell_type": "code",
   "execution_count": 11,
   "id": "subjective-joseph",
   "metadata": {},
   "outputs": [
    {
     "name": "stdout",
     "output_type": "stream",
     "text": [
      "Training the model...\n",
      "\n"
     ]
    },
    {
     "name": "stderr",
     "output_type": "stream",
     "text": [
      "The dataloader, val dataloader 0, does not have many workers which may be a bottleneck. Consider increasing the value of the `num_workers` argument` (try 8 which is the number of cpus on this machine) in the `DataLoader` init to improve performance.\n",
      "The dataloader, train dataloader, does not have many workers which may be a bottleneck. Consider increasing the value of the `num_workers` argument` (try 8 which is the number of cpus on this machine) in the `DataLoader` init to improve performance.\n"
     ]
    },
    {
     "name": "stdout",
     "output_type": "stream",
     "text": [
      ".................................................................."
     ]
    }
   ],
   "source": [
    "context = Context()\n",
    "pipeline = Pipeline(df, final_train_cols, 'r_estim', target_country, WINDOW_SIZE, context)\n",
    "pipeline.fit_pipeline(save_model=False)"
   ]
  },
  {
   "cell_type": "code",
   "execution_count": 33,
   "id": "unlikely-polymer",
   "metadata": {},
   "outputs": [
    {
     "name": "stdout",
     "output_type": "stream",
     "text": [
      "The mean average error was 0.017135068454383923\n"
     ]
    },
    {
     "data": {
      "image/png": "[encoded data removed]",
      "text/plain": [
       "<Figure size 1200x300 with 1 Axes>"
      ]
     },
     "metadata": {
      "needs_background": "light"
     },
     "output_type": "display_data"
    }
   ],
   "source": [
    "predictions = pipeline.predict()\n",
    "\n",
    "plot = Plot(df, 'r_estim', target_country, save_path='./plots/') #shifted_r_estim\n",
    "plot.plot_results(predictions, show = True)"
   ]
  },
  {
   "cell_type": "code",
   "execution_count": 13,
   "id": "listed-halloween",
   "metadata": {},
   "outputs": [
    {
     "name": "stdout",
     "output_type": "stream",
     "text": [
      "torch.Size([326, 28, 12])\n",
      "torch.Size([326, 47])\n"
     ]
    }
   ],
   "source": [
    "model = pipeline.get_model()\n",
    "print(pipeline.get_data()[1][1].shape)\n",
    "print(pipeline.get_data()[1][0].shape)"
   ]
  },
  {
   "cell_type": "code",
   "execution_count": 14,
   "id": "annoying-dragon",
   "metadata": {},
   "outputs": [
    {
     "data": {
      "text/plain": [
       "['cancel_public_events',\n",
       " 'close_public_transport',\n",
       " 'contact_tracing',\n",
       " 'international_travel_controls',\n",
       " 'public_information_campaigns',\n",
       " 'restrictions_on_gatherings',\n",
       " 'restrictions_on_internal_movement',\n",
       " 'school_closing',\n",
       " 'stay_at_home_requirements',\n",
       " 'testing_policy',\n",
       " 'vaccination_policy',\n",
       " 'workplace_closing']"
      ]
     },
     "execution_count": 14,
     "metadata": {},
     "output_type": "execute_result"
    }
   ],
   "source": [
    "variable_names = pipeline.get_cols()[1]\n",
    "variable_names"
   ]
  },
  {
   "cell_type": "code",
   "execution_count": 15,
   "id": "numeric-blind",
   "metadata": {},
   "outputs": [],
   "source": [
    "# Defining the range of variation for each policy\n",
    "variation_policy_level = [3, 3, 3, 5, 3, 5, 3, 4, 4, 4, 6, 4]"
   ]
  },
  {
   "cell_type": "code",
   "execution_count": 16,
   "id": "weekly-southeast",
   "metadata": {},
   "outputs": [],
   "source": [
    "constant_features= pipeline.get_data()[1][0][-1].numpy()\n",
    "constant_names = pipeline.get_cols()[0]"
   ]
  },
  {
   "cell_type": "markdown",
   "id": "brilliant-point",
   "metadata": {},
   "source": [
    "**Now we take the last four weeks as the first input for our agent.**"
   ]
  },
  {
   "cell_type": "code",
   "execution_count": 23,
   "id": "forced-finding",
   "metadata": {},
   "outputs": [],
   "source": [
    "variable_beginning_features = pipeline.get_data()[1][1][-1].numpy()[::7]\n",
    "initial_state = []\n",
    "for day in variable_beginning_features:\n",
    "    initial_state.append(pipeline.get_denorm_data(variable_names, [day]))\n",
    "initial_state = np.array(initial_state).flatten()"
   ]
  },
  {
   "cell_type": "code",
   "execution_count": 24,
   "id": "organic-jones",
   "metadata": {
    "tags": []
   },
   "outputs": [
    {
     "data": {
      "text/plain": [
       "array([2., 1., 2., 3., 2., 4., 2., 3., 2., 2., 2., 2., 2., 1., 2., 3., 2.,\n",
       "       4., 2., 3., 2., 2., 2., 2., 2., 1., 2., 3., 2., 4., 2., 3., 2., 2.,\n",
       "       2., 3., 2., 1., 2., 3., 2., 4., 2., 3., 2., 2., 2., 3.])"
      ]
     },
     "execution_count": 24,
     "metadata": {},
     "output_type": "execute_result"
    }
   ],
   "source": [
    "initial_state"
   ]
  },
  {
   "cell_type": "code",
   "execution_count": 34,
   "id": "forbidden-entrance",
   "metadata": {},
   "outputs": [
    {
     "data": {
      "text/plain": [
       "0.9847857100020253"
      ]
     },
     "execution_count": 34,
     "metadata": {},
     "output_type": "execute_result"
    }
   ],
   "source": [
    "predictions[-1]"
   ]
  },
  {
   "cell_type": "code",
   "execution_count": 35,
   "id": "touched-bachelor",
   "metadata": {},
   "outputs": [
    {
     "data": {
      "text/plain": [
       "0.9847857100020253"
      ]
     },
     "execution_count": 35,
     "metadata": {},
     "output_type": "execute_result"
    }
   ],
   "source": [
    "pipeline.single_prediction(variable_names, constant_names, np.repeat(initial_state.reshape(4, 12), 7, axis=0), [constant_features], norm_var=True).numpy()[0][0]"
   ]
  },
  {
   "cell_type": "markdown",
   "id": "limited-finish",
   "metadata": {},
   "source": [
    "## Reinforcement learning\n",
    "\n",
    "### Policy gradient"
   ]
  },
  {
   "cell_type": "markdown",
   "id": "raised-surgery",
   "metadata": {},
   "source": [
    "In this section we define the structure of the RL agent. It is based on a policy network with the REINFORCE algorithm by Sutton and Barto."
   ]
  },
  {
   "cell_type": "code",
   "execution_count": 143,
   "id": "medieval-address",
   "metadata": {},
   "outputs": [],
   "source": [
    "class Policy(nn.Module):\n",
    "    def __init__(self, state_space, action_space):\n",
    "        super(Policy, self).__init__(\n",
    "        )\n",
    "        self.__model = nn.Sequential(\n",
    "            nn.Linear(state_space, 128),\n",
    "            nn.SELU(),\n",
    "            nn.Linear(128, action_space),\n",
    "            nn.Softmax(dim=1)\n",
    "        )\n",
    "\n",
    "        self.saved_log_probs = []\n",
    "        self.rewards = []\n",
    "\n",
    "    def forward(self, x):\n",
    "        x = self.__model(x)\n",
    "        return x\n",
    "    \n",
    "class Agent:\n",
    "    def __init__(self, state_space, action_space, discount, learning_rate):\n",
    "        self.__state_space = state_space\n",
    "        self.__action_space = action_space\n",
    "        self.__discount = discount\n",
    "        self.__lr = learning_rate\n",
    "        \n",
    "        self.__model, self.__optimizer = self.__build_network()\n",
    "        \n",
    "        \n",
    "    def __build_network(self):\n",
    "        model = Policy(self.__state_space, self.__action_space)\n",
    "        optimizer = Adam(model.parameters(), lr=self.__lr)\n",
    "        \n",
    "        return model, optimizer\n",
    "    \n",
    "    def select_action(self, state):\n",
    "        state = torch.from_numpy(state).float().unsqueeze(0)\n",
    "        probs = self.__model(state)\n",
    "        m = Categorical(probs)\n",
    "        action = m.sample()\n",
    "        self.__model.saved_log_probs.append(m.log_prob(action))\n",
    "\n",
    "        return action.item()\n",
    "    \n",
    "    def observe_reward(self, reward):\n",
    "        self.__model.rewards.append(reward)\n",
    "    \n",
    "    def finish_episode(self):\n",
    "        R = 0\n",
    "        policy_loss = []\n",
    "        returns = []\n",
    "        for index, r in enumerate(self.__model.rewards[::-1]):\n",
    "            discount = 1\n",
    "            if index % 12 == 0:\n",
    "                discount = self.__discount\n",
    "            R = r + discount * R\n",
    "            returns.insert(0, R)\n",
    "        \n",
    "        returns = torch.tensor(returns)\n",
    "        \n",
    "        for log_prob, R in zip(self.__model.saved_log_probs, returns):\n",
    "            policy_loss.append(-log_prob * R)\n",
    "    \n",
    "        self.__optimizer.zero_grad()\n",
    "        policy_loss = torch.cat(policy_loss).sum()\n",
    "        policy_loss.backward()\n",
    "        self.__optimizer.step()\n",
    "        del self.__model.rewards[:]\n",
    "        del self.__model.saved_log_probs[:]"
   ]
  },
  {
   "cell_type": "markdown",
   "id": "german-arbitration",
   "metadata": {},
   "source": [
    "### Defining the training phase"
   ]
  },
  {
   "cell_type": "code",
   "execution_count": 144,
   "id": "under-printer",
   "metadata": {},
   "outputs": [],
   "source": [
    "def main():\n",
    "    \"\"\"\n",
    "    The number of steps corresponds to the number of weeks that we want to predict\n",
    "    \"\"\"\n",
    "    running_reward = 10    \n",
    "    state_size =  initial_state.shape[0] +1 #The last number is to define which policy the agent is changing, since it can change one policy at a time.\n",
    "    number_of_actions = 6\n",
    "    agent = Agent(state_space=state_size, action_space=number_of_actions, discount=0.99, learning_rate=0.002)\n",
    "    \n",
    "    for i_episode in range(30000):\n",
    "        ep_reward = 0\n",
    "        \n",
    "        # We append the last number which is the number of the action we are changin\n",
    "        current_state = np.append(initial_state, 0)\n",
    "        last_prediction = predictions[-1]\n",
    "        \n",
    "        #print(\"STARTING NEW EPISODE\")\n",
    "        #print(current_state)\n",
    "        \n",
    "        for t in range(int(WINDOW_SIZE / 7)):\n",
    "    \n",
    "            #print(\"STARTING NEW WEEK\")\n",
    "    \n",
    "            # In each step we need to change one policy at a time to avoid action space explosion\n",
    "            next_week_policies = []\n",
    "            for p in range(len(variation_policy_level)):\n",
    "                current_state[-1] = p\n",
    "                action = agent.select_action(current_state)\n",
    "                #action = min(action, variation_policy_level[p]-1)\n",
    "                next_week_policies.append(action) \n",
    "\n",
    "                # We give the agent a reward only at the end of the week\n",
    "                if p == len(variation_policy_level) -1:\n",
    "                    # I need to update the state with last week\n",
    "                    next_state = current_state[:-1] # Excluding the placeholder from the prediction\n",
    "                    next_state = np.roll(next_state, -12)\n",
    "                    next_state[-12:] = np.array(next_week_policies)\n",
    "                    network_input = next_state.reshape(int(WINDOW_SIZE / 7), len(variation_policy_level))\n",
    "                    network_input = np.repeat(network_input, 7, axis=0)  \n",
    "                    prediction = pipeline.single_prediction(variable_names, constant_names, network_input, [constant_features], norm_var=True).numpy()[0][0]\n",
    "                    current_state = np.append(next_state, 0)\n",
    "                    # Reward logic\n",
    "                    #r1 = 1 if last_prediction - prediction > 0 else -1\n",
    "                    #r2 = 1 if prediction < 0 else -1\n",
    "                    #reward = r1+r2\n",
    "                    reward = 1 / prediction\n",
    "                    last_prediction = prediction\n",
    "                else:\n",
    "                    reward = 0\n",
    "                agent.observe_reward(reward)                   \n",
    "                ep_reward += reward\n",
    "            \n",
    "            #print(current_state)\n",
    "            #print(\"TOTAL REWARD: \", ep_reward)\n",
    "            \n",
    "        #print(\"\\n\")\n",
    "                \n",
    "                \n",
    "        running_reward = 0.05 * ep_reward + (1 - 0.05) * running_reward    \n",
    "        agent.finish_episode()    \n",
    "        if i_episode % 10 == 0:\n",
    "            print('Episode {}\\tLast reward: {:.2f}\\tAverage reward: {:.2f}'.format(\n",
    "            i_episode, ep_reward, running_reward))\n",
    "        if i_episode % 50 == 0:\n",
    "            print('State {}'.format(current_state))"
   ]
  },
  {
   "cell_type": "code",
   "execution_count": 145,
   "id": "confident-culture",
   "metadata": {},
   "outputs": [
    {
     "name": "stdout",
     "output_type": "stream",
     "text": [
      "Episode 0\tLast reward: 4.58\tAverage reward: 9.73\n",
      "State [0. 0. 4. 1. 0. 1. 0. 1. 0. 4. 2. 5. 2. 2. 4. 4. 1. 5. 1. 3. 4. 5. 5. 3.\n",
      " 1. 5. 0. 0. 0. 5. 1. 3. 5. 0. 3. 3. 4. 5. 3. 4. 0. 1. 4. 2. 1. 0. 4. 1.\n",
      " 0.]\n",
      "Episode 10\tLast reward: 4.43\tAverage reward: 7.51\n",
      "Episode 20\tLast reward: 4.27\tAverage reward: 6.19\n",
      "Episode 30\tLast reward: 4.14\tAverage reward: 5.36\n",
      "Episode 40\tLast reward: 4.18\tAverage reward: 4.88\n",
      "Episode 50\tLast reward: 4.05\tAverage reward: 4.57\n",
      "State [0. 0. 0. 0. 0. 0. 0. 0. 0. 0. 0. 0. 0. 0. 0. 0. 0. 0. 0. 0. 0. 0. 0. 0.\n",
      " 0. 0. 0. 0. 0. 0. 0. 0. 4. 0. 0. 0. 0. 0. 0. 0. 0. 4. 0. 0. 0. 0. 0. 0.\n",
      " 0.]\n",
      "Episode 60\tLast reward: 4.19\tAverage reward: 4.38\n",
      "Episode 70\tLast reward: 4.05\tAverage reward: 4.30\n",
      "Episode 80\tLast reward: 4.19\tAverage reward: 4.23\n",
      "Episode 90\tLast reward: 4.10\tAverage reward: 4.17\n",
      "Episode 100\tLast reward: 4.11\tAverage reward: 4.14\n",
      "State [0. 0. 0. 0. 0. 0. 0. 0. 0. 0. 0. 0. 0. 0. 0. 0. 0. 0. 0. 0. 0. 0. 0. 0.\n",
      " 0. 0. 0. 0. 4. 0. 0. 0. 0. 0. 0. 0. 0. 0. 3. 1. 0. 0. 2. 1. 0. 0. 0. 0.\n",
      " 0.]\n",
      "Episode 110\tLast reward: 4.05\tAverage reward: 4.11\n",
      "Episode 120\tLast reward: 4.10\tAverage reward: 4.11\n",
      "Episode 130\tLast reward: 4.20\tAverage reward: 4.11\n",
      "Episode 140\tLast reward: 4.23\tAverage reward: 4.15\n",
      "Episode 150\tLast reward: 4.02\tAverage reward: 4.14\n",
      "State [0. 0. 0. 0. 0. 0. 0. 0. 0. 0. 0. 0. 0. 0. 0. 0. 0. 0. 0. 0. 0. 0. 0. 0.\n",
      " 4. 0. 0. 0. 0. 0. 0. 0. 1. 2. 0. 0. 2. 2. 0. 4. 1. 1. 0. 0. 4. 0. 1. 0.\n",
      " 0.]\n",
      "Episode 160\tLast reward: 4.08\tAverage reward: 4.13\n",
      "Episode 170\tLast reward: 3.91\tAverage reward: 4.11\n",
      "Episode 180\tLast reward: 4.07\tAverage reward: 4.10\n",
      "Episode 190\tLast reward: 4.13\tAverage reward: 4.09\n",
      "Episode 200\tLast reward: 4.11\tAverage reward: 4.09\n",
      "State [0. 0. 0. 0. 0. 0. 0. 0. 0. 0. 0. 0. 0. 0. 0. 0. 0. 0. 0. 0. 0. 0. 0. 0.\n",
      " 0. 0. 0. 0. 0. 0. 0. 0. 0. 0. 0. 0. 0. 0. 2. 0. 0. 0. 2. 0. 0. 0. 0. 0.\n",
      " 0.]\n",
      "Episode 210\tLast reward: 4.08\tAverage reward: 4.09\n",
      "Episode 220\tLast reward: 4.09\tAverage reward: 4.09\n",
      "Episode 230\tLast reward: 4.08\tAverage reward: 4.09\n",
      "Episode 240\tLast reward: 4.08\tAverage reward: 4.09\n",
      "Episode 250\tLast reward: 4.17\tAverage reward: 4.09\n",
      "State [0. 0. 0. 0. 0. 0. 0. 0. 0. 0. 0. 0. 0. 0. 0. 0. 0. 0. 0. 0. 0. 0. 0. 0.\n",
      " 0. 0. 0. 0. 0. 0. 0. 0. 0. 0. 0. 0. 0. 0. 0. 0. 0. 0. 0. 4. 0. 0. 2. 0.\n",
      " 0.]\n",
      "Episode 260\tLast reward: 4.13\tAverage reward: 4.09\n",
      "Episode 270\tLast reward: 4.12\tAverage reward: 4.08\n",
      "Episode 280\tLast reward: 3.96\tAverage reward: 4.09\n",
      "Episode 290\tLast reward: 4.10\tAverage reward: 4.08\n",
      "Episode 300\tLast reward: 4.12\tAverage reward: 4.07\n",
      "State [0. 0. 0. 0. 0. 0. 0. 0. 0. 0. 0. 0. 0. 0. 0. 0. 0. 0. 0. 0. 0. 0. 0. 0.\n",
      " 0. 0. 0. 0. 0. 0. 0. 0. 0. 0. 2. 0. 2. 2. 4. 2. 2. 2. 2. 2. 2. 2. 2. 2.\n",
      " 0.]\n",
      "Episode 310\tLast reward: 4.09\tAverage reward: 4.04\n",
      "Episode 320\tLast reward: 4.05\tAverage reward: 4.03\n",
      "Episode 330\tLast reward: 3.96\tAverage reward: 4.00\n",
      "Episode 340\tLast reward: 3.34\tAverage reward: 3.77\n",
      "Episode 350\tLast reward: 3.34\tAverage reward: 3.60\n",
      "State [2. 2. 2. 2. 2. 2. 2. 2. 2. 2. 2. 2. 2. 2. 2. 2. 2. 2. 2. 2. 2. 2. 2. 2.\n",
      " 2. 2. 2. 2. 2. 2. 2. 2. 2. 2. 2. 2. 2. 2. 2. 2. 2. 2. 2. 2. 2. 2. 2. 2.\n",
      " 0.]\n",
      "Episode 360\tLast reward: 3.34\tAverage reward: 3.49\n",
      "Episode 370\tLast reward: 3.34\tAverage reward: 3.43\n",
      "Episode 380\tLast reward: 3.34\tAverage reward: 3.40\n",
      "Episode 390\tLast reward: 3.34\tAverage reward: 3.37\n",
      "Episode 400\tLast reward: 3.34\tAverage reward: 3.36\n",
      "State [2. 2. 2. 2. 2. 2. 2. 2. 2. 2. 2. 2. 2. 2. 2. 2. 2. 2. 2. 2. 2. 2. 2. 2.\n",
      " 2. 2. 2. 2. 2. 2. 2. 2. 2. 2. 2. 2. 2. 2. 2. 2. 2. 2. 2. 2. 2. 2. 2. 2.\n",
      " 0.]\n",
      "Episode 410\tLast reward: 3.34\tAverage reward: 3.35\n",
      "Episode 420\tLast reward: 3.34\tAverage reward: 3.35\n",
      "Episode 430\tLast reward: 3.34\tAverage reward: 3.35\n",
      "Episode 440\tLast reward: 3.34\tAverage reward: 3.34\n",
      "Episode 450\tLast reward: 3.34\tAverage reward: 3.34\n",
      "State [2. 2. 2. 2. 2. 2. 2. 2. 2. 2. 2. 2. 2. 2. 2. 2. 2. 2. 2. 2. 2. 2. 2. 2.\n",
      " 2. 2. 2. 2. 2. 2. 2. 2. 2. 2. 2. 2. 2. 2. 2. 2. 2. 2. 2. 2. 2. 2. 2. 2.\n",
      " 0.]\n",
      "Episode 460\tLast reward: 3.34\tAverage reward: 3.34\n",
      "Episode 470\tLast reward: 3.34\tAverage reward: 3.34\n",
      "Episode 480\tLast reward: 3.34\tAverage reward: 3.34\n",
      "Episode 490\tLast reward: 3.34\tAverage reward: 3.34\n",
      "Episode 500\tLast reward: 3.34\tAverage reward: 3.34\n",
      "State [2. 2. 2. 2. 2. 2. 2. 2. 2. 2. 2. 2. 2. 2. 2. 2. 2. 2. 2. 2. 2. 2. 2. 2.\n",
      " 2. 2. 2. 2. 2. 2. 2. 2. 2. 2. 2. 2. 2. 2. 2. 2. 2. 2. 2. 2. 2. 2. 2. 2.\n",
      " 0.]\n",
      "Episode 510\tLast reward: 3.34\tAverage reward: 3.34\n",
      "Episode 520\tLast reward: 3.34\tAverage reward: 3.34\n",
      "Episode 530\tLast reward: 3.34\tAverage reward: 3.34\n",
      "Episode 540\tLast reward: 3.34\tAverage reward: 3.34\n",
      "Episode 550\tLast reward: 3.34\tAverage reward: 3.34\n",
      "State [2. 2. 2. 2. 2. 2. 2. 2. 2. 2. 2. 2. 2. 2. 2. 2. 2. 2. 2. 2. 2. 2. 2. 2.\n",
      " 2. 2. 2. 2. 2. 2. 2. 2. 2. 2. 2. 2. 2. 2. 2. 2. 2. 2. 2. 2. 2. 2. 2. 2.\n",
      " 0.]\n",
      "Episode 560\tLast reward: 3.34\tAverage reward: 3.34\n",
      "Episode 570\tLast reward: 3.34\tAverage reward: 3.34\n",
      "Episode 580\tLast reward: 3.34\tAverage reward: 3.34\n",
      "Episode 590\tLast reward: 3.34\tAverage reward: 3.34\n",
      "Episode 600\tLast reward: 3.34\tAverage reward: 3.34\n",
      "State [2. 2. 2. 2. 2. 2. 2. 2. 2. 2. 2. 2. 2. 2. 2. 2. 2. 2. 2. 2. 2. 2. 2. 2.\n",
      " 2. 2. 2. 2. 2. 2. 2. 2. 2. 2. 2. 2. 2. 2. 2. 2. 2. 2. 2. 2. 2. 2. 2. 2.\n",
      " 0.]\n",
      "Episode 610\tLast reward: 3.34\tAverage reward: 3.34\n",
      "Episode 620\tLast reward: 3.34\tAverage reward: 3.34\n",
      "Episode 630\tLast reward: 3.34\tAverage reward: 3.34\n",
      "Episode 640\tLast reward: 3.34\tAverage reward: 3.34\n",
      "Episode 650\tLast reward: 3.34\tAverage reward: 3.34\n",
      "State [2. 2. 2. 2. 2. 2. 2. 2. 2. 2. 2. 2. 2. 2. 2. 2. 2. 2. 2. 2. 2. 2. 2. 2.\n",
      " 2. 2. 2. 2. 2. 2. 2. 2. 2. 2. 2. 2. 2. 2. 2. 2. 2. 2. 2. 2. 2. 2. 2. 2.\n",
      " 0.]\n",
      "Episode 660\tLast reward: 3.34\tAverage reward: 3.34\n",
      "Episode 670\tLast reward: 3.34\tAverage reward: 3.34\n",
      "Episode 680\tLast reward: 3.34\tAverage reward: 3.34\n",
      "Episode 690\tLast reward: 3.34\tAverage reward: 3.34\n",
      "Episode 700\tLast reward: 3.34\tAverage reward: 3.34\n",
      "State [2. 2. 2. 2. 2. 2. 2. 2. 2. 2. 2. 2. 2. 2. 2. 2. 2. 2. 2. 2. 2. 2. 2. 2.\n",
      " 2. 2. 2. 2. 2. 2. 2. 2. 2. 2. 2. 2. 2. 2. 2. 2. 2. 2. 2. 2. 2. 2. 2. 2.\n",
      " 0.]\n",
      "Episode 710\tLast reward: 3.34\tAverage reward: 3.34\n",
      "Episode 720\tLast reward: 3.34\tAverage reward: 3.34\n",
      "Episode 730\tLast reward: 3.34\tAverage reward: 3.34\n",
      "Episode 740\tLast reward: 3.34\tAverage reward: 3.34\n",
      "Episode 750\tLast reward: 3.34\tAverage reward: 3.34\n",
      "State [2. 2. 2. 2. 2. 2. 2. 2. 2. 2. 2. 2. 2. 2. 2. 2. 2. 2. 2. 2. 2. 2. 2. 2.\n",
      " 2. 2. 2. 2. 2. 2. 2. 2. 2. 2. 2. 2. 2. 2. 2. 2. 2. 2. 2. 2. 2. 2. 2. 2.\n",
      " 0.]\n",
      "Episode 760\tLast reward: 3.34\tAverage reward: 3.34\n",
      "Episode 770\tLast reward: 3.34\tAverage reward: 3.34\n",
      "Episode 780\tLast reward: 3.34\tAverage reward: 3.34\n",
      "Episode 790\tLast reward: 3.34\tAverage reward: 3.34\n",
      "Episode 800\tLast reward: 3.34\tAverage reward: 3.34\n",
      "State [2. 2. 2. 2. 2. 2. 2. 2. 2. 2. 2. 2. 2. 2. 2. 2. 2. 2. 2. 2. 2. 2. 2. 2.\n",
      " 2. 2. 2. 2. 2. 2. 2. 2. 2. 2. 2. 2. 2. 2. 2. 2. 2. 2. 2. 2. 2. 2. 2. 2.\n",
      " 0.]\n",
      "Episode 810\tLast reward: 3.34\tAverage reward: 3.34\n",
      "Episode 820\tLast reward: 3.34\tAverage reward: 3.34\n",
      "Episode 830\tLast reward: 3.34\tAverage reward: 3.34\n",
      "Episode 840\tLast reward: 3.34\tAverage reward: 3.34\n",
      "Episode 850\tLast reward: 3.34\tAverage reward: 3.34\n",
      "State [2. 2. 2. 2. 2. 2. 2. 2. 2. 2. 2. 2. 2. 2. 2. 2. 2. 2. 2. 2. 2. 2. 2. 2.\n",
      " 2. 2. 2. 2. 2. 2. 2. 2. 2. 2. 2. 2. 2. 2. 2. 2. 2. 2. 2. 2. 2. 2. 2. 2.\n",
      " 0.]\n",
      "Episode 860\tLast reward: 3.34\tAverage reward: 3.34\n",
      "Episode 870\tLast reward: 3.34\tAverage reward: 3.34\n",
      "Episode 880\tLast reward: 3.34\tAverage reward: 3.34\n",
      "Episode 890\tLast reward: 3.34\tAverage reward: 3.34\n",
      "Episode 900\tLast reward: 3.34\tAverage reward: 3.34\n",
      "State [2. 2. 2. 2. 2. 2. 2. 2. 2. 2. 2. 2. 2. 2. 2. 2. 2. 2. 2. 2. 2. 2. 2. 2.\n",
      " 2. 2. 2. 2. 2. 2. 2. 2. 2. 2. 2. 2. 2. 2. 2. 2. 2. 2. 2. 2. 2. 2. 2. 2.\n",
      " 0.]\n",
      "Episode 910\tLast reward: 3.34\tAverage reward: 3.34\n",
      "Episode 920\tLast reward: 3.34\tAverage reward: 3.34\n",
      "Episode 930\tLast reward: 3.34\tAverage reward: 3.34\n",
      "Episode 940\tLast reward: 3.34\tAverage reward: 3.34\n",
      "Episode 950\tLast reward: 3.34\tAverage reward: 3.34\n",
      "State [2. 2. 2. 2. 2. 2. 2. 2. 2. 2. 2. 2. 2. 2. 2. 2. 2. 2. 2. 2. 2. 2. 2. 2.\n",
      " 2. 2. 2. 2. 2. 2. 2. 2. 2. 2. 2. 2. 2. 2. 2. 2. 2. 2. 2. 2. 2. 2. 2. 2.\n",
      " 0.]\n",
      "Episode 960\tLast reward: 3.34\tAverage reward: 3.34\n",
      "Episode 970\tLast reward: 3.34\tAverage reward: 3.34\n",
      "Episode 980\tLast reward: 3.34\tAverage reward: 3.34\n",
      "Episode 990\tLast reward: 3.34\tAverage reward: 3.34\n",
      "Episode 1000\tLast reward: 3.34\tAverage reward: 3.34\n",
      "State [2. 2. 2. 2. 2. 2. 2. 2. 2. 2. 2. 2. 2. 2. 2. 2. 2. 2. 2. 2. 2. 2. 2. 2.\n",
      " 2. 2. 2. 2. 2. 2. 2. 2. 2. 2. 2. 2. 2. 2. 2. 2. 2. 2. 2. 2. 2. 2. 2. 2.\n",
      " 0.]\n",
      "Episode 1010\tLast reward: 3.34\tAverage reward: 3.34\n",
      "Episode 1020\tLast reward: 3.34\tAverage reward: 3.34\n",
      "Episode 1030\tLast reward: 3.34\tAverage reward: 3.34\n",
      "Episode 1040\tLast reward: 3.34\tAverage reward: 3.34\n",
      "Episode 1050\tLast reward: 3.34\tAverage reward: 3.34\n",
      "State [2. 2. 2. 2. 2. 2. 2. 2. 2. 2. 2. 2. 2. 2. 2. 2. 2. 2. 2. 2. 2. 2. 2. 2.\n",
      " 2. 2. 2. 2. 2. 2. 2. 2. 2. 2. 2. 2. 2. 2. 2. 2. 2. 2. 2. 2. 2. 2. 2. 2.\n",
      " 0.]\n",
      "Episode 1060\tLast reward: 3.34\tAverage reward: 3.34\n",
      "Episode 1070\tLast reward: 3.34\tAverage reward: 3.34\n",
      "Episode 1080\tLast reward: 3.34\tAverage reward: 3.34\n",
      "Episode 1090\tLast reward: 3.34\tAverage reward: 3.34\n",
      "Episode 1100\tLast reward: 3.34\tAverage reward: 3.34\n",
      "State [2. 2. 2. 2. 2. 2. 2. 2. 2. 2. 2. 2. 2. 2. 2. 2. 2. 2. 2. 2. 2. 2. 2. 2.\n",
      " 2. 2. 2. 2. 2. 2. 2. 2. 2. 2. 2. 2. 2. 2. 2. 2. 2. 2. 2. 2. 2. 2. 2. 2.\n",
      " 0.]\n",
      "Episode 1110\tLast reward: 3.34\tAverage reward: 3.34\n",
      "Episode 1120\tLast reward: 3.34\tAverage reward: 3.34\n",
      "Episode 1130\tLast reward: 3.34\tAverage reward: 3.34\n",
      "Episode 1140\tLast reward: 3.34\tAverage reward: 3.34\n",
      "Episode 1150\tLast reward: 3.34\tAverage reward: 3.34\n",
      "State [2. 2. 2. 2. 2. 2. 2. 2. 2. 2. 2. 2. 2. 2. 2. 2. 2. 2. 2. 2. 2. 2. 2. 2.\n",
      " 2. 2. 2. 2. 2. 2. 2. 2. 2. 2. 2. 2. 2. 2. 2. 2. 2. 2. 2. 2. 2. 2. 2. 2.\n",
      " 0.]\n",
      "Episode 1160\tLast reward: 3.34\tAverage reward: 3.34\n",
      "Episode 1170\tLast reward: 3.34\tAverage reward: 3.34\n",
      "Episode 1180\tLast reward: 3.34\tAverage reward: 3.34\n",
      "Episode 1190\tLast reward: 3.34\tAverage reward: 3.34\n",
      "Episode 1200\tLast reward: 3.34\tAverage reward: 3.34\n",
      "State [2. 2. 2. 2. 2. 2. 2. 2. 2. 2. 2. 2. 2. 2. 2. 2. 2. 2. 2. 2. 2. 2. 2. 2.\n",
      " 2. 2. 2. 2. 2. 2. 2. 2. 2. 2. 2. 2. 2. 2. 2. 2. 2. 2. 2. 2. 2. 2. 2. 2.\n",
      " 0.]\n",
      "Episode 1210\tLast reward: 3.34\tAverage reward: 3.34\n",
      "Episode 1220\tLast reward: 3.34\tAverage reward: 3.34\n",
      "Episode 1230\tLast reward: 3.34\tAverage reward: 3.34\n",
      "Episode 1240\tLast reward: 3.34\tAverage reward: 3.34\n",
      "Episode 1250\tLast reward: 3.34\tAverage reward: 3.34\n",
      "State [2. 2. 2. 2. 2. 2. 2. 2. 2. 2. 2. 2. 2. 2. 2. 2. 2. 2. 2. 2. 2. 2. 2. 2.\n",
      " 2. 2. 2. 2. 2. 2. 2. 2. 2. 2. 2. 2. 2. 2. 2. 2. 2. 2. 2. 2. 2. 2. 2. 2.\n",
      " 0.]\n",
      "Episode 1260\tLast reward: 3.34\tAverage reward: 3.34\n",
      "Episode 1270\tLast reward: 3.34\tAverage reward: 3.34\n",
      "Episode 1280\tLast reward: 3.34\tAverage reward: 3.34\n",
      "Episode 1290\tLast reward: 3.34\tAverage reward: 3.34\n",
      "Episode 1300\tLast reward: 3.34\tAverage reward: 3.34\n",
      "State [2. 2. 2. 2. 2. 2. 2. 2. 2. 2. 2. 2. 2. 2. 2. 2. 2. 2. 2. 2. 2. 2. 2. 2.\n",
      " 2. 2. 2. 2. 2. 2. 2. 2. 2. 2. 2. 2. 2. 2. 2. 2. 2. 2. 2. 2. 2. 2. 2. 2.\n",
      " 0.]\n",
      "Episode 1310\tLast reward: 3.34\tAverage reward: 3.34\n",
      "Episode 1320\tLast reward: 3.34\tAverage reward: 3.34\n",
      "Episode 1330\tLast reward: 3.34\tAverage reward: 3.34\n",
      "Episode 1340\tLast reward: 3.34\tAverage reward: 3.34\n",
      "Episode 1350\tLast reward: 3.34\tAverage reward: 3.34\n",
      "State [2. 2. 2. 2. 2. 2. 2. 2. 2. 2. 2. 2. 2. 2. 2. 2. 2. 2. 2. 2. 2. 2. 2. 2.\n",
      " 2. 2. 2. 2. 2. 2. 2. 2. 2. 2. 2. 2. 2. 2. 2. 2. 2. 2. 2. 2. 2. 2. 2. 2.\n",
      " 0.]\n",
      "Episode 1360\tLast reward: 3.34\tAverage reward: 3.34\n",
      "Episode 1370\tLast reward: 3.34\tAverage reward: 3.34\n",
      "Episode 1380\tLast reward: 3.34\tAverage reward: 3.34\n",
      "Episode 1390\tLast reward: 3.34\tAverage reward: 3.34\n",
      "Episode 1400\tLast reward: 3.34\tAverage reward: 3.34\n",
      "State [2. 2. 2. 2. 2. 2. 2. 2. 2. 2. 2. 2. 2. 2. 2. 2. 2. 2. 2. 2. 2. 2. 2. 2.\n",
      " 2. 2. 2. 2. 2. 2. 2. 2. 2. 2. 2. 2. 2. 2. 2. 2. 2. 2. 2. 2. 2. 2. 2. 2.\n",
      " 0.]\n",
      "Episode 1410\tLast reward: 3.34\tAverage reward: 3.34\n",
      "Episode 1420\tLast reward: 3.34\tAverage reward: 3.34\n",
      "Episode 1430\tLast reward: 3.34\tAverage reward: 3.34\n",
      "Episode 1440\tLast reward: 3.34\tAverage reward: 3.34\n",
      "Episode 1450\tLast reward: 3.34\tAverage reward: 3.34\n",
      "State [2. 2. 2. 2. 2. 2. 2. 2. 2. 2. 2. 2. 2. 2. 2. 2. 2. 2. 2. 2. 2. 2. 2. 2.\n",
      " 2. 2. 2. 2. 2. 2. 2. 2. 2. 2. 2. 2. 2. 2. 2. 2. 2. 2. 2. 2. 2. 2. 2. 2.\n",
      " 0.]\n",
      "Episode 1460\tLast reward: 3.34\tAverage reward: 3.34\n",
      "Episode 1470\tLast reward: 3.34\tAverage reward: 3.34\n",
      "Episode 1480\tLast reward: 3.34\tAverage reward: 3.34\n",
      "Episode 1490\tLast reward: 3.34\tAverage reward: 3.34\n",
      "Episode 1500\tLast reward: 3.34\tAverage reward: 3.34\n",
      "State [2. 2. 2. 2. 2. 2. 2. 2. 2. 2. 2. 2. 2. 2. 2. 2. 2. 2. 2. 2. 2. 2. 2. 2.\n",
      " 2. 2. 2. 2. 2. 2. 2. 2. 2. 2. 2. 2. 2. 2. 2. 2. 2. 2. 2. 2. 2. 2. 2. 2.\n",
      " 0.]\n",
      "Episode 1510\tLast reward: 3.34\tAverage reward: 3.34\n",
      "Episode 1520\tLast reward: 3.34\tAverage reward: 3.34\n",
      "Episode 1530\tLast reward: 3.34\tAverage reward: 3.34\n",
      "Episode 1540\tLast reward: 3.34\tAverage reward: 3.34\n",
      "Episode 1550\tLast reward: 3.34\tAverage reward: 3.34\n",
      "State [2. 2. 2. 2. 2. 2. 2. 2. 2. 2. 2. 2. 2. 2. 2. 2. 2. 2. 2. 2. 2. 2. 2. 2.\n",
      " 2. 2. 2. 2. 2. 2. 2. 2. 2. 2. 2. 2. 2. 2. 2. 2. 2. 2. 2. 2. 2. 2. 2. 2.\n",
      " 0.]\n",
      "Episode 1560\tLast reward: 3.34\tAverage reward: 3.34\n",
      "Episode 1570\tLast reward: 3.34\tAverage reward: 3.34\n",
      "Episode 1580\tLast reward: 3.34\tAverage reward: 3.34\n",
      "Episode 1590\tLast reward: 3.34\tAverage reward: 3.34\n",
      "Episode 1600\tLast reward: 3.34\tAverage reward: 3.34\n",
      "State [2. 2. 2. 2. 2. 2. 2. 2. 2. 2. 2. 2. 2. 2. 2. 2. 2. 2. 2. 2. 2. 2. 2. 2.\n",
      " 2. 2. 2. 2. 2. 2. 2. 2. 2. 2. 2. 2. 2. 2. 2. 2. 2. 2. 2. 2. 2. 2. 2. 2.\n",
      " 0.]\n",
      "Episode 1610\tLast reward: 3.34\tAverage reward: 3.34\n",
      "Episode 1620\tLast reward: 3.34\tAverage reward: 3.34\n",
      "Episode 1630\tLast reward: 3.34\tAverage reward: 3.34\n",
      "Episode 1640\tLast reward: 3.34\tAverage reward: 3.34\n",
      "Episode 1650\tLast reward: 3.34\tAverage reward: 3.34\n",
      "State [2. 2. 2. 2. 2. 2. 2. 2. 2. 2. 2. 2. 2. 2. 2. 2. 2. 2. 2. 2. 2. 2. 2. 2.\n",
      " 2. 2. 2. 2. 2. 2. 2. 2. 2. 2. 2. 2. 2. 2. 2. 2. 2. 2. 2. 2. 2. 2. 2. 2.\n",
      " 0.]\n",
      "Episode 1660\tLast reward: 3.34\tAverage reward: 3.34\n",
      "Episode 1670\tLast reward: 3.34\tAverage reward: 3.34\n",
      "Episode 1680\tLast reward: 3.34\tAverage reward: 3.34\n",
      "Episode 1690\tLast reward: 3.34\tAverage reward: 3.34\n",
      "Episode 1700\tLast reward: 3.34\tAverage reward: 3.34\n",
      "State [2. 2. 2. 2. 2. 2. 2. 2. 2. 2. 2. 2. 2. 2. 2. 2. 2. 2. 2. 2. 2. 2. 2. 2.\n",
      " 2. 2. 2. 2. 2. 2. 2. 2. 2. 2. 2. 2. 2. 2. 2. 2. 2. 2. 2. 2. 2. 2. 2. 2.\n",
      " 0.]\n",
      "Episode 1710\tLast reward: 3.34\tAverage reward: 3.34\n",
      "Episode 1720\tLast reward: 3.34\tAverage reward: 3.34\n",
      "Episode 1730\tLast reward: 3.34\tAverage reward: 3.34\n",
      "Episode 1740\tLast reward: 3.34\tAverage reward: 3.34\n"
     ]
    },
    {
     "ename": "KeyboardInterrupt",
     "evalue": "",
     "output_type": "error",
     "traceback": [
      "\u001b[0;31m---------------------------------------------------------------------------\u001b[0m",
      "\u001b[0;31mKeyboardInterrupt\u001b[0m                         Traceback (most recent call last)",
      "\u001b[0;32m<ipython-input-145-263240bbee7e>\u001b[0m in \u001b[0;36m<module>\u001b[0;34m\u001b[0m\n\u001b[0;32m----> 1\u001b[0;31m \u001b[0mmain\u001b[0m\u001b[0;34m(\u001b[0m\u001b[0;34m)\u001b[0m\u001b[0;34m\u001b[0m\u001b[0;34m\u001b[0m\u001b[0m\n\u001b[0m",
      "\u001b[0;32m<ipython-input-144-dfcc40d30fbc>\u001b[0m in \u001b[0;36mmain\u001b[0;34m()\u001b[0m\n\u001b[1;32m     58\u001b[0m \u001b[0;34m\u001b[0m\u001b[0m\n\u001b[1;32m     59\u001b[0m         \u001b[0mrunning_reward\u001b[0m \u001b[0;34m=\u001b[0m \u001b[0;36m0.05\u001b[0m \u001b[0;34m*\u001b[0m \u001b[0mep_reward\u001b[0m \u001b[0;34m+\u001b[0m \u001b[0;34m(\u001b[0m\u001b[0;36m1\u001b[0m \u001b[0;34m-\u001b[0m \u001b[0;36m0.05\u001b[0m\u001b[0;34m)\u001b[0m \u001b[0;34m*\u001b[0m \u001b[0mrunning_reward\u001b[0m\u001b[0;34m\u001b[0m\u001b[0;34m\u001b[0m\u001b[0m\n\u001b[0;32m---> 60\u001b[0;31m         \u001b[0magent\u001b[0m\u001b[0;34m.\u001b[0m\u001b[0mfinish_episode\u001b[0m\u001b[0;34m(\u001b[0m\u001b[0;34m)\u001b[0m\u001b[0;34m\u001b[0m\u001b[0;34m\u001b[0m\u001b[0m\n\u001b[0m\u001b[1;32m     61\u001b[0m         \u001b[0;32mif\u001b[0m \u001b[0mi_episode\u001b[0m \u001b[0;34m%\u001b[0m \u001b[0;36m10\u001b[0m \u001b[0;34m==\u001b[0m \u001b[0;36m0\u001b[0m\u001b[0;34m:\u001b[0m\u001b[0;34m\u001b[0m\u001b[0;34m\u001b[0m\u001b[0m\n\u001b[1;32m     62\u001b[0m             print('Episode {}\\tLast reward: {:.2f}\\tAverage reward: {:.2f}'.format(\n",
      "\u001b[0;32m<ipython-input-143-70c1b5f628f4>\u001b[0m in \u001b[0;36mfinish_episode\u001b[0;34m(self)\u001b[0m\n\u001b[1;32m     64\u001b[0m         \u001b[0mpolicy_loss\u001b[0m \u001b[0;34m=\u001b[0m \u001b[0mtorch\u001b[0m\u001b[0;34m.\u001b[0m\u001b[0mcat\u001b[0m\u001b[0;34m(\u001b[0m\u001b[0mpolicy_loss\u001b[0m\u001b[0;34m)\u001b[0m\u001b[0;34m.\u001b[0m\u001b[0msum\u001b[0m\u001b[0;34m(\u001b[0m\u001b[0;34m)\u001b[0m\u001b[0;34m\u001b[0m\u001b[0;34m\u001b[0m\u001b[0m\n\u001b[1;32m     65\u001b[0m         \u001b[0mpolicy_loss\u001b[0m\u001b[0;34m.\u001b[0m\u001b[0mbackward\u001b[0m\u001b[0;34m(\u001b[0m\u001b[0;34m)\u001b[0m\u001b[0;34m\u001b[0m\u001b[0;34m\u001b[0m\u001b[0m\n\u001b[0;32m---> 66\u001b[0;31m         \u001b[0mself\u001b[0m\u001b[0;34m.\u001b[0m\u001b[0m__optimizer\u001b[0m\u001b[0;34m.\u001b[0m\u001b[0mstep\u001b[0m\u001b[0;34m(\u001b[0m\u001b[0;34m)\u001b[0m\u001b[0;34m\u001b[0m\u001b[0;34m\u001b[0m\u001b[0m\n\u001b[0m\u001b[1;32m     67\u001b[0m         \u001b[0;32mdel\u001b[0m \u001b[0mself\u001b[0m\u001b[0;34m.\u001b[0m\u001b[0m__model\u001b[0m\u001b[0;34m.\u001b[0m\u001b[0mrewards\u001b[0m\u001b[0;34m[\u001b[0m\u001b[0;34m:\u001b[0m\u001b[0;34m]\u001b[0m\u001b[0;34m\u001b[0m\u001b[0;34m\u001b[0m\u001b[0m\n\u001b[1;32m     68\u001b[0m         \u001b[0;32mdel\u001b[0m \u001b[0mself\u001b[0m\u001b[0;34m.\u001b[0m\u001b[0m__model\u001b[0m\u001b[0;34m.\u001b[0m\u001b[0msaved_log_probs\u001b[0m\u001b[0;34m[\u001b[0m\u001b[0;34m:\u001b[0m\u001b[0;34m]\u001b[0m\u001b[0;34m\u001b[0m\u001b[0;34m\u001b[0m\u001b[0m\n",
      "\u001b[0;32m~/miniforge3/envs/pytorch_env/lib/python3.8/site-packages/torch/optim/optimizer.py\u001b[0m in \u001b[0;36mwrapper\u001b[0;34m(*args, **kwargs)\u001b[0m\n\u001b[1;32m     87\u001b[0m                 \u001b[0mprofile_name\u001b[0m \u001b[0;34m=\u001b[0m \u001b[0;34m\"Optimizer.step#{}.step\"\u001b[0m\u001b[0;34m.\u001b[0m\u001b[0mformat\u001b[0m\u001b[0;34m(\u001b[0m\u001b[0mobj\u001b[0m\u001b[0;34m.\u001b[0m\u001b[0m__class__\u001b[0m\u001b[0;34m.\u001b[0m\u001b[0m__name__\u001b[0m\u001b[0;34m)\u001b[0m\u001b[0;34m\u001b[0m\u001b[0;34m\u001b[0m\u001b[0m\n\u001b[1;32m     88\u001b[0m                 \u001b[0;32mwith\u001b[0m \u001b[0mtorch\u001b[0m\u001b[0;34m.\u001b[0m\u001b[0mautograd\u001b[0m\u001b[0;34m.\u001b[0m\u001b[0mprofiler\u001b[0m\u001b[0;34m.\u001b[0m\u001b[0mrecord_function\u001b[0m\u001b[0;34m(\u001b[0m\u001b[0mprofile_name\u001b[0m\u001b[0;34m)\u001b[0m\u001b[0;34m:\u001b[0m\u001b[0;34m\u001b[0m\u001b[0;34m\u001b[0m\u001b[0m\n\u001b[0;32m---> 89\u001b[0;31m                     \u001b[0;32mreturn\u001b[0m \u001b[0mfunc\u001b[0m\u001b[0;34m(\u001b[0m\u001b[0;34m*\u001b[0m\u001b[0margs\u001b[0m\u001b[0;34m,\u001b[0m \u001b[0;34m**\u001b[0m\u001b[0mkwargs\u001b[0m\u001b[0;34m)\u001b[0m\u001b[0;34m\u001b[0m\u001b[0;34m\u001b[0m\u001b[0m\n\u001b[0m\u001b[1;32m     90\u001b[0m             \u001b[0;32mreturn\u001b[0m \u001b[0mwrapper\u001b[0m\u001b[0;34m\u001b[0m\u001b[0;34m\u001b[0m\u001b[0m\n\u001b[1;32m     91\u001b[0m \u001b[0;34m\u001b[0m\u001b[0m\n",
      "\u001b[0;32m~/miniforge3/envs/pytorch_env/lib/python3.8/site-packages/torch/autograd/grad_mode.py\u001b[0m in \u001b[0;36mdecorate_context\u001b[0;34m(*args, **kwargs)\u001b[0m\n\u001b[1;32m     25\u001b[0m         \u001b[0;32mdef\u001b[0m \u001b[0mdecorate_context\u001b[0m\u001b[0;34m(\u001b[0m\u001b[0;34m*\u001b[0m\u001b[0margs\u001b[0m\u001b[0;34m,\u001b[0m \u001b[0;34m**\u001b[0m\u001b[0mkwargs\u001b[0m\u001b[0;34m)\u001b[0m\u001b[0;34m:\u001b[0m\u001b[0;34m\u001b[0m\u001b[0;34m\u001b[0m\u001b[0m\n\u001b[1;32m     26\u001b[0m             \u001b[0;32mwith\u001b[0m \u001b[0mself\u001b[0m\u001b[0;34m.\u001b[0m\u001b[0m__class__\u001b[0m\u001b[0;34m(\u001b[0m\u001b[0;34m)\u001b[0m\u001b[0;34m:\u001b[0m\u001b[0;34m\u001b[0m\u001b[0;34m\u001b[0m\u001b[0m\n\u001b[0;32m---> 27\u001b[0;31m                 \u001b[0;32mreturn\u001b[0m \u001b[0mfunc\u001b[0m\u001b[0;34m(\u001b[0m\u001b[0;34m*\u001b[0m\u001b[0margs\u001b[0m\u001b[0;34m,\u001b[0m \u001b[0;34m**\u001b[0m\u001b[0mkwargs\u001b[0m\u001b[0;34m)\u001b[0m\u001b[0;34m\u001b[0m\u001b[0;34m\u001b[0m\u001b[0m\n\u001b[0m\u001b[1;32m     28\u001b[0m         \u001b[0;32mreturn\u001b[0m \u001b[0mcast\u001b[0m\u001b[0;34m(\u001b[0m\u001b[0mF\u001b[0m\u001b[0;34m,\u001b[0m \u001b[0mdecorate_context\u001b[0m\u001b[0;34m)\u001b[0m\u001b[0;34m\u001b[0m\u001b[0;34m\u001b[0m\u001b[0m\n\u001b[1;32m     29\u001b[0m \u001b[0;34m\u001b[0m\u001b[0m\n",
      "\u001b[0;32m~/miniforge3/envs/pytorch_env/lib/python3.8/site-packages/torch/optim/adam.py\u001b[0m in \u001b[0;36mstep\u001b[0;34m(self, closure)\u001b[0m\n\u001b[1;32m    101\u001b[0m \u001b[0;34m\u001b[0m\u001b[0m\n\u001b[1;32m    102\u001b[0m                     \u001b[0;31m# update the steps for each param group update\u001b[0m\u001b[0;34m\u001b[0m\u001b[0;34m\u001b[0m\u001b[0;34m\u001b[0m\u001b[0m\n\u001b[0;32m--> 103\u001b[0;31m                     \u001b[0mstate\u001b[0m\u001b[0;34m[\u001b[0m\u001b[0;34m'step'\u001b[0m\u001b[0;34m]\u001b[0m \u001b[0;34m+=\u001b[0m \u001b[0;36m1\u001b[0m\u001b[0;34m\u001b[0m\u001b[0;34m\u001b[0m\u001b[0m\n\u001b[0m\u001b[1;32m    104\u001b[0m                     \u001b[0;31m# record the step after step update\u001b[0m\u001b[0;34m\u001b[0m\u001b[0;34m\u001b[0m\u001b[0;34m\u001b[0m\u001b[0m\n\u001b[1;32m    105\u001b[0m                     \u001b[0mstate_steps\u001b[0m\u001b[0;34m.\u001b[0m\u001b[0mappend\u001b[0m\u001b[0;34m(\u001b[0m\u001b[0mstate\u001b[0m\u001b[0;34m[\u001b[0m\u001b[0;34m'step'\u001b[0m\u001b[0;34m]\u001b[0m\u001b[0;34m)\u001b[0m\u001b[0;34m\u001b[0m\u001b[0;34m\u001b[0m\u001b[0m\n",
      "\u001b[0;31mKeyboardInterrupt\u001b[0m: "
     ]
    }
   ],
   "source": [
    "main()"
   ]
  },
  {
   "cell_type": "code",
   "execution_count": null,
   "id": "tender-origin",
   "metadata": {},
   "outputs": [],
   "source": []
  },
  {
   "cell_type": "markdown",
   "id": "municipal-ambassador",
   "metadata": {},
   "source": [
    "## Alternative to Policy Network: DQN"
   ]
  },
  {
   "cell_type": "code",
   "execution_count": null,
   "id": "assigned-ministry",
   "metadata": {},
   "outputs": [],
   "source": [
    "class DQN(nn.Module):\n",
    "    def __init__(self):\n",
    "        super(DQN, self).__init__()\n",
    "        self.__model = nn.Sequential(\n",
    "            nn.Linear(state_space, 128),\n",
    "            nn.ReLU(),\n",
    "            nn.Linear(128, action_space),\n",
    "        )\n",
    "    def forward(self, x):\n",
    "        return self.__model(x)\n",
    "    \n",
    "    \n",
    "class DQNAgent:\n",
    "    def __init__(self, learning_rate, discount, epsilon, epsilon_min, decay, tau, batch_size=128):\n",
    "        self.learning_rate = learning_rate\n",
    "        self.discount = discount\n",
    "        self.epsilon = epsilon\n",
    "        self.epsilon_min = epsilon_min\n",
    "        self.decay = decay\n",
    "        self.tau = tau"
   ]
  }
 ],
 "metadata": {
  "kernelspec": {
   "display_name": "Python 3",
   "language": "python",
   "name": "python3"
  },
  "language_info": {
   "codemirror_mode": {
    "name": "ipython",
    "version": 3
   },
   "file_extension": ".py",
   "mimetype": "text/x-python",
   "name": "python",
   "nbconvert_exporter": "python",
   "pygments_lexer": "ipython3",
   "version": "3.8.8"
  }
 },
 "nbformat": 4,
 "nbformat_minor": 5
}
